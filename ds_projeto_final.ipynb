{
 "cells": [
  {
   "cell_type": "code",
   "execution_count": null,
   "id": "39c202e5",
   "metadata": {},
   "outputs": [],
   "source": []
  },
  {
   "cell_type": "code",
   "execution_count": 1,
   "id": "59e86770",
   "metadata": {
    "ExecuteTime": {
     "end_time": "2022-03-14T00:10:36.707597Z",
     "start_time": "2022-03-14T00:10:30.066730Z"
    }
   },
   "outputs": [],
   "source": [
    "import pandas as pd\n",
    "import string \n",
    "import seaborn as sns\n",
    "import matplotlib.pyplot as plt\n",
    "import numpy as np\n",
    "import re\n",
    "\n",
    "\n",
    "from sklearn.feature_selection import VarianceThreshold\n",
    "from sklearn.feature_selection import SelectKBest\n",
    "from sklearn.feature_selection import chi2\n",
    "from sklearn.feature_selection import RFE\n",
    "\n",
    "\n",
    "from sklearn.preprocessing import LabelEncoder\n",
    "\n",
    "from sklearn.metrics import roc_auc_score,roc_curve\n",
    "from sklearn.metrics import confusion_matrix\n",
    "\n",
    "from sklearn.model_selection import train_test_split, cross_validate\n",
    "from sklearn.model_selection import RandomizedSearchCV\n",
    "\n",
    "\n",
    "from imblearn.under_sampling import RandomUnderSampler, NearMiss\n",
    "from imblearn.over_sampling import RandomOverSampler, SMOTE\n",
    "\n",
    "\n",
    "from sklearn.ensemble import RandomForestClassifier\n",
    "from lightgbm import LGBMClassifier\n",
    "from xgboost import XGBClassifier\n",
    "\n",
    "from datetime import datetime\n",
    "import pickle"
   ]
  },
  {
   "cell_type": "code",
   "execution_count": null,
   "id": "fc30bb0d",
   "metadata": {},
   "outputs": [],
   "source": []
  },
  {
   "cell_type": "markdown",
   "id": "8144bf42",
   "metadata": {},
   "source": [
    "--- \n",
    "Toda variação de dados e estratégia será executada com 3 algoritmos: \n",
    "RandomForestClassifier, LGBMClassifier e XGBClassifier\n",
    "\n",
    "\n",
    "A escolha se deu por serem os 3 algoritmos que melhor responderam nos testes iniciais\n",
    "\n",
    "---"
   ]
  },
  {
   "cell_type": "markdown",
   "id": "710b6c49",
   "metadata": {},
   "source": [
    "A lista final de modelos e suas características será apresentada no DataFrame abaixo. \n",
    "\n",
    "Foram acrescentadas as informações:\n",
    "* colunas_selection: método e quantidade de colunas selecionadas\n",
    "* metodo_balanceamento: método usado para o balanceamento\n",
    "* data_cleaning: alguma informação relevante para datacleanin"
   ]
  },
  {
   "cell_type": "code",
   "execution_count": 2,
   "id": "ce2132f3",
   "metadata": {
    "ExecuteTime": {
     "end_time": "2022-03-14T00:10:36.723600Z",
     "start_time": "2022-03-14T00:10:36.709597Z"
    }
   },
   "outputs": [
    {
     "data": {
      "text/html": [
       "<div>\n",
       "<style scoped>\n",
       "    .dataframe tbody tr th:only-of-type {\n",
       "        vertical-align: middle;\n",
       "    }\n",
       "\n",
       "    .dataframe tbody tr th {\n",
       "        vertical-align: top;\n",
       "    }\n",
       "\n",
       "    .dataframe thead th {\n",
       "        text-align: right;\n",
       "    }\n",
       "</style>\n",
       "<table border=\"1\" class=\"dataframe\">\n",
       "  <thead>\n",
       "    <tr style=\"text-align: right;\">\n",
       "      <th></th>\n",
       "    </tr>\n",
       "  </thead>\n",
       "  <tbody>\n",
       "  </tbody>\n",
       "</table>\n",
       "</div>"
      ],
      "text/plain": [
       "Empty DataFrame\n",
       "Columns: []\n",
       "Index: []"
      ]
     },
     "execution_count": 2,
     "metadata": {},
     "output_type": "execute_result"
    }
   ],
   "source": [
    "lista_modelos = pd.DataFrame()\n",
    "lista_modelos"
   ]
  },
  {
   "cell_type": "code",
   "execution_count": null,
   "id": "0d79df61",
   "metadata": {},
   "outputs": [],
   "source": []
  },
  {
   "cell_type": "code",
   "execution_count": 3,
   "id": "293ca8ab",
   "metadata": {
    "ExecuteTime": {
     "end_time": "2022-03-14T00:10:36.739604Z",
     "start_time": "2022-03-14T00:10:36.724595Z"
    }
   },
   "outputs": [],
   "source": [
    "#Função para executar algoritmos \n",
    "\n",
    "def executaAlgoritmo(pestimator, pX_train, py_train, pX_test, py_test):\n",
    "\n",
    "    cv = cross_validate(estimator=pestimator, X=pX_train, y=py_train, scoring='roc_auc', return_train_score=True)\n",
    "    \n",
    "    for i in cv.keys():\n",
    "        print(f'{i} : {cv[i]}')\n",
    "    \n",
    "    \n",
    "    print('\\n')\n",
    "    pestimator.fit(pX_train, py_train)\n",
    "    \n",
    "    \n",
    "    f_y_proba = pestimator.predict_proba(pX_test)\n",
    "    f_y_pred = pestimator.predict(pX_test)\n",
    "\n",
    "    print(f'ROC_AUC:\\n{roc_auc_score(py_test, f_y_proba[:,1])}\\n')\n",
    "    print(f'Matriz de Confusão:\\n{confusion_matrix(py_test, f_y_pred)}')\n",
    "    \n",
    "    print('\\n')\n",
    "    \n",
    "    return pestimator, f_y_pred, f_y_proba, cv"
   ]
  },
  {
   "cell_type": "code",
   "execution_count": 4,
   "id": "181c139b",
   "metadata": {
    "ExecuteTime": {
     "end_time": "2022-03-14T00:10:36.755598Z",
     "start_time": "2022-03-14T00:10:36.741592Z"
    }
   },
   "outputs": [],
   "source": [
    "def avalicaoModelo(estimator, X, y):\n",
    "    y_proba = estimator.predict_proba(X)\n",
    "    y_pred = estimator.predict(X)\n",
    "\n",
    "    roc = roc_auc_score(y, y_proba[:,1])\n",
    "    cv = confusion_matrix(y, y_pred)\n",
    "    \n",
    "    print(f'ROC_AUC:\\n{roc}\\n')\n",
    "    print(f'Matriz de Confusão:\\n{cv}')\n",
    "    \n",
    "    return roc, cv\n",
    "    \n",
    "    "
   ]
  },
  {
   "cell_type": "code",
   "execution_count": null,
   "id": "42cacf3e",
   "metadata": {},
   "outputs": [],
   "source": []
  },
  {
   "cell_type": "code",
   "execution_count": null,
   "id": "c8c4a82d",
   "metadata": {},
   "outputs": [],
   "source": []
  },
  {
   "cell_type": "markdown",
   "id": "ba569c3c",
   "metadata": {},
   "source": [
    "# Análise Exploratória"
   ]
  },
  {
   "cell_type": "markdown",
   "id": "493f4838",
   "metadata": {},
   "source": [
    "Visualização geral dos dados. Como tem muita coluna, não foi feito nenhum gráfico de relação entre elas"
   ]
  },
  {
   "cell_type": "markdown",
   "id": "eae36eda",
   "metadata": {},
   "source": [
    "## Describes"
   ]
  },
  {
   "cell_type": "code",
   "execution_count": 5,
   "id": "c478b0ea",
   "metadata": {
    "ExecuteTime": {
     "end_time": "2022-03-14T00:10:39.182134Z",
     "start_time": "2022-03-14T00:10:36.757596Z"
    }
   },
   "outputs": [],
   "source": [
    "df = pd.read_csv('train_databricks.csv')\n",
    "df = df.rename(columns = lambda x:re.sub('[^A-Za-z0-9]+', '', x))"
   ]
  },
  {
   "cell_type": "code",
   "execution_count": 6,
   "id": "ae1e3c37",
   "metadata": {
    "ExecuteTime": {
     "end_time": "2022-03-14T00:10:39.198139Z",
     "start_time": "2022-03-14T00:10:39.184134Z"
    }
   },
   "outputs": [
    {
     "data": {
      "text/plain": [
       "(246008, 122)"
      ]
     },
     "execution_count": 6,
     "metadata": {},
     "output_type": "execute_result"
    }
   ],
   "source": [
    "df.shape"
   ]
  },
  {
   "cell_type": "code",
   "execution_count": 7,
   "id": "9dcb97e7",
   "metadata": {
    "ExecuteTime": {
     "end_time": "2022-03-14T00:10:39.246148Z",
     "start_time": "2022-03-14T00:10:39.200140Z"
    }
   },
   "outputs": [
    {
     "data": {
      "text/html": [
       "<div>\n",
       "<style scoped>\n",
       "    .dataframe tbody tr th:only-of-type {\n",
       "        vertical-align: middle;\n",
       "    }\n",
       "\n",
       "    .dataframe tbody tr th {\n",
       "        vertical-align: top;\n",
       "    }\n",
       "\n",
       "    .dataframe thead th {\n",
       "        text-align: right;\n",
       "    }\n",
       "</style>\n",
       "<table border=\"1\" class=\"dataframe\">\n",
       "  <thead>\n",
       "    <tr style=\"text-align: right;\">\n",
       "      <th></th>\n",
       "      <th>SKIDCURR</th>\n",
       "      <th>TARGET</th>\n",
       "      <th>CNTCHILDREN</th>\n",
       "      <th>DAYSBIRTH</th>\n",
       "      <th>DAYSEMPLOYED</th>\n",
       "      <th>DAYSREGISTRATION</th>\n",
       "      <th>DAYSIDPUBLISH</th>\n",
       "      <th>OWNCARAGE</th>\n",
       "      <th>FLAGMOBIL</th>\n",
       "      <th>FLAGEMPPHONE</th>\n",
       "      <th>...</th>\n",
       "      <th>ELEVATORSMEDI</th>\n",
       "      <th>ENTRANCESMEDI</th>\n",
       "      <th>FLOORSMAXMEDI</th>\n",
       "      <th>FLOORSMINMEDI</th>\n",
       "      <th>LANDAREAMEDI</th>\n",
       "      <th>LIVINGAPARTMENTSMEDI</th>\n",
       "      <th>LIVINGAREAMEDI</th>\n",
       "      <th>NONLIVINGAPARTMENTSMEDI</th>\n",
       "      <th>NONLIVINGAREAMEDI</th>\n",
       "      <th>TOTALAREAMODE</th>\n",
       "    </tr>\n",
       "  </thead>\n",
       "  <tbody>\n",
       "    <tr>\n",
       "      <th>0</th>\n",
       "      <td>336639</td>\n",
       "      <td>1</td>\n",
       "      <td>1</td>\n",
       "      <td>12226</td>\n",
       "      <td>496</td>\n",
       "      <td>4292</td>\n",
       "      <td>4668</td>\n",
       "      <td>11.0</td>\n",
       "      <td>1</td>\n",
       "      <td>1</td>\n",
       "      <td>...</td>\n",
       "      <td>NaN</td>\n",
       "      <td>NaN</td>\n",
       "      <td>NaN</td>\n",
       "      <td>NaN</td>\n",
       "      <td>NaN</td>\n",
       "      <td>NaN</td>\n",
       "      <td>NaN</td>\n",
       "      <td>NaN</td>\n",
       "      <td>NaN</td>\n",
       "      <td>NaN</td>\n",
       "    </tr>\n",
       "    <tr>\n",
       "      <th>1</th>\n",
       "      <td>289004</td>\n",
       "      <td>0</td>\n",
       "      <td>1</td>\n",
       "      <td>11562</td>\n",
       "      <td>710</td>\n",
       "      <td>1030</td>\n",
       "      <td>3558</td>\n",
       "      <td>NaN</td>\n",
       "      <td>1</td>\n",
       "      <td>1</td>\n",
       "      <td>...</td>\n",
       "      <td>0.2</td>\n",
       "      <td>0.1724</td>\n",
       "      <td>0.3333</td>\n",
       "      <td>0.375</td>\n",
       "      <td>0.0242</td>\n",
       "      <td>0.1539</td>\n",
       "      <td>0.1987</td>\n",
       "      <td>0.0039</td>\n",
       "      <td>0.0296</td>\n",
       "      <td>0.1703</td>\n",
       "    </tr>\n",
       "    <tr>\n",
       "      <th>2</th>\n",
       "      <td>240024</td>\n",
       "      <td>0</td>\n",
       "      <td>0</td>\n",
       "      <td>16427</td>\n",
       "      <td>3385</td>\n",
       "      <td>2208</td>\n",
       "      <td>4032</td>\n",
       "      <td>11.0</td>\n",
       "      <td>1</td>\n",
       "      <td>1</td>\n",
       "      <td>...</td>\n",
       "      <td>NaN</td>\n",
       "      <td>NaN</td>\n",
       "      <td>NaN</td>\n",
       "      <td>NaN</td>\n",
       "      <td>NaN</td>\n",
       "      <td>NaN</td>\n",
       "      <td>NaN</td>\n",
       "      <td>NaN</td>\n",
       "      <td>NaN</td>\n",
       "      <td>NaN</td>\n",
       "    </tr>\n",
       "    <tr>\n",
       "      <th>3</th>\n",
       "      <td>347406</td>\n",
       "      <td>1</td>\n",
       "      <td>2</td>\n",
       "      <td>12069</td>\n",
       "      <td>753</td>\n",
       "      <td>5961</td>\n",
       "      <td>3148</td>\n",
       "      <td>NaN</td>\n",
       "      <td>1</td>\n",
       "      <td>1</td>\n",
       "      <td>...</td>\n",
       "      <td>NaN</td>\n",
       "      <td>NaN</td>\n",
       "      <td>NaN</td>\n",
       "      <td>NaN</td>\n",
       "      <td>NaN</td>\n",
       "      <td>NaN</td>\n",
       "      <td>NaN</td>\n",
       "      <td>NaN</td>\n",
       "      <td>NaN</td>\n",
       "      <td>NaN</td>\n",
       "    </tr>\n",
       "    <tr>\n",
       "      <th>4</th>\n",
       "      <td>302895</td>\n",
       "      <td>0</td>\n",
       "      <td>2</td>\n",
       "      <td>13359</td>\n",
       "      <td>469</td>\n",
       "      <td>1404</td>\n",
       "      <td>4364</td>\n",
       "      <td>11.0</td>\n",
       "      <td>1</td>\n",
       "      <td>1</td>\n",
       "      <td>...</td>\n",
       "      <td>NaN</td>\n",
       "      <td>0.1379</td>\n",
       "      <td>0.1667</td>\n",
       "      <td>NaN</td>\n",
       "      <td>NaN</td>\n",
       "      <td>NaN</td>\n",
       "      <td>0.0696</td>\n",
       "      <td>NaN</td>\n",
       "      <td>NaN</td>\n",
       "      <td>0.0537</td>\n",
       "    </tr>\n",
       "  </tbody>\n",
       "</table>\n",
       "<p>5 rows × 122 columns</p>\n",
       "</div>"
      ],
      "text/plain": [
       "   SKIDCURR  TARGET  CNTCHILDREN  DAYSBIRTH  DAYSEMPLOYED  DAYSREGISTRATION  \\\n",
       "0    336639       1            1      12226           496              4292   \n",
       "1    289004       0            1      11562           710              1030   \n",
       "2    240024       0            0      16427          3385              2208   \n",
       "3    347406       1            2      12069           753              5961   \n",
       "4    302895       0            2      13359           469              1404   \n",
       "\n",
       "   DAYSIDPUBLISH  OWNCARAGE  FLAGMOBIL  FLAGEMPPHONE  ...  ELEVATORSMEDI  \\\n",
       "0           4668       11.0          1             1  ...            NaN   \n",
       "1           3558        NaN          1             1  ...            0.2   \n",
       "2           4032       11.0          1             1  ...            NaN   \n",
       "3           3148        NaN          1             1  ...            NaN   \n",
       "4           4364       11.0          1             1  ...            NaN   \n",
       "\n",
       "   ENTRANCESMEDI  FLOORSMAXMEDI  FLOORSMINMEDI  LANDAREAMEDI  \\\n",
       "0            NaN            NaN            NaN           NaN   \n",
       "1         0.1724         0.3333          0.375        0.0242   \n",
       "2            NaN            NaN            NaN           NaN   \n",
       "3            NaN            NaN            NaN           NaN   \n",
       "4         0.1379         0.1667            NaN           NaN   \n",
       "\n",
       "   LIVINGAPARTMENTSMEDI  LIVINGAREAMEDI  NONLIVINGAPARTMENTSMEDI  \\\n",
       "0                   NaN             NaN                      NaN   \n",
       "1                0.1539          0.1987                   0.0039   \n",
       "2                   NaN             NaN                      NaN   \n",
       "3                   NaN             NaN                      NaN   \n",
       "4                   NaN          0.0696                      NaN   \n",
       "\n",
       "   NONLIVINGAREAMEDI  TOTALAREAMODE  \n",
       "0                NaN            NaN  \n",
       "1             0.0296         0.1703  \n",
       "2                NaN            NaN  \n",
       "3                NaN            NaN  \n",
       "4                NaN         0.0537  \n",
       "\n",
       "[5 rows x 122 columns]"
      ]
     },
     "execution_count": 7,
     "metadata": {},
     "output_type": "execute_result"
    }
   ],
   "source": [
    "df.head()"
   ]
  },
  {
   "cell_type": "markdown",
   "id": "970d7b7e",
   "metadata": {},
   "source": [
    "---\n",
    "Describe separado por tipos pra facilitar a visualização\n",
    "\n",
    "---"
   ]
  },
  {
   "cell_type": "code",
   "execution_count": null,
   "id": "1817a236",
   "metadata": {},
   "outputs": [],
   "source": []
  },
  {
   "cell_type": "code",
   "execution_count": 8,
   "id": "caebdca2",
   "metadata": {
    "ExecuteTime": {
     "end_time": "2022-03-14T00:10:39.675245Z",
     "start_time": "2022-03-14T00:10:39.248149Z"
    }
   },
   "outputs": [
    {
     "data": {
      "text/html": [
       "<div>\n",
       "<style scoped>\n",
       "    .dataframe tbody tr th:only-of-type {\n",
       "        vertical-align: middle;\n",
       "    }\n",
       "\n",
       "    .dataframe tbody tr th {\n",
       "        vertical-align: top;\n",
       "    }\n",
       "\n",
       "    .dataframe thead th {\n",
       "        text-align: right;\n",
       "    }\n",
       "</style>\n",
       "<table border=\"1\" class=\"dataframe\">\n",
       "  <thead>\n",
       "    <tr style=\"text-align: right;\">\n",
       "      <th></th>\n",
       "      <th>NAMECONTRACTTYPE</th>\n",
       "      <th>CODEGENDER</th>\n",
       "      <th>FLAGOWNCAR</th>\n",
       "      <th>FLAGOWNREALTY</th>\n",
       "      <th>NAMETYPESUITE</th>\n",
       "      <th>NAMEINCOMETYPE</th>\n",
       "      <th>NAMEEDUCATIONTYPE</th>\n",
       "      <th>NAMEFAMILYSTATUS</th>\n",
       "      <th>NAMEHOUSINGTYPE</th>\n",
       "      <th>OCCUPATIONTYPE</th>\n",
       "      <th>WEEKDAYAPPRPROCESSSTART</th>\n",
       "      <th>ORGANIZATIONTYPE</th>\n",
       "      <th>FONDKAPREMONTMODE</th>\n",
       "      <th>HOUSETYPEMODE</th>\n",
       "      <th>WALLSMATERIALMODE</th>\n",
       "      <th>EMERGENCYSTATEMODE</th>\n",
       "    </tr>\n",
       "  </thead>\n",
       "  <tbody>\n",
       "    <tr>\n",
       "      <th>count</th>\n",
       "      <td>246008</td>\n",
       "      <td>246008</td>\n",
       "      <td>246008</td>\n",
       "      <td>246008</td>\n",
       "      <td>244960</td>\n",
       "      <td>246008</td>\n",
       "      <td>246008</td>\n",
       "      <td>246008</td>\n",
       "      <td>246008</td>\n",
       "      <td>168771</td>\n",
       "      <td>246008</td>\n",
       "      <td>246008</td>\n",
       "      <td>77616</td>\n",
       "      <td>122468</td>\n",
       "      <td>120844</td>\n",
       "      <td>129247</td>\n",
       "    </tr>\n",
       "    <tr>\n",
       "      <th>unique</th>\n",
       "      <td>2</td>\n",
       "      <td>3</td>\n",
       "      <td>2</td>\n",
       "      <td>2</td>\n",
       "      <td>7</td>\n",
       "      <td>8</td>\n",
       "      <td>5</td>\n",
       "      <td>6</td>\n",
       "      <td>6</td>\n",
       "      <td>18</td>\n",
       "      <td>7</td>\n",
       "      <td>58</td>\n",
       "      <td>4</td>\n",
       "      <td>3</td>\n",
       "      <td>7</td>\n",
       "      <td>2</td>\n",
       "    </tr>\n",
       "    <tr>\n",
       "      <th>top</th>\n",
       "      <td>Cash loans</td>\n",
       "      <td>F</td>\n",
       "      <td>N</td>\n",
       "      <td>Y</td>\n",
       "      <td>Unaccompanied</td>\n",
       "      <td>Working</td>\n",
       "      <td>Secondary / secondary special</td>\n",
       "      <td>Married</td>\n",
       "      <td>House / apartment</td>\n",
       "      <td>Laborers</td>\n",
       "      <td>TUESDAY</td>\n",
       "      <td>Business Entity Type 3</td>\n",
       "      <td>reg oper account</td>\n",
       "      <td>block of flats</td>\n",
       "      <td>Panel</td>\n",
       "      <td>No</td>\n",
       "    </tr>\n",
       "    <tr>\n",
       "      <th>freq</th>\n",
       "      <td>222622</td>\n",
       "      <td>161867</td>\n",
       "      <td>162355</td>\n",
       "      <td>170535</td>\n",
       "      <td>198726</td>\n",
       "      <td>126919</td>\n",
       "      <td>174831</td>\n",
       "      <td>157074</td>\n",
       "      <td>218258</td>\n",
       "      <td>44126</td>\n",
       "      <td>43046</td>\n",
       "      <td>54495</td>\n",
       "      <td>58983</td>\n",
       "      <td>120287</td>\n",
       "      <td>52819</td>\n",
       "      <td>127375</td>\n",
       "    </tr>\n",
       "  </tbody>\n",
       "</table>\n",
       "</div>"
      ],
      "text/plain": [
       "       NAMECONTRACTTYPE CODEGENDER FLAGOWNCAR FLAGOWNREALTY  NAMETYPESUITE  \\\n",
       "count            246008     246008     246008        246008         244960   \n",
       "unique                2          3          2             2              7   \n",
       "top          Cash loans          F          N             Y  Unaccompanied   \n",
       "freq             222622     161867     162355        170535         198726   \n",
       "\n",
       "       NAMEINCOMETYPE              NAMEEDUCATIONTYPE NAMEFAMILYSTATUS  \\\n",
       "count          246008                         246008           246008   \n",
       "unique              8                              5                6   \n",
       "top           Working  Secondary / secondary special          Married   \n",
       "freq           126919                         174831           157074   \n",
       "\n",
       "          NAMEHOUSINGTYPE OCCUPATIONTYPE WEEKDAYAPPRPROCESSSTART  \\\n",
       "count              246008         168771                  246008   \n",
       "unique                  6             18                       7   \n",
       "top     House / apartment       Laborers                 TUESDAY   \n",
       "freq               218258          44126                   43046   \n",
       "\n",
       "              ORGANIZATIONTYPE FONDKAPREMONTMODE   HOUSETYPEMODE  \\\n",
       "count                   246008             77616          122468   \n",
       "unique                      58                 4               3   \n",
       "top     Business Entity Type 3  reg oper account  block of flats   \n",
       "freq                     54495             58983          120287   \n",
       "\n",
       "       WALLSMATERIALMODE EMERGENCYSTATEMODE  \n",
       "count             120844             129247  \n",
       "unique                 7                  2  \n",
       "top                Panel                 No  \n",
       "freq               52819             127375  "
      ]
     },
     "execution_count": 8,
     "metadata": {},
     "output_type": "execute_result"
    }
   ],
   "source": [
    "df.describe(include='object')"
   ]
  },
  {
   "cell_type": "code",
   "execution_count": null,
   "id": "351944a6",
   "metadata": {},
   "outputs": [],
   "source": []
  },
  {
   "cell_type": "code",
   "execution_count": 9,
   "id": "28bd331c",
   "metadata": {
    "ExecuteTime": {
     "end_time": "2022-03-14T00:10:40.138363Z",
     "start_time": "2022-03-14T00:10:39.677246Z"
    }
   },
   "outputs": [
    {
     "data": {
      "text/html": [
       "<div>\n",
       "<style scoped>\n",
       "    .dataframe tbody tr th:only-of-type {\n",
       "        vertical-align: middle;\n",
       "    }\n",
       "\n",
       "    .dataframe tbody tr th {\n",
       "        vertical-align: top;\n",
       "    }\n",
       "\n",
       "    .dataframe thead th {\n",
       "        text-align: right;\n",
       "    }\n",
       "</style>\n",
       "<table border=\"1\" class=\"dataframe\">\n",
       "  <thead>\n",
       "    <tr style=\"text-align: right;\">\n",
       "      <th></th>\n",
       "      <th>SKIDCURR</th>\n",
       "      <th>TARGET</th>\n",
       "      <th>CNTCHILDREN</th>\n",
       "      <th>DAYSBIRTH</th>\n",
       "      <th>DAYSEMPLOYED</th>\n",
       "      <th>DAYSREGISTRATION</th>\n",
       "      <th>DAYSIDPUBLISH</th>\n",
       "      <th>FLAGMOBIL</th>\n",
       "      <th>FLAGEMPPHONE</th>\n",
       "      <th>FLAGWORKPHONE</th>\n",
       "      <th>...</th>\n",
       "      <th>FLAGDOCUMENT12</th>\n",
       "      <th>FLAGDOCUMENT13</th>\n",
       "      <th>FLAGDOCUMENT14</th>\n",
       "      <th>FLAGDOCUMENT15</th>\n",
       "      <th>FLAGDOCUMENT16</th>\n",
       "      <th>FLAGDOCUMENT17</th>\n",
       "      <th>FLAGDOCUMENT18</th>\n",
       "      <th>FLAGDOCUMENT19</th>\n",
       "      <th>FLAGDOCUMENT20</th>\n",
       "      <th>FLAGDOCUMENT21</th>\n",
       "    </tr>\n",
       "  </thead>\n",
       "  <tbody>\n",
       "    <tr>\n",
       "      <th>count</th>\n",
       "      <td>246008.000000</td>\n",
       "      <td>246008.000000</td>\n",
       "      <td>246008.000000</td>\n",
       "      <td>246008.000000</td>\n",
       "      <td>246008.000000</td>\n",
       "      <td>246008.000000</td>\n",
       "      <td>246008.000000</td>\n",
       "      <td>246008.000000</td>\n",
       "      <td>246008.000000</td>\n",
       "      <td>246008.000000</td>\n",
       "      <td>...</td>\n",
       "      <td>246008.000000</td>\n",
       "      <td>246008.000000</td>\n",
       "      <td>246008.000000</td>\n",
       "      <td>246008.000000</td>\n",
       "      <td>246008.000000</td>\n",
       "      <td>246008.000000</td>\n",
       "      <td>246008.000000</td>\n",
       "      <td>246008.000000</td>\n",
       "      <td>246008.000000</td>\n",
       "      <td>246008.000000</td>\n",
       "    </tr>\n",
       "    <tr>\n",
       "      <th>mean</th>\n",
       "      <td>278280.072908</td>\n",
       "      <td>0.081176</td>\n",
       "      <td>0.415527</td>\n",
       "      <td>16042.794393</td>\n",
       "      <td>-63963.755699</td>\n",
       "      <td>4988.033300</td>\n",
       "      <td>2991.647642</td>\n",
       "      <td>0.999996</td>\n",
       "      <td>0.819481</td>\n",
       "      <td>0.199095</td>\n",
       "      <td>...</td>\n",
       "      <td>0.000008</td>\n",
       "      <td>0.003581</td>\n",
       "      <td>0.002951</td>\n",
       "      <td>0.001175</td>\n",
       "      <td>0.009996</td>\n",
       "      <td>0.000264</td>\n",
       "      <td>0.007975</td>\n",
       "      <td>0.000589</td>\n",
       "      <td>0.000508</td>\n",
       "      <td>0.000289</td>\n",
       "    </tr>\n",
       "    <tr>\n",
       "      <th>std</th>\n",
       "      <td>102790.909988</td>\n",
       "      <td>0.273106</td>\n",
       "      <td>0.719922</td>\n",
       "      <td>4365.973763</td>\n",
       "      <td>141400.318322</td>\n",
       "      <td>3520.987047</td>\n",
       "      <td>1510.020637</td>\n",
       "      <td>0.002016</td>\n",
       "      <td>0.384620</td>\n",
       "      <td>0.399321</td>\n",
       "      <td>...</td>\n",
       "      <td>0.002851</td>\n",
       "      <td>0.059736</td>\n",
       "      <td>0.054244</td>\n",
       "      <td>0.034255</td>\n",
       "      <td>0.099477</td>\n",
       "      <td>0.016253</td>\n",
       "      <td>0.088948</td>\n",
       "      <td>0.024271</td>\n",
       "      <td>0.022536</td>\n",
       "      <td>0.016986</td>\n",
       "    </tr>\n",
       "    <tr>\n",
       "      <th>min</th>\n",
       "      <td>100002.000000</td>\n",
       "      <td>0.000000</td>\n",
       "      <td>0.000000</td>\n",
       "      <td>7489.000000</td>\n",
       "      <td>-365243.000000</td>\n",
       "      <td>0.000000</td>\n",
       "      <td>0.000000</td>\n",
       "      <td>0.000000</td>\n",
       "      <td>0.000000</td>\n",
       "      <td>0.000000</td>\n",
       "      <td>...</td>\n",
       "      <td>0.000000</td>\n",
       "      <td>0.000000</td>\n",
       "      <td>0.000000</td>\n",
       "      <td>0.000000</td>\n",
       "      <td>0.000000</td>\n",
       "      <td>0.000000</td>\n",
       "      <td>0.000000</td>\n",
       "      <td>0.000000</td>\n",
       "      <td>0.000000</td>\n",
       "      <td>0.000000</td>\n",
       "    </tr>\n",
       "    <tr>\n",
       "      <th>25%</th>\n",
       "      <td>189165.500000</td>\n",
       "      <td>0.000000</td>\n",
       "      <td>0.000000</td>\n",
       "      <td>12418.000000</td>\n",
       "      <td>289.000000</td>\n",
       "      <td>2018.000000</td>\n",
       "      <td>1715.000000</td>\n",
       "      <td>1.000000</td>\n",
       "      <td>1.000000</td>\n",
       "      <td>0.000000</td>\n",
       "      <td>...</td>\n",
       "      <td>0.000000</td>\n",
       "      <td>0.000000</td>\n",
       "      <td>0.000000</td>\n",
       "      <td>0.000000</td>\n",
       "      <td>0.000000</td>\n",
       "      <td>0.000000</td>\n",
       "      <td>0.000000</td>\n",
       "      <td>0.000000</td>\n",
       "      <td>0.000000</td>\n",
       "      <td>0.000000</td>\n",
       "    </tr>\n",
       "    <tr>\n",
       "      <th>50%</th>\n",
       "      <td>278392.500000</td>\n",
       "      <td>0.000000</td>\n",
       "      <td>0.000000</td>\n",
       "      <td>15763.000000</td>\n",
       "      <td>1215.000000</td>\n",
       "      <td>4503.000000</td>\n",
       "      <td>3250.000000</td>\n",
       "      <td>1.000000</td>\n",
       "      <td>1.000000</td>\n",
       "      <td>0.000000</td>\n",
       "      <td>...</td>\n",
       "      <td>0.000000</td>\n",
       "      <td>0.000000</td>\n",
       "      <td>0.000000</td>\n",
       "      <td>0.000000</td>\n",
       "      <td>0.000000</td>\n",
       "      <td>0.000000</td>\n",
       "      <td>0.000000</td>\n",
       "      <td>0.000000</td>\n",
       "      <td>0.000000</td>\n",
       "      <td>0.000000</td>\n",
       "    </tr>\n",
       "    <tr>\n",
       "      <th>75%</th>\n",
       "      <td>367272.250000</td>\n",
       "      <td>0.000000</td>\n",
       "      <td>1.000000</td>\n",
       "      <td>19691.000000</td>\n",
       "      <td>2758.000000</td>\n",
       "      <td>7481.000000</td>\n",
       "      <td>4297.250000</td>\n",
       "      <td>1.000000</td>\n",
       "      <td>1.000000</td>\n",
       "      <td>0.000000</td>\n",
       "      <td>...</td>\n",
       "      <td>0.000000</td>\n",
       "      <td>0.000000</td>\n",
       "      <td>0.000000</td>\n",
       "      <td>0.000000</td>\n",
       "      <td>0.000000</td>\n",
       "      <td>0.000000</td>\n",
       "      <td>0.000000</td>\n",
       "      <td>0.000000</td>\n",
       "      <td>0.000000</td>\n",
       "      <td>0.000000</td>\n",
       "    </tr>\n",
       "    <tr>\n",
       "      <th>max</th>\n",
       "      <td>456255.000000</td>\n",
       "      <td>1.000000</td>\n",
       "      <td>19.000000</td>\n",
       "      <td>25229.000000</td>\n",
       "      <td>17912.000000</td>\n",
       "      <td>23738.000000</td>\n",
       "      <td>7197.000000</td>\n",
       "      <td>1.000000</td>\n",
       "      <td>1.000000</td>\n",
       "      <td>1.000000</td>\n",
       "      <td>...</td>\n",
       "      <td>1.000000</td>\n",
       "      <td>1.000000</td>\n",
       "      <td>1.000000</td>\n",
       "      <td>1.000000</td>\n",
       "      <td>1.000000</td>\n",
       "      <td>1.000000</td>\n",
       "      <td>1.000000</td>\n",
       "      <td>1.000000</td>\n",
       "      <td>1.000000</td>\n",
       "      <td>1.000000</td>\n",
       "    </tr>\n",
       "  </tbody>\n",
       "</table>\n",
       "<p>8 rows × 42 columns</p>\n",
       "</div>"
      ],
      "text/plain": [
       "            SKIDCURR         TARGET    CNTCHILDREN      DAYSBIRTH  \\\n",
       "count  246008.000000  246008.000000  246008.000000  246008.000000   \n",
       "mean   278280.072908       0.081176       0.415527   16042.794393   \n",
       "std    102790.909988       0.273106       0.719922    4365.973763   \n",
       "min    100002.000000       0.000000       0.000000    7489.000000   \n",
       "25%    189165.500000       0.000000       0.000000   12418.000000   \n",
       "50%    278392.500000       0.000000       0.000000   15763.000000   \n",
       "75%    367272.250000       0.000000       1.000000   19691.000000   \n",
       "max    456255.000000       1.000000      19.000000   25229.000000   \n",
       "\n",
       "        DAYSEMPLOYED  DAYSREGISTRATION  DAYSIDPUBLISH      FLAGMOBIL  \\\n",
       "count  246008.000000     246008.000000  246008.000000  246008.000000   \n",
       "mean   -63963.755699       4988.033300    2991.647642       0.999996   \n",
       "std    141400.318322       3520.987047    1510.020637       0.002016   \n",
       "min   -365243.000000          0.000000       0.000000       0.000000   \n",
       "25%       289.000000       2018.000000    1715.000000       1.000000   \n",
       "50%      1215.000000       4503.000000    3250.000000       1.000000   \n",
       "75%      2758.000000       7481.000000    4297.250000       1.000000   \n",
       "max     17912.000000      23738.000000    7197.000000       1.000000   \n",
       "\n",
       "        FLAGEMPPHONE  FLAGWORKPHONE  ...  FLAGDOCUMENT12  FLAGDOCUMENT13  \\\n",
       "count  246008.000000  246008.000000  ...   246008.000000   246008.000000   \n",
       "mean        0.819481       0.199095  ...        0.000008        0.003581   \n",
       "std         0.384620       0.399321  ...        0.002851        0.059736   \n",
       "min         0.000000       0.000000  ...        0.000000        0.000000   \n",
       "25%         1.000000       0.000000  ...        0.000000        0.000000   \n",
       "50%         1.000000       0.000000  ...        0.000000        0.000000   \n",
       "75%         1.000000       0.000000  ...        0.000000        0.000000   \n",
       "max         1.000000       1.000000  ...        1.000000        1.000000   \n",
       "\n",
       "       FLAGDOCUMENT14  FLAGDOCUMENT15  FLAGDOCUMENT16  FLAGDOCUMENT17  \\\n",
       "count   246008.000000   246008.000000   246008.000000   246008.000000   \n",
       "mean         0.002951        0.001175        0.009996        0.000264   \n",
       "std          0.054244        0.034255        0.099477        0.016253   \n",
       "min          0.000000        0.000000        0.000000        0.000000   \n",
       "25%          0.000000        0.000000        0.000000        0.000000   \n",
       "50%          0.000000        0.000000        0.000000        0.000000   \n",
       "75%          0.000000        0.000000        0.000000        0.000000   \n",
       "max          1.000000        1.000000        1.000000        1.000000   \n",
       "\n",
       "       FLAGDOCUMENT18  FLAGDOCUMENT19  FLAGDOCUMENT20  FLAGDOCUMENT21  \n",
       "count   246008.000000   246008.000000   246008.000000   246008.000000  \n",
       "mean         0.007975        0.000589        0.000508        0.000289  \n",
       "std          0.088948        0.024271        0.022536        0.016986  \n",
       "min          0.000000        0.000000        0.000000        0.000000  \n",
       "25%          0.000000        0.000000        0.000000        0.000000  \n",
       "50%          0.000000        0.000000        0.000000        0.000000  \n",
       "75%          0.000000        0.000000        0.000000        0.000000  \n",
       "max          1.000000        1.000000        1.000000        1.000000  \n",
       "\n",
       "[8 rows x 42 columns]"
      ]
     },
     "execution_count": 9,
     "metadata": {},
     "output_type": "execute_result"
    }
   ],
   "source": [
    "df.describe(include='int')"
   ]
  },
  {
   "cell_type": "code",
   "execution_count": 10,
   "id": "89e8725e",
   "metadata": {
    "ExecuteTime": {
     "end_time": "2022-03-14T00:10:41.445657Z",
     "start_time": "2022-03-14T00:10:40.142361Z"
    }
   },
   "outputs": [
    {
     "data": {
      "text/html": [
       "<div>\n",
       "<style scoped>\n",
       "    .dataframe tbody tr th:only-of-type {\n",
       "        vertical-align: middle;\n",
       "    }\n",
       "\n",
       "    .dataframe tbody tr th {\n",
       "        vertical-align: top;\n",
       "    }\n",
       "\n",
       "    .dataframe thead th {\n",
       "        text-align: right;\n",
       "    }\n",
       "</style>\n",
       "<table border=\"1\" class=\"dataframe\">\n",
       "  <thead>\n",
       "    <tr style=\"text-align: right;\">\n",
       "      <th></th>\n",
       "      <th>OWNCARAGE</th>\n",
       "      <th>CNTFAMMEMBERS</th>\n",
       "      <th>OBS30CNTSOCIALCIRCLE</th>\n",
       "      <th>DEF30CNTSOCIALCIRCLE</th>\n",
       "      <th>OBS60CNTSOCIALCIRCLE</th>\n",
       "      <th>DEF60CNTSOCIALCIRCLE</th>\n",
       "      <th>DAYSLASTPHONECHANGE</th>\n",
       "      <th>AMTREQCREDITBUREAUHOUR</th>\n",
       "      <th>AMTREQCREDITBUREAUDAY</th>\n",
       "      <th>AMTREQCREDITBUREAUWEEK</th>\n",
       "      <th>...</th>\n",
       "      <th>ELEVATORSMEDI</th>\n",
       "      <th>ENTRANCESMEDI</th>\n",
       "      <th>FLOORSMAXMEDI</th>\n",
       "      <th>FLOORSMINMEDI</th>\n",
       "      <th>LANDAREAMEDI</th>\n",
       "      <th>LIVINGAPARTMENTSMEDI</th>\n",
       "      <th>LIVINGAREAMEDI</th>\n",
       "      <th>NONLIVINGAPARTMENTSMEDI</th>\n",
       "      <th>NONLIVINGAREAMEDI</th>\n",
       "      <th>TOTALAREAMODE</th>\n",
       "    </tr>\n",
       "  </thead>\n",
       "  <tbody>\n",
       "    <tr>\n",
       "      <th>count</th>\n",
       "      <td>83649.000000</td>\n",
       "      <td>246007.000000</td>\n",
       "      <td>245195.000000</td>\n",
       "      <td>245195.000000</td>\n",
       "      <td>245195.000000</td>\n",
       "      <td>245195.000000</td>\n",
       "      <td>246007.000000</td>\n",
       "      <td>212836.000000</td>\n",
       "      <td>212836.000000</td>\n",
       "      <td>212836.000000</td>\n",
       "      <td>...</td>\n",
       "      <td>114800.000000</td>\n",
       "      <td>122064.000000</td>\n",
       "      <td>123525.000000</td>\n",
       "      <td>79009.000000</td>\n",
       "      <td>99921.000000</td>\n",
       "      <td>77730.000000</td>\n",
       "      <td>122391.000000</td>\n",
       "      <td>75094.000000</td>\n",
       "      <td>110148.000000</td>\n",
       "      <td>127171.000000</td>\n",
       "    </tr>\n",
       "    <tr>\n",
       "      <th>mean</th>\n",
       "      <td>12.034346</td>\n",
       "      <td>2.150760</td>\n",
       "      <td>1.423598</td>\n",
       "      <td>0.144045</td>\n",
       "      <td>1.406803</td>\n",
       "      <td>0.100691</td>\n",
       "      <td>962.705390</td>\n",
       "      <td>0.006291</td>\n",
       "      <td>0.006944</td>\n",
       "      <td>0.034487</td>\n",
       "      <td>...</td>\n",
       "      <td>0.078030</td>\n",
       "      <td>0.149187</td>\n",
       "      <td>0.225701</td>\n",
       "      <td>0.231482</td>\n",
       "      <td>0.066967</td>\n",
       "      <td>0.101897</td>\n",
       "      <td>0.108541</td>\n",
       "      <td>0.008503</td>\n",
       "      <td>0.028191</td>\n",
       "      <td>0.102518</td>\n",
       "    </tr>\n",
       "    <tr>\n",
       "      <th>std</th>\n",
       "      <td>11.861705</td>\n",
       "      <td>0.909167</td>\n",
       "      <td>2.423894</td>\n",
       "      <td>0.449464</td>\n",
       "      <td>2.402398</td>\n",
       "      <td>0.364917</td>\n",
       "      <td>826.831325</td>\n",
       "      <td>0.083236</td>\n",
       "      <td>0.109538</td>\n",
       "      <td>0.204179</td>\n",
       "      <td>...</td>\n",
       "      <td>0.134423</td>\n",
       "      <td>0.100206</td>\n",
       "      <td>0.144954</td>\n",
       "      <td>0.161801</td>\n",
       "      <td>0.081824</td>\n",
       "      <td>0.093252</td>\n",
       "      <td>0.112075</td>\n",
       "      <td>0.046307</td>\n",
       "      <td>0.069892</td>\n",
       "      <td>0.107308</td>\n",
       "    </tr>\n",
       "    <tr>\n",
       "      <th>min</th>\n",
       "      <td>0.000000</td>\n",
       "      <td>1.000000</td>\n",
       "      <td>0.000000</td>\n",
       "      <td>0.000000</td>\n",
       "      <td>0.000000</td>\n",
       "      <td>0.000000</td>\n",
       "      <td>0.000000</td>\n",
       "      <td>0.000000</td>\n",
       "      <td>0.000000</td>\n",
       "      <td>0.000000</td>\n",
       "      <td>...</td>\n",
       "      <td>0.000000</td>\n",
       "      <td>0.000000</td>\n",
       "      <td>0.000000</td>\n",
       "      <td>0.000000</td>\n",
       "      <td>0.000000</td>\n",
       "      <td>0.000000</td>\n",
       "      <td>0.000000</td>\n",
       "      <td>0.000000</td>\n",
       "      <td>0.000000</td>\n",
       "      <td>0.000000</td>\n",
       "    </tr>\n",
       "    <tr>\n",
       "      <th>25%</th>\n",
       "      <td>5.000000</td>\n",
       "      <td>2.000000</td>\n",
       "      <td>0.000000</td>\n",
       "      <td>0.000000</td>\n",
       "      <td>0.000000</td>\n",
       "      <td>0.000000</td>\n",
       "      <td>273.000000</td>\n",
       "      <td>0.000000</td>\n",
       "      <td>0.000000</td>\n",
       "      <td>0.000000</td>\n",
       "      <td>...</td>\n",
       "      <td>0.000000</td>\n",
       "      <td>0.069000</td>\n",
       "      <td>0.166700</td>\n",
       "      <td>0.083300</td>\n",
       "      <td>0.018700</td>\n",
       "      <td>0.051300</td>\n",
       "      <td>0.045700</td>\n",
       "      <td>0.000000</td>\n",
       "      <td>0.000000</td>\n",
       "      <td>0.041200</td>\n",
       "    </tr>\n",
       "    <tr>\n",
       "      <th>50%</th>\n",
       "      <td>9.000000</td>\n",
       "      <td>2.000000</td>\n",
       "      <td>0.000000</td>\n",
       "      <td>0.000000</td>\n",
       "      <td>0.000000</td>\n",
       "      <td>0.000000</td>\n",
       "      <td>757.000000</td>\n",
       "      <td>0.000000</td>\n",
       "      <td>0.000000</td>\n",
       "      <td>0.000000</td>\n",
       "      <td>...</td>\n",
       "      <td>0.000000</td>\n",
       "      <td>0.137900</td>\n",
       "      <td>0.166700</td>\n",
       "      <td>0.208300</td>\n",
       "      <td>0.048600</td>\n",
       "      <td>0.076100</td>\n",
       "      <td>0.074900</td>\n",
       "      <td>0.000000</td>\n",
       "      <td>0.003050</td>\n",
       "      <td>0.068800</td>\n",
       "    </tr>\n",
       "    <tr>\n",
       "      <th>75%</th>\n",
       "      <td>15.000000</td>\n",
       "      <td>3.000000</td>\n",
       "      <td>2.000000</td>\n",
       "      <td>0.000000</td>\n",
       "      <td>2.000000</td>\n",
       "      <td>0.000000</td>\n",
       "      <td>1570.000000</td>\n",
       "      <td>0.000000</td>\n",
       "      <td>0.000000</td>\n",
       "      <td>0.000000</td>\n",
       "      <td>...</td>\n",
       "      <td>0.120000</td>\n",
       "      <td>0.206900</td>\n",
       "      <td>0.333300</td>\n",
       "      <td>0.375000</td>\n",
       "      <td>0.086500</td>\n",
       "      <td>0.123100</td>\n",
       "      <td>0.130300</td>\n",
       "      <td>0.003900</td>\n",
       "      <td>0.026600</td>\n",
       "      <td>0.127500</td>\n",
       "    </tr>\n",
       "    <tr>\n",
       "      <th>max</th>\n",
       "      <td>91.000000</td>\n",
       "      <td>20.000000</td>\n",
       "      <td>348.000000</td>\n",
       "      <td>34.000000</td>\n",
       "      <td>344.000000</td>\n",
       "      <td>24.000000</td>\n",
       "      <td>4292.000000</td>\n",
       "      <td>4.000000</td>\n",
       "      <td>9.000000</td>\n",
       "      <td>8.000000</td>\n",
       "      <td>...</td>\n",
       "      <td>1.000000</td>\n",
       "      <td>1.000000</td>\n",
       "      <td>1.000000</td>\n",
       "      <td>1.000000</td>\n",
       "      <td>1.000000</td>\n",
       "      <td>1.000000</td>\n",
       "      <td>1.000000</td>\n",
       "      <td>1.000000</td>\n",
       "      <td>1.000000</td>\n",
       "      <td>1.000000</td>\n",
       "    </tr>\n",
       "  </tbody>\n",
       "</table>\n",
       "<p>8 rows × 64 columns</p>\n",
       "</div>"
      ],
      "text/plain": [
       "          OWNCARAGE  CNTFAMMEMBERS  OBS30CNTSOCIALCIRCLE  \\\n",
       "count  83649.000000  246007.000000         245195.000000   \n",
       "mean      12.034346       2.150760              1.423598   \n",
       "std       11.861705       0.909167              2.423894   \n",
       "min        0.000000       1.000000              0.000000   \n",
       "25%        5.000000       2.000000              0.000000   \n",
       "50%        9.000000       2.000000              0.000000   \n",
       "75%       15.000000       3.000000              2.000000   \n",
       "max       91.000000      20.000000            348.000000   \n",
       "\n",
       "       DEF30CNTSOCIALCIRCLE  OBS60CNTSOCIALCIRCLE  DEF60CNTSOCIALCIRCLE  \\\n",
       "count         245195.000000         245195.000000         245195.000000   \n",
       "mean               0.144045              1.406803              0.100691   \n",
       "std                0.449464              2.402398              0.364917   \n",
       "min                0.000000              0.000000              0.000000   \n",
       "25%                0.000000              0.000000              0.000000   \n",
       "50%                0.000000              0.000000              0.000000   \n",
       "75%                0.000000              2.000000              0.000000   \n",
       "max               34.000000            344.000000             24.000000   \n",
       "\n",
       "       DAYSLASTPHONECHANGE  AMTREQCREDITBUREAUHOUR  AMTREQCREDITBUREAUDAY  \\\n",
       "count        246007.000000           212836.000000          212836.000000   \n",
       "mean            962.705390                0.006291               0.006944   \n",
       "std             826.831325                0.083236               0.109538   \n",
       "min               0.000000                0.000000               0.000000   \n",
       "25%             273.000000                0.000000               0.000000   \n",
       "50%             757.000000                0.000000               0.000000   \n",
       "75%            1570.000000                0.000000               0.000000   \n",
       "max            4292.000000                4.000000               9.000000   \n",
       "\n",
       "       AMTREQCREDITBUREAUWEEK  ...  ELEVATORSMEDI  ENTRANCESMEDI  \\\n",
       "count           212836.000000  ...  114800.000000  122064.000000   \n",
       "mean                 0.034487  ...       0.078030       0.149187   \n",
       "std                  0.204179  ...       0.134423       0.100206   \n",
       "min                  0.000000  ...       0.000000       0.000000   \n",
       "25%                  0.000000  ...       0.000000       0.069000   \n",
       "50%                  0.000000  ...       0.000000       0.137900   \n",
       "75%                  0.000000  ...       0.120000       0.206900   \n",
       "max                  8.000000  ...       1.000000       1.000000   \n",
       "\n",
       "       FLOORSMAXMEDI  FLOORSMINMEDI  LANDAREAMEDI  LIVINGAPARTMENTSMEDI  \\\n",
       "count  123525.000000   79009.000000  99921.000000          77730.000000   \n",
       "mean        0.225701       0.231482      0.066967              0.101897   \n",
       "std         0.144954       0.161801      0.081824              0.093252   \n",
       "min         0.000000       0.000000      0.000000              0.000000   \n",
       "25%         0.166700       0.083300      0.018700              0.051300   \n",
       "50%         0.166700       0.208300      0.048600              0.076100   \n",
       "75%         0.333300       0.375000      0.086500              0.123100   \n",
       "max         1.000000       1.000000      1.000000              1.000000   \n",
       "\n",
       "       LIVINGAREAMEDI  NONLIVINGAPARTMENTSMEDI  NONLIVINGAREAMEDI  \\\n",
       "count   122391.000000             75094.000000      110148.000000   \n",
       "mean         0.108541                 0.008503           0.028191   \n",
       "std          0.112075                 0.046307           0.069892   \n",
       "min          0.000000                 0.000000           0.000000   \n",
       "25%          0.045700                 0.000000           0.000000   \n",
       "50%          0.074900                 0.000000           0.003050   \n",
       "75%          0.130300                 0.003900           0.026600   \n",
       "max          1.000000                 1.000000           1.000000   \n",
       "\n",
       "       TOTALAREAMODE  \n",
       "count  127171.000000  \n",
       "mean        0.102518  \n",
       "std         0.107308  \n",
       "min         0.000000  \n",
       "25%         0.041200  \n",
       "50%         0.068800  \n",
       "75%         0.127500  \n",
       "max         1.000000  \n",
       "\n",
       "[8 rows x 64 columns]"
      ]
     },
     "execution_count": 10,
     "metadata": {},
     "output_type": "execute_result"
    }
   ],
   "source": [
    "df.describe(include='float')"
   ]
  },
  {
   "cell_type": "code",
   "execution_count": null,
   "id": "70c6d6ef",
   "metadata": {},
   "outputs": [],
   "source": []
  },
  {
   "cell_type": "markdown",
   "id": "828d16e3",
   "metadata": {},
   "source": [
    "## DAYS_EMPLOYED "
   ]
  },
  {
   "cell_type": "markdown",
   "id": "c5c157d4",
   "metadata": {},
   "source": [
    "Atributo que chamou a atenção por ter valores negativos"
   ]
  },
  {
   "cell_type": "markdown",
   "id": "d261fb0d",
   "metadata": {},
   "source": [
    "### Análise"
   ]
  },
  {
   "cell_type": "code",
   "execution_count": 11,
   "id": "e5df8afd",
   "metadata": {
    "ExecuteTime": {
     "end_time": "2022-03-14T00:10:41.476652Z",
     "start_time": "2022-03-14T00:10:41.446651Z"
    }
   },
   "outputs": [
    {
     "data": {
      "text/html": [
       "<div>\n",
       "<style scoped>\n",
       "    .dataframe tbody tr th:only-of-type {\n",
       "        vertical-align: middle;\n",
       "    }\n",
       "\n",
       "    .dataframe tbody tr th {\n",
       "        vertical-align: top;\n",
       "    }\n",
       "\n",
       "    .dataframe thead th {\n",
       "        text-align: right;\n",
       "    }\n",
       "</style>\n",
       "<table border=\"1\" class=\"dataframe\">\n",
       "  <thead>\n",
       "    <tr style=\"text-align: right;\">\n",
       "      <th></th>\n",
       "      <th>DAYSEMPLOYED</th>\n",
       "    </tr>\n",
       "  </thead>\n",
       "  <tbody>\n",
       "    <tr>\n",
       "      <th>count</th>\n",
       "      <td>246008.000000</td>\n",
       "    </tr>\n",
       "    <tr>\n",
       "      <th>mean</th>\n",
       "      <td>-63963.755699</td>\n",
       "    </tr>\n",
       "    <tr>\n",
       "      <th>std</th>\n",
       "      <td>141400.318322</td>\n",
       "    </tr>\n",
       "    <tr>\n",
       "      <th>min</th>\n",
       "      <td>-365243.000000</td>\n",
       "    </tr>\n",
       "    <tr>\n",
       "      <th>25%</th>\n",
       "      <td>289.000000</td>\n",
       "    </tr>\n",
       "    <tr>\n",
       "      <th>50%</th>\n",
       "      <td>1215.000000</td>\n",
       "    </tr>\n",
       "    <tr>\n",
       "      <th>75%</th>\n",
       "      <td>2758.000000</td>\n",
       "    </tr>\n",
       "    <tr>\n",
       "      <th>max</th>\n",
       "      <td>17912.000000</td>\n",
       "    </tr>\n",
       "  </tbody>\n",
       "</table>\n",
       "</div>"
      ],
      "text/plain": [
       "        DAYSEMPLOYED\n",
       "count  246008.000000\n",
       "mean   -63963.755699\n",
       "std    141400.318322\n",
       "min   -365243.000000\n",
       "25%       289.000000\n",
       "50%      1215.000000\n",
       "75%      2758.000000\n",
       "max     17912.000000"
      ]
     },
     "execution_count": 11,
     "metadata": {},
     "output_type": "execute_result"
    }
   ],
   "source": [
    "df[['DAYSEMPLOYED']].describe()"
   ]
  },
  {
   "cell_type": "code",
   "execution_count": 12,
   "id": "3e94d050",
   "metadata": {
    "ExecuteTime": {
     "end_time": "2022-03-14T00:10:41.508666Z",
     "start_time": "2022-03-14T00:10:41.478653Z"
    }
   },
   "outputs": [
    {
     "data": {
      "text/plain": [
       "DAYSEMPLOYED\n",
       "-365243         44399\n",
       " 230              131\n",
       " 224              130\n",
       " 212              121\n",
       " 199              119\n",
       "                ...  \n",
       " 10444              1\n",
       " 10446              1\n",
       " 10450              1\n",
       " 10452              1\n",
       " 17912              1\n",
       "Length: 12074, dtype: int64"
      ]
     },
     "execution_count": 12,
     "metadata": {},
     "output_type": "execute_result"
    }
   ],
   "source": [
    "df[['DAYSEMPLOYED']].value_counts()"
   ]
  },
  {
   "cell_type": "code",
   "execution_count": 13,
   "id": "5f61824e",
   "metadata": {
    "ExecuteTime": {
     "end_time": "2022-03-14T00:10:41.588695Z",
     "start_time": "2022-03-14T00:10:41.510659Z"
    }
   },
   "outputs": [
    {
     "data": {
      "text/html": [
       "<div>\n",
       "<style scoped>\n",
       "    .dataframe tbody tr th:only-of-type {\n",
       "        vertical-align: middle;\n",
       "    }\n",
       "\n",
       "    .dataframe tbody tr th {\n",
       "        vertical-align: top;\n",
       "    }\n",
       "\n",
       "    .dataframe thead th {\n",
       "        text-align: right;\n",
       "    }\n",
       "</style>\n",
       "<table border=\"1\" class=\"dataframe\">\n",
       "  <thead>\n",
       "    <tr style=\"text-align: right;\">\n",
       "      <th></th>\n",
       "      <th>SKIDCURR</th>\n",
       "      <th>TARGET</th>\n",
       "      <th>CNTCHILDREN</th>\n",
       "      <th>DAYSBIRTH</th>\n",
       "      <th>DAYSEMPLOYED</th>\n",
       "      <th>DAYSREGISTRATION</th>\n",
       "      <th>DAYSIDPUBLISH</th>\n",
       "      <th>OWNCARAGE</th>\n",
       "      <th>FLAGMOBIL</th>\n",
       "      <th>FLAGEMPPHONE</th>\n",
       "      <th>...</th>\n",
       "      <th>ELEVATORSMEDI</th>\n",
       "      <th>ENTRANCESMEDI</th>\n",
       "      <th>FLOORSMAXMEDI</th>\n",
       "      <th>FLOORSMINMEDI</th>\n",
       "      <th>LANDAREAMEDI</th>\n",
       "      <th>LIVINGAPARTMENTSMEDI</th>\n",
       "      <th>LIVINGAREAMEDI</th>\n",
       "      <th>NONLIVINGAPARTMENTSMEDI</th>\n",
       "      <th>NONLIVINGAREAMEDI</th>\n",
       "      <th>TOTALAREAMODE</th>\n",
       "    </tr>\n",
       "  </thead>\n",
       "  <tbody>\n",
       "    <tr>\n",
       "      <th>9</th>\n",
       "      <td>126503</td>\n",
       "      <td>0</td>\n",
       "      <td>0</td>\n",
       "      <td>23484</td>\n",
       "      <td>-365243</td>\n",
       "      <td>10839</td>\n",
       "      <td>885</td>\n",
       "      <td>NaN</td>\n",
       "      <td>1</td>\n",
       "      <td>0</td>\n",
       "      <td>...</td>\n",
       "      <td>0.16</td>\n",
       "      <td>0.1379</td>\n",
       "      <td>0.3333</td>\n",
       "      <td>NaN</td>\n",
       "      <td>0.0573</td>\n",
       "      <td>NaN</td>\n",
       "      <td>0.1541</td>\n",
       "      <td>NaN</td>\n",
       "      <td>0.0015</td>\n",
       "      <td>0.1194</td>\n",
       "    </tr>\n",
       "    <tr>\n",
       "      <th>10</th>\n",
       "      <td>288798</td>\n",
       "      <td>0</td>\n",
       "      <td>0</td>\n",
       "      <td>20093</td>\n",
       "      <td>-365243</td>\n",
       "      <td>4550</td>\n",
       "      <td>3555</td>\n",
       "      <td>NaN</td>\n",
       "      <td>1</td>\n",
       "      <td>0</td>\n",
       "      <td>...</td>\n",
       "      <td>NaN</td>\n",
       "      <td>0.2414</td>\n",
       "      <td>0.1667</td>\n",
       "      <td>NaN</td>\n",
       "      <td>NaN</td>\n",
       "      <td>NaN</td>\n",
       "      <td>0.1176</td>\n",
       "      <td>NaN</td>\n",
       "      <td>0.0110</td>\n",
       "      <td>0.0909</td>\n",
       "    </tr>\n",
       "    <tr>\n",
       "      <th>15</th>\n",
       "      <td>328640</td>\n",
       "      <td>0</td>\n",
       "      <td>0</td>\n",
       "      <td>23544</td>\n",
       "      <td>-365243</td>\n",
       "      <td>3906</td>\n",
       "      <td>6004</td>\n",
       "      <td>22.0</td>\n",
       "      <td>1</td>\n",
       "      <td>0</td>\n",
       "      <td>...</td>\n",
       "      <td>NaN</td>\n",
       "      <td>NaN</td>\n",
       "      <td>NaN</td>\n",
       "      <td>NaN</td>\n",
       "      <td>NaN</td>\n",
       "      <td>NaN</td>\n",
       "      <td>NaN</td>\n",
       "      <td>NaN</td>\n",
       "      <td>NaN</td>\n",
       "      <td>NaN</td>\n",
       "    </tr>\n",
       "    <tr>\n",
       "      <th>27</th>\n",
       "      <td>290059</td>\n",
       "      <td>0</td>\n",
       "      <td>0</td>\n",
       "      <td>22694</td>\n",
       "      <td>-365243</td>\n",
       "      <td>6657</td>\n",
       "      <td>4411</td>\n",
       "      <td>NaN</td>\n",
       "      <td>1</td>\n",
       "      <td>0</td>\n",
       "      <td>...</td>\n",
       "      <td>NaN</td>\n",
       "      <td>NaN</td>\n",
       "      <td>NaN</td>\n",
       "      <td>NaN</td>\n",
       "      <td>NaN</td>\n",
       "      <td>NaN</td>\n",
       "      <td>NaN</td>\n",
       "      <td>NaN</td>\n",
       "      <td>NaN</td>\n",
       "      <td>NaN</td>\n",
       "    </tr>\n",
       "    <tr>\n",
       "      <th>30</th>\n",
       "      <td>195521</td>\n",
       "      <td>0</td>\n",
       "      <td>0</td>\n",
       "      <td>21800</td>\n",
       "      <td>-365243</td>\n",
       "      <td>4357</td>\n",
       "      <td>4438</td>\n",
       "      <td>NaN</td>\n",
       "      <td>1</td>\n",
       "      <td>0</td>\n",
       "      <td>...</td>\n",
       "      <td>NaN</td>\n",
       "      <td>NaN</td>\n",
       "      <td>NaN</td>\n",
       "      <td>NaN</td>\n",
       "      <td>NaN</td>\n",
       "      <td>NaN</td>\n",
       "      <td>NaN</td>\n",
       "      <td>NaN</td>\n",
       "      <td>NaN</td>\n",
       "      <td>NaN</td>\n",
       "    </tr>\n",
       "    <tr>\n",
       "      <th>...</th>\n",
       "      <td>...</td>\n",
       "      <td>...</td>\n",
       "      <td>...</td>\n",
       "      <td>...</td>\n",
       "      <td>...</td>\n",
       "      <td>...</td>\n",
       "      <td>...</td>\n",
       "      <td>...</td>\n",
       "      <td>...</td>\n",
       "      <td>...</td>\n",
       "      <td>...</td>\n",
       "      <td>...</td>\n",
       "      <td>...</td>\n",
       "      <td>...</td>\n",
       "      <td>...</td>\n",
       "      <td>...</td>\n",
       "      <td>...</td>\n",
       "      <td>...</td>\n",
       "      <td>...</td>\n",
       "      <td>...</td>\n",
       "      <td>...</td>\n",
       "    </tr>\n",
       "    <tr>\n",
       "      <th>245988</th>\n",
       "      <td>157665</td>\n",
       "      <td>0</td>\n",
       "      <td>0</td>\n",
       "      <td>18960</td>\n",
       "      <td>-365243</td>\n",
       "      <td>3352</td>\n",
       "      <td>2513</td>\n",
       "      <td>13.0</td>\n",
       "      <td>1</td>\n",
       "      <td>0</td>\n",
       "      <td>...</td>\n",
       "      <td>NaN</td>\n",
       "      <td>NaN</td>\n",
       "      <td>NaN</td>\n",
       "      <td>NaN</td>\n",
       "      <td>NaN</td>\n",
       "      <td>NaN</td>\n",
       "      <td>NaN</td>\n",
       "      <td>NaN</td>\n",
       "      <td>NaN</td>\n",
       "      <td>NaN</td>\n",
       "    </tr>\n",
       "    <tr>\n",
       "      <th>245991</th>\n",
       "      <td>184793</td>\n",
       "      <td>0</td>\n",
       "      <td>0</td>\n",
       "      <td>22880</td>\n",
       "      <td>-365243</td>\n",
       "      <td>4598</td>\n",
       "      <td>4699</td>\n",
       "      <td>20.0</td>\n",
       "      <td>1</td>\n",
       "      <td>0</td>\n",
       "      <td>...</td>\n",
       "      <td>NaN</td>\n",
       "      <td>NaN</td>\n",
       "      <td>NaN</td>\n",
       "      <td>NaN</td>\n",
       "      <td>NaN</td>\n",
       "      <td>NaN</td>\n",
       "      <td>NaN</td>\n",
       "      <td>NaN</td>\n",
       "      <td>NaN</td>\n",
       "      <td>NaN</td>\n",
       "    </tr>\n",
       "    <tr>\n",
       "      <th>245992</th>\n",
       "      <td>109187</td>\n",
       "      <td>0</td>\n",
       "      <td>0</td>\n",
       "      <td>20810</td>\n",
       "      <td>-365243</td>\n",
       "      <td>4269</td>\n",
       "      <td>4297</td>\n",
       "      <td>NaN</td>\n",
       "      <td>1</td>\n",
       "      <td>0</td>\n",
       "      <td>...</td>\n",
       "      <td>0.00</td>\n",
       "      <td>0.1379</td>\n",
       "      <td>0.1250</td>\n",
       "      <td>0.0417</td>\n",
       "      <td>NaN</td>\n",
       "      <td>0.0547</td>\n",
       "      <td>0.0521</td>\n",
       "      <td>0.0</td>\n",
       "      <td>0.0000</td>\n",
       "      <td>0.0433</td>\n",
       "    </tr>\n",
       "    <tr>\n",
       "      <th>246001</th>\n",
       "      <td>345140</td>\n",
       "      <td>0</td>\n",
       "      <td>0</td>\n",
       "      <td>20276</td>\n",
       "      <td>-365243</td>\n",
       "      <td>5688</td>\n",
       "      <td>3139</td>\n",
       "      <td>NaN</td>\n",
       "      <td>1</td>\n",
       "      <td>0</td>\n",
       "      <td>...</td>\n",
       "      <td>NaN</td>\n",
       "      <td>0.1034</td>\n",
       "      <td>0.1667</td>\n",
       "      <td>0.2083</td>\n",
       "      <td>NaN</td>\n",
       "      <td>0.0419</td>\n",
       "      <td>0.0428</td>\n",
       "      <td>NaN</td>\n",
       "      <td>NaN</td>\n",
       "      <td>0.0584</td>\n",
       "    </tr>\n",
       "    <tr>\n",
       "      <th>246004</th>\n",
       "      <td>452374</td>\n",
       "      <td>0</td>\n",
       "      <td>0</td>\n",
       "      <td>23798</td>\n",
       "      <td>-365243</td>\n",
       "      <td>3734</td>\n",
       "      <td>4637</td>\n",
       "      <td>NaN</td>\n",
       "      <td>1</td>\n",
       "      <td>0</td>\n",
       "      <td>...</td>\n",
       "      <td>0.00</td>\n",
       "      <td>0.1379</td>\n",
       "      <td>0.1667</td>\n",
       "      <td>0.0000</td>\n",
       "      <td>0.0339</td>\n",
       "      <td>0.0599</td>\n",
       "      <td>0.0648</td>\n",
       "      <td>0.0</td>\n",
       "      <td>0.0000</td>\n",
       "      <td>0.0501</td>\n",
       "    </tr>\n",
       "  </tbody>\n",
       "</table>\n",
       "<p>44399 rows × 122 columns</p>\n",
       "</div>"
      ],
      "text/plain": [
       "        SKIDCURR  TARGET  CNTCHILDREN  DAYSBIRTH  DAYSEMPLOYED  \\\n",
       "9         126503       0            0      23484       -365243   \n",
       "10        288798       0            0      20093       -365243   \n",
       "15        328640       0            0      23544       -365243   \n",
       "27        290059       0            0      22694       -365243   \n",
       "30        195521       0            0      21800       -365243   \n",
       "...          ...     ...          ...        ...           ...   \n",
       "245988    157665       0            0      18960       -365243   \n",
       "245991    184793       0            0      22880       -365243   \n",
       "245992    109187       0            0      20810       -365243   \n",
       "246001    345140       0            0      20276       -365243   \n",
       "246004    452374       0            0      23798       -365243   \n",
       "\n",
       "        DAYSREGISTRATION  DAYSIDPUBLISH  OWNCARAGE  FLAGMOBIL  FLAGEMPPHONE  \\\n",
       "9                  10839            885        NaN          1             0   \n",
       "10                  4550           3555        NaN          1             0   \n",
       "15                  3906           6004       22.0          1             0   \n",
       "27                  6657           4411        NaN          1             0   \n",
       "30                  4357           4438        NaN          1             0   \n",
       "...                  ...            ...        ...        ...           ...   \n",
       "245988              3352           2513       13.0          1             0   \n",
       "245991              4598           4699       20.0          1             0   \n",
       "245992              4269           4297        NaN          1             0   \n",
       "246001              5688           3139        NaN          1             0   \n",
       "246004              3734           4637        NaN          1             0   \n",
       "\n",
       "        ...  ELEVATORSMEDI  ENTRANCESMEDI  FLOORSMAXMEDI  FLOORSMINMEDI  \\\n",
       "9       ...           0.16         0.1379         0.3333            NaN   \n",
       "10      ...            NaN         0.2414         0.1667            NaN   \n",
       "15      ...            NaN            NaN            NaN            NaN   \n",
       "27      ...            NaN            NaN            NaN            NaN   \n",
       "30      ...            NaN            NaN            NaN            NaN   \n",
       "...     ...            ...            ...            ...            ...   \n",
       "245988  ...            NaN            NaN            NaN            NaN   \n",
       "245991  ...            NaN            NaN            NaN            NaN   \n",
       "245992  ...           0.00         0.1379         0.1250         0.0417   \n",
       "246001  ...            NaN         0.1034         0.1667         0.2083   \n",
       "246004  ...           0.00         0.1379         0.1667         0.0000   \n",
       "\n",
       "        LANDAREAMEDI  LIVINGAPARTMENTSMEDI  LIVINGAREAMEDI  \\\n",
       "9             0.0573                   NaN          0.1541   \n",
       "10               NaN                   NaN          0.1176   \n",
       "15               NaN                   NaN             NaN   \n",
       "27               NaN                   NaN             NaN   \n",
       "30               NaN                   NaN             NaN   \n",
       "...              ...                   ...             ...   \n",
       "245988           NaN                   NaN             NaN   \n",
       "245991           NaN                   NaN             NaN   \n",
       "245992           NaN                0.0547          0.0521   \n",
       "246001           NaN                0.0419          0.0428   \n",
       "246004        0.0339                0.0599          0.0648   \n",
       "\n",
       "        NONLIVINGAPARTMENTSMEDI  NONLIVINGAREAMEDI  TOTALAREAMODE  \n",
       "9                           NaN             0.0015         0.1194  \n",
       "10                          NaN             0.0110         0.0909  \n",
       "15                          NaN                NaN            NaN  \n",
       "27                          NaN                NaN            NaN  \n",
       "30                          NaN                NaN            NaN  \n",
       "...                         ...                ...            ...  \n",
       "245988                      NaN                NaN            NaN  \n",
       "245991                      NaN                NaN            NaN  \n",
       "245992                      0.0             0.0000         0.0433  \n",
       "246001                      NaN                NaN         0.0584  \n",
       "246004                      0.0             0.0000         0.0501  \n",
       "\n",
       "[44399 rows x 122 columns]"
      ]
     },
     "execution_count": 13,
     "metadata": {},
     "output_type": "execute_result"
    }
   ],
   "source": [
    "#visualização geral dos dados com DAYS_EMPLOYED problemático\n",
    "df[df['DAYSEMPLOYED'] < 0]"
   ]
  },
  {
   "cell_type": "code",
   "execution_count": 14,
   "id": "e4ef2a81",
   "metadata": {
    "ExecuteTime": {
     "end_time": "2022-03-14T00:10:41.604699Z",
     "start_time": "2022-03-14T00:10:41.590684Z"
    }
   },
   "outputs": [
    {
     "data": {
      "text/plain": [
       "0    44399\n",
       "Name: FLAGEMPPHONE, dtype: int64"
      ]
     },
     "execution_count": 14,
     "metadata": {},
     "output_type": "execute_result"
    }
   ],
   "source": [
    "# análise das informação de FLAG_EMP_PHONE\n",
    "df['FLAGEMPPHONE'][df['DAYSEMPLOYED'] < 0].value_counts()\n",
    "\n",
    "#nenhum informou telefone do trabalho"
   ]
  },
  {
   "cell_type": "code",
   "execution_count": 15,
   "id": "9502e2a7",
   "metadata": {
    "ExecuteTime": {
     "end_time": "2022-03-14T00:10:41.620690Z",
     "start_time": "2022-03-14T00:10:41.606693Z"
    }
   },
   "outputs": [
    {
     "data": {
      "text/plain": [
       "NaN               44397\n",
       "Cleaning staff        2\n",
       "Name: OCCUPATIONTYPE, dtype: int64"
      ]
     },
     "execution_count": 15,
     "metadata": {},
     "output_type": "execute_result"
    }
   ],
   "source": [
    "# análise das informação de OCCUPATION_TYPE\n",
    "df['OCCUPATIONTYPE'][df['DAYSEMPLOYED'] < 0].value_counts(dropna=False)\n",
    "\n",
    "#Sem informação "
   ]
  },
  {
   "cell_type": "markdown",
   "id": "2923cb2a",
   "metadata": {},
   "source": [
    "### Conclusão"
   ]
  },
  {
   "cell_type": "markdown",
   "id": "f28aa327",
   "metadata": {},
   "source": [
    "Atibuir valor zero para valores negativos. A interpretação é de dado não informado"
   ]
  },
  {
   "cell_type": "code",
   "execution_count": 16,
   "id": "bd91d741",
   "metadata": {
    "ExecuteTime": {
     "end_time": "2022-03-14T00:10:41.652710Z",
     "start_time": "2022-03-14T00:10:41.622684Z"
    }
   },
   "outputs": [
    {
     "data": {
      "text/plain": [
       "count    246008.000000\n",
       "mean       1954.523207\n",
       "std        2306.666246\n",
       "min           0.000000\n",
       "25%         289.000000\n",
       "50%        1215.000000\n",
       "75%        2758.000000\n",
       "max       17912.000000\n",
       "Name: DAYSEMPLOYED, dtype: float64"
      ]
     },
     "execution_count": 16,
     "metadata": {},
     "output_type": "execute_result"
    }
   ],
   "source": [
    "df.loc[df['DAYSEMPLOYED'] < 0, 'DAYSEMPLOYED'] = 0\n",
    "df['DAYSEMPLOYED'].describe()"
   ]
  },
  {
   "cell_type": "code",
   "execution_count": null,
   "id": "d4b88965",
   "metadata": {},
   "outputs": [],
   "source": []
  },
  {
   "cell_type": "markdown",
   "id": "85a89c88",
   "metadata": {},
   "source": [
    "## CODE_GENDER"
   ]
  },
  {
   "cell_type": "markdown",
   "id": "447df34f",
   "metadata": {},
   "source": [
    "### Análise"
   ]
  },
  {
   "cell_type": "code",
   "execution_count": 17,
   "id": "dc59800e",
   "metadata": {
    "ExecuteTime": {
     "end_time": "2022-03-14T00:10:41.668703Z",
     "start_time": "2022-03-14T00:10:41.654704Z"
    }
   },
   "outputs": [
    {
     "data": {
      "text/plain": [
       "F      161867\n",
       "M       84138\n",
       "XNA         3\n",
       "Name: CODEGENDER, dtype: int64"
      ]
     },
     "execution_count": 17,
     "metadata": {},
     "output_type": "execute_result"
    }
   ],
   "source": [
    "df['CODEGENDER'].value_counts(dropna=False)"
   ]
  },
  {
   "cell_type": "code",
   "execution_count": 18,
   "id": "503408d2",
   "metadata": {
    "ExecuteTime": {
     "end_time": "2022-03-14T00:10:41.714724Z",
     "start_time": "2022-03-14T00:10:41.669704Z"
    }
   },
   "outputs": [
    {
     "data": {
      "text/plain": [
       "TARGET  CODEGENDER\n",
       "0       F             150487\n",
       "        M              75548\n",
       "1       F              11380\n",
       "        M               8590\n",
       "0       XNA                3\n",
       "dtype: int64"
      ]
     },
     "execution_count": 18,
     "metadata": {},
     "output_type": "execute_result"
    }
   ],
   "source": [
    "df[['TARGET','CODEGENDER']].value_counts(dropna=False)\n"
   ]
  },
  {
   "cell_type": "markdown",
   "id": "18b5e0b4",
   "metadata": {},
   "source": [
    "### Conclusão"
   ]
  },
  {
   "cell_type": "markdown",
   "id": "6e848015",
   "metadata": {},
   "source": [
    "Por se tratar de uma informação que pode gerar algum tipo de viés no algoritmo, será desconsiderado"
   ]
  },
  {
   "cell_type": "code",
   "execution_count": 19,
   "id": "f9f3fe59",
   "metadata": {
    "ExecuteTime": {
     "end_time": "2022-03-14T00:10:41.776732Z",
     "start_time": "2022-03-14T00:10:41.716705Z"
    }
   },
   "outputs": [],
   "source": [
    "df.drop('CODEGENDER', inplace=True, axis=1)"
   ]
  },
  {
   "cell_type": "code",
   "execution_count": null,
   "id": "c20640d2",
   "metadata": {},
   "outputs": [],
   "source": []
  },
  {
   "cell_type": "markdown",
   "id": "10c3c4a7",
   "metadata": {},
   "source": [
    "## Avaliação de nulos"
   ]
  },
  {
   "cell_type": "markdown",
   "id": "70fdeb98",
   "metadata": {},
   "source": [
    "### Análise"
   ]
  },
  {
   "cell_type": "code",
   "execution_count": 20,
   "id": "930fd75a",
   "metadata": {
    "ExecuteTime": {
     "end_time": "2022-03-14T00:10:41.968781Z",
     "start_time": "2022-03-14T00:10:41.777732Z"
    }
   },
   "outputs": [
    {
     "data": {
      "text/plain": [
       "{'OWNCARAGE': 162359,\n",
       " 'AMTREQCREDITBUREAUHOUR': 33172,\n",
       " 'AMTREQCREDITBUREAUDAY': 33172,\n",
       " 'AMTREQCREDITBUREAUWEEK': 33172,\n",
       " 'AMTREQCREDITBUREAUMON': 33172,\n",
       " 'AMTREQCREDITBUREAUQRT': 33172,\n",
       " 'AMTREQCREDITBUREAUYEAR': 33172,\n",
       " 'OCCUPATIONTYPE': 77237,\n",
       " 'FONDKAPREMONTMODE': 168392,\n",
       " 'HOUSETYPEMODE': 123540,\n",
       " 'WALLSMATERIALMODE': 125164,\n",
       " 'EMERGENCYSTATEMODE': 116761,\n",
       " 'EXTSOURCE1': 138803,\n",
       " 'EXTSOURCE3': 48728,\n",
       " 'APARTMENTSAVG': 124955,\n",
       " 'BASEMENTAREAAVG': 144090,\n",
       " 'YEARSBEGINEXPLUATATIONAVG': 120096,\n",
       " 'YEARSBUILDAVG': 163680,\n",
       " 'COMMONAREAAVG': 171978,\n",
       " 'ELEVATORSAVG': 131208,\n",
       " 'ENTRANCESAVG': 123944,\n",
       " 'FLOORSMAXAVG': 122483,\n",
       " 'FLOORSMINAVG': 166999,\n",
       " 'LANDAREAAVG': 146087,\n",
       " 'LIVINGAPARTMENTSAVG': 168278,\n",
       " 'LIVINGAREAAVG': 123617,\n",
       " 'NONLIVINGAPARTMENTSAVG': 170914,\n",
       " 'NONLIVINGAREAAVG': 135860,\n",
       " 'APARTMENTSMODE': 124955,\n",
       " 'BASEMENTAREAMODE': 144090,\n",
       " 'YEARSBEGINEXPLUATATIONMODE': 120096,\n",
       " 'YEARSBUILDMODE': 163680,\n",
       " 'COMMONAREAMODE': 171978,\n",
       " 'ELEVATORSMODE': 131208,\n",
       " 'ENTRANCESMODE': 123944,\n",
       " 'FLOORSMAXMODE': 122483,\n",
       " 'FLOORSMINMODE': 166999,\n",
       " 'LANDAREAMODE': 146087,\n",
       " 'LIVINGAPARTMENTSMODE': 168278,\n",
       " 'LIVINGAREAMODE': 123617,\n",
       " 'NONLIVINGAPARTMENTSMODE': 170914,\n",
       " 'NONLIVINGAREAMODE': 135860,\n",
       " 'APARTMENTSMEDI': 124955,\n",
       " 'BASEMENTAREAMEDI': 144090,\n",
       " 'YEARSBEGINEXPLUATATIONMEDI': 120096,\n",
       " 'YEARSBUILDMEDI': 163680,\n",
       " 'COMMONAREAMEDI': 171978,\n",
       " 'ELEVATORSMEDI': 131208,\n",
       " 'ENTRANCESMEDI': 123944,\n",
       " 'FLOORSMAXMEDI': 122483,\n",
       " 'FLOORSMINMEDI': 166999,\n",
       " 'LANDAREAMEDI': 146087,\n",
       " 'LIVINGAPARTMENTSMEDI': 168278,\n",
       " 'LIVINGAREAMEDI': 123617,\n",
       " 'NONLIVINGAPARTMENTSMEDI': 170914,\n",
       " 'NONLIVINGAREAMEDI': 135860,\n",
       " 'TOTALAREAMODE': 118837}"
      ]
     },
     "execution_count": 20,
     "metadata": {},
     "output_type": "execute_result"
    }
   ],
   "source": [
    "nulos = {}\n",
    "\n",
    "for i in df.columns:\n",
    "    n = df[i].isna().sum()\n",
    "    if n>2000: #pra filtrar quem tem mais que 1% de nulos\n",
    "        nulos[i] = n\n",
    "nulos"
   ]
  },
  {
   "cell_type": "markdown",
   "id": "5dac34c5",
   "metadata": {},
   "source": [
    "### Conclusão"
   ]
  },
  {
   "cell_type": "markdown",
   "id": "0c02140c",
   "metadata": {},
   "source": [
    "Avaliar cada caso"
   ]
  },
  {
   "cell_type": "markdown",
   "id": "509f7ab8",
   "metadata": {},
   "source": [
    "## Flags"
   ]
  },
  {
   "cell_type": "markdown",
   "id": "76d4f33d",
   "metadata": {},
   "source": [
    "As colunas FLAGS foram analisadas individualmente por serem booleanas"
   ]
  },
  {
   "cell_type": "markdown",
   "id": "a9f28118",
   "metadata": {},
   "source": [
    "### Análise "
   ]
  },
  {
   "cell_type": "code",
   "execution_count": 21,
   "id": "1aa6fe9a",
   "metadata": {
    "ExecuteTime": {
     "end_time": "2022-03-14T00:10:42.382869Z",
     "start_time": "2022-03-14T00:10:41.970763Z"
    }
   },
   "outputs": [
    {
     "data": {
      "text/plain": [
       "{'FLAGMOBIL': 1,\n",
       " 'FLAGEMPPHONE': 44409,\n",
       " 'FLAGWORKPHONE': 197029,\n",
       " 'FLAGCONTMOBILE': 458,\n",
       " 'FLAGPHONE': 176874,\n",
       " 'FLAGEMAIL': 232054,\n",
       " 'FLAGDOCUMENT2': 245998,\n",
       " 'FLAGDOCUMENT3': 71148,\n",
       " 'FLAGDOCUMENT4': 245987,\n",
       " 'FLAGDOCUMENT5': 242293,\n",
       " 'FLAGDOCUMENT6': 224376,\n",
       " 'FLAGDOCUMENT7': 245961,\n",
       " 'FLAGDOCUMENT8': 226056,\n",
       " 'FLAGDOCUMENT9': 245068,\n",
       " 'FLAGDOCUMENT10': 246005,\n",
       " 'FLAGDOCUMENT11': 245047,\n",
       " 'FLAGDOCUMENT12': 246006,\n",
       " 'FLAGDOCUMENT13': 245127,\n",
       " 'FLAGDOCUMENT14': 245282,\n",
       " 'FLAGDOCUMENT15': 245719,\n",
       " 'FLAGDOCUMENT16': 243549,\n",
       " 'FLAGDOCUMENT17': 245943,\n",
       " 'FLAGDOCUMENT18': 244046,\n",
       " 'FLAGDOCUMENT19': 245863,\n",
       " 'FLAGDOCUMENT20': 245883,\n",
       " 'FLAGDOCUMENT21': 245937}"
      ]
     },
     "execution_count": 21,
     "metadata": {},
     "output_type": "execute_result"
    }
   ],
   "source": [
    "flags = {}\n",
    "\n",
    "for i in df.describe(include='int').columns:\n",
    "    if i.find('FLAG') >= 0:       \n",
    "    \n",
    "        n = df[i].value_counts(dropna=False)[0]        \n",
    "        flags[i] = n\n",
    "flags"
   ]
  },
  {
   "cell_type": "code",
   "execution_count": 22,
   "id": "861336b3",
   "metadata": {
    "ExecuteTime": {
     "end_time": "2022-03-14T00:10:42.398865Z",
     "start_time": "2022-03-14T00:10:42.384869Z"
    }
   },
   "outputs": [
    {
     "data": {
      "text/plain": [
       "1    245550\n",
       "0       458\n",
       "Name: FLAGCONTMOBILE, dtype: int64"
      ]
     },
     "execution_count": 22,
     "metadata": {},
     "output_type": "execute_result"
    }
   ],
   "source": [
    "df['FLAGCONTMOBILE'].value_counts()"
   ]
  },
  {
   "cell_type": "code",
   "execution_count": 23,
   "id": "1eec2822",
   "metadata": {
    "ExecuteTime": {
     "end_time": "2022-03-14T00:10:42.413881Z",
     "start_time": "2022-03-14T00:10:42.400873Z"
    }
   },
   "outputs": [
    {
     "data": {
      "text/plain": [
       "1    246007\n",
       "0         1\n",
       "Name: FLAGMOBIL, dtype: int64"
      ]
     },
     "execution_count": 23,
     "metadata": {},
     "output_type": "execute_result"
    }
   ],
   "source": [
    "df['FLAGMOBIL'].value_counts()"
   ]
  },
  {
   "cell_type": "code",
   "execution_count": 24,
   "id": "7f3699ea",
   "metadata": {
    "ExecuteTime": {
     "end_time": "2022-03-14T00:10:42.429884Z",
     "start_time": "2022-03-14T00:10:42.415862Z"
    }
   },
   "outputs": [],
   "source": [
    "cols_flags = list(flags.keys())\n",
    "cols_flags_t = cols_flags.copy()\n",
    "cols_flags_t.append('TARGET')\n"
   ]
  },
  {
   "cell_type": "code",
   "execution_count": 25,
   "id": "245d29a2",
   "metadata": {
    "ExecuteTime": {
     "end_time": "2022-03-14T00:10:42.461892Z",
     "start_time": "2022-03-14T00:10:42.431865Z"
    }
   },
   "outputs": [],
   "source": [
    "#cols_flags = ['FLAG_EMAIL','FLAG_DOCUMENT_2','FLAG_DOCUMENT_3','FLAG_DOCUMENT_4','FLAG_DOCUMENT_5','FLAG_DOCUMENT_6','FLAG_DOCUMENT_7','FLAG_DOCUMENT_8','FLAG_DOCUMENT_9','FLAG_DOCUMENT_10','FLAG_DOCUMENT_11','FLAG_DOCUMENT_12','FLAG_DOCUMENT_13','FLAG_DOCUMENT_14','FLAG_DOCUMENT_15','FLAG_DOCUMENT_16','FLAG_DOCUMENT_17','FLAG_DOCUMENT_18','FLAG_DOCUMENT_19','FLAG_DOCUMENT_20','FLAG_DOCUMENT_21']\n",
    "df_flags = df[cols_flags_t]"
   ]
  },
  {
   "cell_type": "code",
   "execution_count": null,
   "id": "01a55e9a",
   "metadata": {},
   "outputs": [],
   "source": []
  },
  {
   "cell_type": "code",
   "execution_count": 26,
   "id": "e66acb41",
   "metadata": {
    "ExecuteTime": {
     "end_time": "2022-03-14T00:10:43.306082Z",
     "start_time": "2022-03-14T00:10:42.463874Z"
    }
   },
   "outputs": [
    {
     "data": {
      "text/plain": [
       "<AxesSubplot:>"
      ]
     },
     "execution_count": 26,
     "metadata": {},
     "output_type": "execute_result"
    },
    {
     "data": {
      "image/png": "[encoded data removed]",
      "text/plain": [
       "<Figure size 720x576 with 2 Axes>"
      ]
     },
     "metadata": {
      "needs_background": "light"
     },
     "output_type": "display_data"
    }
   ],
   "source": [
    "#matriz de correlação para medir essa correlação\n",
    "plt.figure(figsize=(10,8))\n",
    "sns.heatmap(df_flags.corr(), cmap='coolwarm', vmin=-1, vmax=1)"
   ]
  },
  {
   "cell_type": "code",
   "execution_count": null,
   "id": "41c20abe",
   "metadata": {},
   "outputs": [],
   "source": []
  },
  {
   "cell_type": "markdown",
   "id": "726a1c4e",
   "metadata": {},
   "source": [
    "### Conclusão"
   ]
  },
  {
   "cell_type": "markdown",
   "id": "59500022",
   "metadata": {},
   "source": [
    "Todas as colunas FLAG_DOCUMENT_* serão retiradas por não terem informações que pareçam relevantes para análise\n",
    "\n",
    "FLAG_MOBIL, FLAG_CONT_MOBILE tem muito poucos registro False, então também são irrelevantes\n",
    "\n"
   ]
  },
  {
   "cell_type": "code",
   "execution_count": 27,
   "id": "95ad5b93",
   "metadata": {
    "ExecuteTime": {
     "end_time": "2022-03-14T00:10:43.402083Z",
     "start_time": "2022-03-14T00:10:43.308063Z"
    }
   },
   "outputs": [],
   "source": [
    "df.drop(cols_flags, inplace=True, axis=1)"
   ]
  },
  {
   "cell_type": "code",
   "execution_count": null,
   "id": "e257e4a7",
   "metadata": {},
   "outputs": [],
   "source": []
  },
  {
   "cell_type": "markdown",
   "id": "87f24aa4",
   "metadata": {},
   "source": [
    "## Conclusão Análise Exploratória"
   ]
  },
  {
   "cell_type": "markdown",
   "id": "9def6fa4",
   "metadata": {},
   "source": [
    "* Analisar melhor valores nulos das colunas\n",
    "* DAYS_EMPLOYED foi alterado recebendo valor zero onde era negativo\n",
    "* CODE_GENDER retirado para atender questões éticas\n",
    "* Atributos de FLAGS se mostraram muito irrelevantes já na análise inicial e foram retirados do estudos\n",
    "* Mudança nos nomes das colunas para evitar erros nos algoritmos"
   ]
  },
  {
   "cell_type": "code",
   "execution_count": null,
   "id": "ea3aa94a",
   "metadata": {},
   "outputs": [],
   "source": []
  },
  {
   "cell_type": "code",
   "execution_count": 28,
   "id": "cbf7418d",
   "metadata": {
    "ExecuteTime": {
     "end_time": "2022-03-14T00:10:43.434098Z",
     "start_time": "2022-03-14T00:10:43.406085Z"
    }
   },
   "outputs": [
    {
     "data": {
      "text/html": [
       "<div>\n",
       "<style scoped>\n",
       "    .dataframe tbody tr th:only-of-type {\n",
       "        vertical-align: middle;\n",
       "    }\n",
       "\n",
       "    .dataframe tbody tr th {\n",
       "        vertical-align: top;\n",
       "    }\n",
       "\n",
       "    .dataframe thead th {\n",
       "        text-align: right;\n",
       "    }\n",
       "</style>\n",
       "<table border=\"1\" class=\"dataframe\">\n",
       "  <thead>\n",
       "    <tr style=\"text-align: right;\">\n",
       "      <th></th>\n",
       "      <th>SKIDCURR</th>\n",
       "      <th>TARGET</th>\n",
       "      <th>CNTCHILDREN</th>\n",
       "      <th>DAYSBIRTH</th>\n",
       "      <th>DAYSEMPLOYED</th>\n",
       "      <th>DAYSREGISTRATION</th>\n",
       "      <th>DAYSIDPUBLISH</th>\n",
       "      <th>OWNCARAGE</th>\n",
       "      <th>CNTFAMMEMBERS</th>\n",
       "      <th>REGIONRATINGCLIENT</th>\n",
       "      <th>...</th>\n",
       "      <th>ELEVATORSMEDI</th>\n",
       "      <th>ENTRANCESMEDI</th>\n",
       "      <th>FLOORSMAXMEDI</th>\n",
       "      <th>FLOORSMINMEDI</th>\n",
       "      <th>LANDAREAMEDI</th>\n",
       "      <th>LIVINGAPARTMENTSMEDI</th>\n",
       "      <th>LIVINGAREAMEDI</th>\n",
       "      <th>NONLIVINGAPARTMENTSMEDI</th>\n",
       "      <th>NONLIVINGAREAMEDI</th>\n",
       "      <th>TOTALAREAMODE</th>\n",
       "    </tr>\n",
       "  </thead>\n",
       "  <tbody>\n",
       "    <tr>\n",
       "      <th>0</th>\n",
       "      <td>336639</td>\n",
       "      <td>1</td>\n",
       "      <td>1</td>\n",
       "      <td>12226</td>\n",
       "      <td>496</td>\n",
       "      <td>4292</td>\n",
       "      <td>4668</td>\n",
       "      <td>11.0</td>\n",
       "      <td>3.0</td>\n",
       "      <td>2</td>\n",
       "      <td>...</td>\n",
       "      <td>NaN</td>\n",
       "      <td>NaN</td>\n",
       "      <td>NaN</td>\n",
       "      <td>NaN</td>\n",
       "      <td>NaN</td>\n",
       "      <td>NaN</td>\n",
       "      <td>NaN</td>\n",
       "      <td>NaN</td>\n",
       "      <td>NaN</td>\n",
       "      <td>NaN</td>\n",
       "    </tr>\n",
       "    <tr>\n",
       "      <th>1</th>\n",
       "      <td>289004</td>\n",
       "      <td>0</td>\n",
       "      <td>1</td>\n",
       "      <td>11562</td>\n",
       "      <td>710</td>\n",
       "      <td>1030</td>\n",
       "      <td>3558</td>\n",
       "      <td>NaN</td>\n",
       "      <td>3.0</td>\n",
       "      <td>3</td>\n",
       "      <td>...</td>\n",
       "      <td>0.2</td>\n",
       "      <td>0.1724</td>\n",
       "      <td>0.3333</td>\n",
       "      <td>0.375</td>\n",
       "      <td>0.0242</td>\n",
       "      <td>0.1539</td>\n",
       "      <td>0.1987</td>\n",
       "      <td>0.0039</td>\n",
       "      <td>0.0296</td>\n",
       "      <td>0.1703</td>\n",
       "    </tr>\n",
       "    <tr>\n",
       "      <th>2</th>\n",
       "      <td>240024</td>\n",
       "      <td>0</td>\n",
       "      <td>0</td>\n",
       "      <td>16427</td>\n",
       "      <td>3385</td>\n",
       "      <td>2208</td>\n",
       "      <td>4032</td>\n",
       "      <td>11.0</td>\n",
       "      <td>2.0</td>\n",
       "      <td>2</td>\n",
       "      <td>...</td>\n",
       "      <td>NaN</td>\n",
       "      <td>NaN</td>\n",
       "      <td>NaN</td>\n",
       "      <td>NaN</td>\n",
       "      <td>NaN</td>\n",
       "      <td>NaN</td>\n",
       "      <td>NaN</td>\n",
       "      <td>NaN</td>\n",
       "      <td>NaN</td>\n",
       "      <td>NaN</td>\n",
       "    </tr>\n",
       "    <tr>\n",
       "      <th>3</th>\n",
       "      <td>347406</td>\n",
       "      <td>1</td>\n",
       "      <td>2</td>\n",
       "      <td>12069</td>\n",
       "      <td>753</td>\n",
       "      <td>5961</td>\n",
       "      <td>3148</td>\n",
       "      <td>NaN</td>\n",
       "      <td>4.0</td>\n",
       "      <td>1</td>\n",
       "      <td>...</td>\n",
       "      <td>NaN</td>\n",
       "      <td>NaN</td>\n",
       "      <td>NaN</td>\n",
       "      <td>NaN</td>\n",
       "      <td>NaN</td>\n",
       "      <td>NaN</td>\n",
       "      <td>NaN</td>\n",
       "      <td>NaN</td>\n",
       "      <td>NaN</td>\n",
       "      <td>NaN</td>\n",
       "    </tr>\n",
       "    <tr>\n",
       "      <th>4</th>\n",
       "      <td>302895</td>\n",
       "      <td>0</td>\n",
       "      <td>2</td>\n",
       "      <td>13359</td>\n",
       "      <td>469</td>\n",
       "      <td>1404</td>\n",
       "      <td>4364</td>\n",
       "      <td>11.0</td>\n",
       "      <td>3.0</td>\n",
       "      <td>2</td>\n",
       "      <td>...</td>\n",
       "      <td>NaN</td>\n",
       "      <td>0.1379</td>\n",
       "      <td>0.1667</td>\n",
       "      <td>NaN</td>\n",
       "      <td>NaN</td>\n",
       "      <td>NaN</td>\n",
       "      <td>0.0696</td>\n",
       "      <td>NaN</td>\n",
       "      <td>NaN</td>\n",
       "      <td>0.0537</td>\n",
       "    </tr>\n",
       "  </tbody>\n",
       "</table>\n",
       "<p>5 rows × 95 columns</p>\n",
       "</div>"
      ],
      "text/plain": [
       "   SKIDCURR  TARGET  CNTCHILDREN  DAYSBIRTH  DAYSEMPLOYED  DAYSREGISTRATION  \\\n",
       "0    336639       1            1      12226           496              4292   \n",
       "1    289004       0            1      11562           710              1030   \n",
       "2    240024       0            0      16427          3385              2208   \n",
       "3    347406       1            2      12069           753              5961   \n",
       "4    302895       0            2      13359           469              1404   \n",
       "\n",
       "   DAYSIDPUBLISH  OWNCARAGE  CNTFAMMEMBERS  REGIONRATINGCLIENT  ...  \\\n",
       "0           4668       11.0            3.0                   2  ...   \n",
       "1           3558        NaN            3.0                   3  ...   \n",
       "2           4032       11.0            2.0                   2  ...   \n",
       "3           3148        NaN            4.0                   1  ...   \n",
       "4           4364       11.0            3.0                   2  ...   \n",
       "\n",
       "   ELEVATORSMEDI  ENTRANCESMEDI  FLOORSMAXMEDI  FLOORSMINMEDI  LANDAREAMEDI  \\\n",
       "0            NaN            NaN            NaN            NaN           NaN   \n",
       "1            0.2         0.1724         0.3333          0.375        0.0242   \n",
       "2            NaN            NaN            NaN            NaN           NaN   \n",
       "3            NaN            NaN            NaN            NaN           NaN   \n",
       "4            NaN         0.1379         0.1667            NaN           NaN   \n",
       "\n",
       "   LIVINGAPARTMENTSMEDI  LIVINGAREAMEDI  NONLIVINGAPARTMENTSMEDI  \\\n",
       "0                   NaN             NaN                      NaN   \n",
       "1                0.1539          0.1987                   0.0039   \n",
       "2                   NaN             NaN                      NaN   \n",
       "3                   NaN             NaN                      NaN   \n",
       "4                   NaN          0.0696                      NaN   \n",
       "\n",
       "   NONLIVINGAREAMEDI  TOTALAREAMODE  \n",
       "0                NaN            NaN  \n",
       "1             0.0296         0.1703  \n",
       "2                NaN            NaN  \n",
       "3                NaN            NaN  \n",
       "4                NaN         0.0537  \n",
       "\n",
       "[5 rows x 95 columns]"
      ]
     },
     "execution_count": 28,
     "metadata": {},
     "output_type": "execute_result"
    }
   ],
   "source": [
    "df.head()"
   ]
  },
  {
   "cell_type": "code",
   "execution_count": null,
   "id": "d4b0b929",
   "metadata": {},
   "outputs": [],
   "source": []
  },
  {
   "cell_type": "code",
   "execution_count": 29,
   "id": "453db9bc",
   "metadata": {
    "ExecuteTime": {
     "end_time": "2022-03-14T00:10:43.450114Z",
     "start_time": "2022-03-14T00:10:43.435112Z"
    }
   },
   "outputs": [
    {
     "name": "stdout",
     "output_type": "stream",
     "text": [
      "DataFrame pós análise exploratória: (246008, 95)\n"
     ]
    }
   ],
   "source": [
    "print('DataFrame pós análise exploratória: '+str(df.shape))"
   ]
  },
  {
   "cell_type": "markdown",
   "id": "df345461",
   "metadata": {},
   "source": [
    "# Separação dos dados"
   ]
  },
  {
   "cell_type": "markdown",
   "id": "ac02d49f",
   "metadata": {},
   "source": [
    "## Categorização"
   ]
  },
  {
   "cell_type": "markdown",
   "id": "c0d9ac50",
   "metadata": {},
   "source": [
    "Os testes serão feitos com 2 tipos de categorização. A primeira bateria de testes vai ter LabelEncoder em todas as colunas e a segunda terá GetDummys nas colunas em que o número de opções não seja muito grande"
   ]
  },
  {
   "cell_type": "markdown",
   "id": "18ed07eb",
   "metadata": {},
   "source": [
    "### Label Encoder"
   ]
  },
  {
   "cell_type": "code",
   "execution_count": null,
   "id": "554d1419",
   "metadata": {},
   "outputs": [],
   "source": []
  },
  {
   "cell_type": "code",
   "execution_count": 30,
   "id": "dd8acc58",
   "metadata": {
    "ExecuteTime": {
     "end_time": "2022-03-14T00:10:44.166275Z",
     "start_time": "2022-03-14T00:10:43.453095Z"
    }
   },
   "outputs": [],
   "source": [
    "df_label = df[df.select_dtypes('object').columns].apply(LabelEncoder().fit_transform)"
   ]
  },
  {
   "cell_type": "code",
   "execution_count": 31,
   "id": "82beb261",
   "metadata": {
    "ExecuteTime": {
     "end_time": "2022-03-14T00:10:44.182279Z",
     "start_time": "2022-03-14T00:10:44.168257Z"
    }
   },
   "outputs": [
    {
     "data": {
      "text/plain": [
       "(246008, 15)"
      ]
     },
     "execution_count": 31,
     "metadata": {},
     "output_type": "execute_result"
    }
   ],
   "source": [
    "df_label.shape"
   ]
  },
  {
   "cell_type": "code",
   "execution_count": 32,
   "id": "3160e332",
   "metadata": {
    "ExecuteTime": {
     "end_time": "2022-03-14T00:10:44.277300Z",
     "start_time": "2022-03-14T00:10:44.184274Z"
    }
   },
   "outputs": [],
   "source": [
    "df_label = pd.concat([df_label, df.select_dtypes(exclude='object')], axis=1)"
   ]
  },
  {
   "cell_type": "code",
   "execution_count": 33,
   "id": "2d0b4773",
   "metadata": {
    "ExecuteTime": {
     "end_time": "2022-03-14T00:10:44.293304Z",
     "start_time": "2022-03-14T00:10:44.279282Z"
    }
   },
   "outputs": [
    {
     "data": {
      "text/plain": [
       "(246008, 95)"
      ]
     },
     "execution_count": 33,
     "metadata": {},
     "output_type": "execute_result"
    }
   ],
   "source": [
    "df_label.shape"
   ]
  },
  {
   "cell_type": "code",
   "execution_count": 34,
   "id": "5aa68e15",
   "metadata": {
    "ExecuteTime": {
     "end_time": "2022-03-14T00:10:44.513333Z",
     "start_time": "2022-03-14T00:10:44.295285Z"
    }
   },
   "outputs": [],
   "source": [
    "df_label = df_label.fillna(0)"
   ]
  },
  {
   "cell_type": "code",
   "execution_count": null,
   "id": "168ec734",
   "metadata": {},
   "outputs": [],
   "source": []
  },
  {
   "cell_type": "markdown",
   "id": "0c79d149",
   "metadata": {},
   "source": [
    "### Get Dummys"
   ]
  },
  {
   "cell_type": "code",
   "execution_count": null,
   "id": "5a38f471",
   "metadata": {},
   "outputs": [],
   "source": []
  },
  {
   "cell_type": "code",
   "execution_count": 35,
   "id": "506f9028",
   "metadata": {
    "ExecuteTime": {
     "end_time": "2022-03-14T00:10:45.217493Z",
     "start_time": "2022-03-14T00:10:44.515334Z"
    }
   },
   "outputs": [],
   "source": [
    "df_dummys= pd.get_dummies(df, columns=['NAMECONTRACTTYPE','NAMETYPESUITE','NAMEINCOMETYPE','NAMEFAMILYSTATUS','NAMEHOUSINGTYPE','FONDKAPREMONTMODE','HOUSETYPEMODE','FLAGOWNCAR','FLAGOWNREALTY','WEEKDAYAPPRPROCESSSTART','NAMEEDUCATIONTYPE','WALLSMATERIALMODE','EMERGENCYSTATEMODE'])\n",
    "\n",
    "#retirada de underline dos nomes das colunas para não dar erros nos algoritmos\n",
    "df_dummys = df_dummys.rename(columns = lambda x:re.sub('[^A-Za-z0-9]+', '', x)) \n"
   ]
  },
  {
   "cell_type": "code",
   "execution_count": 36,
   "id": "b5baf767",
   "metadata": {
    "ExecuteTime": {
     "end_time": "2022-03-14T00:10:45.313515Z",
     "start_time": "2022-03-14T00:10:45.220494Z"
    }
   },
   "outputs": [
    {
     "data": {
      "text/html": [
       "<div>\n",
       "<style scoped>\n",
       "    .dataframe tbody tr th:only-of-type {\n",
       "        vertical-align: middle;\n",
       "    }\n",
       "\n",
       "    .dataframe tbody tr th {\n",
       "        vertical-align: top;\n",
       "    }\n",
       "\n",
       "    .dataframe thead th {\n",
       "        text-align: right;\n",
       "    }\n",
       "</style>\n",
       "<table border=\"1\" class=\"dataframe\">\n",
       "  <thead>\n",
       "    <tr style=\"text-align: right;\">\n",
       "      <th></th>\n",
       "      <th>OCCUPATIONTYPE</th>\n",
       "      <th>ORGANIZATIONTYPE</th>\n",
       "    </tr>\n",
       "  </thead>\n",
       "  <tbody>\n",
       "    <tr>\n",
       "      <th>0</th>\n",
       "      <td>Low-skill Laborers</td>\n",
       "      <td>Industry: type 11</td>\n",
       "    </tr>\n",
       "    <tr>\n",
       "      <th>1</th>\n",
       "      <td>Managers</td>\n",
       "      <td>Business Entity Type 3</td>\n",
       "    </tr>\n",
       "    <tr>\n",
       "      <th>2</th>\n",
       "      <td>Laborers</td>\n",
       "      <td>Self-employed</td>\n",
       "    </tr>\n",
       "    <tr>\n",
       "      <th>3</th>\n",
       "      <td>Managers</td>\n",
       "      <td>Services</td>\n",
       "    </tr>\n",
       "    <tr>\n",
       "      <th>4</th>\n",
       "      <td>Managers</td>\n",
       "      <td>Other</td>\n",
       "    </tr>\n",
       "    <tr>\n",
       "      <th>...</th>\n",
       "      <td>...</td>\n",
       "      <td>...</td>\n",
       "    </tr>\n",
       "    <tr>\n",
       "      <th>246003</th>\n",
       "      <td>Sales staff</td>\n",
       "      <td>Business Entity Type 3</td>\n",
       "    </tr>\n",
       "    <tr>\n",
       "      <th>246004</th>\n",
       "      <td>NaN</td>\n",
       "      <td>XNA</td>\n",
       "    </tr>\n",
       "    <tr>\n",
       "      <th>246005</th>\n",
       "      <td>Laborers</td>\n",
       "      <td>Business Entity Type 3</td>\n",
       "    </tr>\n",
       "    <tr>\n",
       "      <th>246006</th>\n",
       "      <td>Laborers</td>\n",
       "      <td>Self-employed</td>\n",
       "    </tr>\n",
       "    <tr>\n",
       "      <th>246007</th>\n",
       "      <td>NaN</td>\n",
       "      <td>Housing</td>\n",
       "    </tr>\n",
       "  </tbody>\n",
       "</table>\n",
       "<p>246008 rows × 2 columns</p>\n",
       "</div>"
      ],
      "text/plain": [
       "            OCCUPATIONTYPE        ORGANIZATIONTYPE\n",
       "0       Low-skill Laborers       Industry: type 11\n",
       "1                 Managers  Business Entity Type 3\n",
       "2                 Laborers           Self-employed\n",
       "3                 Managers                Services\n",
       "4                 Managers                   Other\n",
       "...                    ...                     ...\n",
       "246003         Sales staff  Business Entity Type 3\n",
       "246004                 NaN                     XNA\n",
       "246005            Laborers  Business Entity Type 3\n",
       "246006            Laborers           Self-employed\n",
       "246007                 NaN                 Housing\n",
       "\n",
       "[246008 rows x 2 columns]"
      ]
     },
     "execution_count": 36,
     "metadata": {},
     "output_type": "execute_result"
    }
   ],
   "source": [
    "df_dummys.select_dtypes('object')"
   ]
  },
  {
   "cell_type": "code",
   "execution_count": 37,
   "id": "5e866a6e",
   "metadata": {
    "ExecuteTime": {
     "end_time": "2022-03-14T00:10:45.440542Z",
     "start_time": "2022-03-14T00:10:45.315515Z"
    }
   },
   "outputs": [],
   "source": [
    "df_dummys_label = df_dummys[df_dummys.select_dtypes('object').columns].apply(LabelEncoder().fit_transform)"
   ]
  },
  {
   "cell_type": "code",
   "execution_count": 38,
   "id": "6938e80f",
   "metadata": {
    "ExecuteTime": {
     "end_time": "2022-03-14T00:10:45.456545Z",
     "start_time": "2022-03-14T00:10:45.441542Z"
    }
   },
   "outputs": [
    {
     "data": {
      "text/html": [
       "<div>\n",
       "<style scoped>\n",
       "    .dataframe tbody tr th:only-of-type {\n",
       "        vertical-align: middle;\n",
       "    }\n",
       "\n",
       "    .dataframe tbody tr th {\n",
       "        vertical-align: top;\n",
       "    }\n",
       "\n",
       "    .dataframe thead th {\n",
       "        text-align: right;\n",
       "    }\n",
       "</style>\n",
       "<table border=\"1\" class=\"dataframe\">\n",
       "  <thead>\n",
       "    <tr style=\"text-align: right;\">\n",
       "      <th></th>\n",
       "      <th>OCCUPATIONTYPE</th>\n",
       "      <th>ORGANIZATIONTYPE</th>\n",
       "    </tr>\n",
       "  </thead>\n",
       "  <tbody>\n",
       "    <tr>\n",
       "      <th>0</th>\n",
       "      <td>9</td>\n",
       "      <td>16</td>\n",
       "    </tr>\n",
       "    <tr>\n",
       "      <th>1</th>\n",
       "      <td>10</td>\n",
       "      <td>5</td>\n",
       "    </tr>\n",
       "    <tr>\n",
       "      <th>2</th>\n",
       "      <td>8</td>\n",
       "      <td>42</td>\n",
       "    </tr>\n",
       "    <tr>\n",
       "      <th>3</th>\n",
       "      <td>10</td>\n",
       "      <td>43</td>\n",
       "    </tr>\n",
       "    <tr>\n",
       "      <th>4</th>\n",
       "      <td>10</td>\n",
       "      <td>33</td>\n",
       "    </tr>\n",
       "    <tr>\n",
       "      <th>...</th>\n",
       "      <td>...</td>\n",
       "      <td>...</td>\n",
       "    </tr>\n",
       "    <tr>\n",
       "      <th>246003</th>\n",
       "      <td>14</td>\n",
       "      <td>5</td>\n",
       "    </tr>\n",
       "    <tr>\n",
       "      <th>246004</th>\n",
       "      <td>18</td>\n",
       "      <td>57</td>\n",
       "    </tr>\n",
       "    <tr>\n",
       "      <th>246005</th>\n",
       "      <td>8</td>\n",
       "      <td>5</td>\n",
       "    </tr>\n",
       "    <tr>\n",
       "      <th>246006</th>\n",
       "      <td>8</td>\n",
       "      <td>42</td>\n",
       "    </tr>\n",
       "    <tr>\n",
       "      <th>246007</th>\n",
       "      <td>18</td>\n",
       "      <td>13</td>\n",
       "    </tr>\n",
       "  </tbody>\n",
       "</table>\n",
       "<p>246008 rows × 2 columns</p>\n",
       "</div>"
      ],
      "text/plain": [
       "        OCCUPATIONTYPE  ORGANIZATIONTYPE\n",
       "0                    9                16\n",
       "1                   10                 5\n",
       "2                    8                42\n",
       "3                   10                43\n",
       "4                   10                33\n",
       "...                ...               ...\n",
       "246003              14                 5\n",
       "246004              18                57\n",
       "246005               8                 5\n",
       "246006               8                42\n",
       "246007              18                13\n",
       "\n",
       "[246008 rows x 2 columns]"
      ]
     },
     "execution_count": 38,
     "metadata": {},
     "output_type": "execute_result"
    }
   ],
   "source": [
    "df_dummys_label"
   ]
  },
  {
   "cell_type": "code",
   "execution_count": 39,
   "id": "0e04e5ad",
   "metadata": {
    "ExecuteTime": {
     "end_time": "2022-03-14T00:10:45.598587Z",
     "start_time": "2022-03-14T00:10:45.458548Z"
    }
   },
   "outputs": [],
   "source": [
    "df_dummys_encoded = pd.concat([df_dummys_label, df_dummys.select_dtypes(exclude='object')], axis=1)"
   ]
  },
  {
   "cell_type": "code",
   "execution_count": 40,
   "id": "7f43d7a7",
   "metadata": {
    "ExecuteTime": {
     "end_time": "2022-03-14T00:10:47.759592Z",
     "start_time": "2022-03-14T00:10:45.601579Z"
    }
   },
   "outputs": [
    {
     "data": {
      "text/html": [
       "<div>\n",
       "<style scoped>\n",
       "    .dataframe tbody tr th:only-of-type {\n",
       "        vertical-align: middle;\n",
       "    }\n",
       "\n",
       "    .dataframe tbody tr th {\n",
       "        vertical-align: top;\n",
       "    }\n",
       "\n",
       "    .dataframe thead th {\n",
       "        text-align: right;\n",
       "    }\n",
       "</style>\n",
       "<table border=\"1\" class=\"dataframe\">\n",
       "  <thead>\n",
       "    <tr style=\"text-align: right;\">\n",
       "      <th></th>\n",
       "      <th>OCCUPATIONTYPE</th>\n",
       "      <th>ORGANIZATIONTYPE</th>\n",
       "      <th>SKIDCURR</th>\n",
       "      <th>TARGET</th>\n",
       "      <th>CNTCHILDREN</th>\n",
       "      <th>DAYSBIRTH</th>\n",
       "      <th>DAYSEMPLOYED</th>\n",
       "      <th>DAYSREGISTRATION</th>\n",
       "      <th>DAYSIDPUBLISH</th>\n",
       "      <th>OWNCARAGE</th>\n",
       "      <th>...</th>\n",
       "      <th>NAMEEDUCATIONTYPESecondarysecondaryspecial</th>\n",
       "      <th>WALLSMATERIALMODEBlock</th>\n",
       "      <th>WALLSMATERIALMODEMixed</th>\n",
       "      <th>WALLSMATERIALMODEMonolithic</th>\n",
       "      <th>WALLSMATERIALMODEOthers</th>\n",
       "      <th>WALLSMATERIALMODEPanel</th>\n",
       "      <th>WALLSMATERIALMODEStonebrick</th>\n",
       "      <th>WALLSMATERIALMODEWooden</th>\n",
       "      <th>EMERGENCYSTATEMODENo</th>\n",
       "      <th>EMERGENCYSTATEMODEYes</th>\n",
       "    </tr>\n",
       "  </thead>\n",
       "  <tbody>\n",
       "    <tr>\n",
       "      <th>count</th>\n",
       "      <td>246008.000000</td>\n",
       "      <td>246008.000000</td>\n",
       "      <td>246008.000000</td>\n",
       "      <td>246008.000000</td>\n",
       "      <td>246008.000000</td>\n",
       "      <td>246008.000000</td>\n",
       "      <td>246008.000000</td>\n",
       "      <td>246008.000000</td>\n",
       "      <td>246008.000000</td>\n",
       "      <td>83649.000000</td>\n",
       "      <td>...</td>\n",
       "      <td>246008.000000</td>\n",
       "      <td>246008.000000</td>\n",
       "      <td>246008.000000</td>\n",
       "      <td>246008.000000</td>\n",
       "      <td>246008.000000</td>\n",
       "      <td>246008.000000</td>\n",
       "      <td>246008.000000</td>\n",
       "      <td>246008.000000</td>\n",
       "      <td>246008.000000</td>\n",
       "      <td>246008.00000</td>\n",
       "    </tr>\n",
       "    <tr>\n",
       "      <th>mean</th>\n",
       "      <td>11.039844</td>\n",
       "      <td>29.436982</td>\n",
       "      <td>278280.072908</td>\n",
       "      <td>0.081176</td>\n",
       "      <td>0.415527</td>\n",
       "      <td>16042.794393</td>\n",
       "      <td>1954.523207</td>\n",
       "      <td>4988.033300</td>\n",
       "      <td>2991.647642</td>\n",
       "      <td>12.034346</td>\n",
       "      <td>...</td>\n",
       "      <td>0.710672</td>\n",
       "      <td>0.030007</td>\n",
       "      <td>0.007528</td>\n",
       "      <td>0.005801</td>\n",
       "      <td>0.005223</td>\n",
       "      <td>0.214704</td>\n",
       "      <td>0.210627</td>\n",
       "      <td>0.017329</td>\n",
       "      <td>0.517768</td>\n",
       "      <td>0.00761</td>\n",
       "    </tr>\n",
       "    <tr>\n",
       "      <th>std</th>\n",
       "      <td>5.955194</td>\n",
       "      <td>20.470311</td>\n",
       "      <td>102790.909988</td>\n",
       "      <td>0.273106</td>\n",
       "      <td>0.719922</td>\n",
       "      <td>4365.973763</td>\n",
       "      <td>2306.666246</td>\n",
       "      <td>3520.987047</td>\n",
       "      <td>1510.020637</td>\n",
       "      <td>11.861705</td>\n",
       "      <td>...</td>\n",
       "      <td>0.453451</td>\n",
       "      <td>0.170607</td>\n",
       "      <td>0.086438</td>\n",
       "      <td>0.075941</td>\n",
       "      <td>0.072084</td>\n",
       "      <td>0.410618</td>\n",
       "      <td>0.407755</td>\n",
       "      <td>0.130493</td>\n",
       "      <td>0.499685</td>\n",
       "      <td>0.08690</td>\n",
       "    </tr>\n",
       "    <tr>\n",
       "      <th>min</th>\n",
       "      <td>0.000000</td>\n",
       "      <td>0.000000</td>\n",
       "      <td>100002.000000</td>\n",
       "      <td>0.000000</td>\n",
       "      <td>0.000000</td>\n",
       "      <td>7489.000000</td>\n",
       "      <td>0.000000</td>\n",
       "      <td>0.000000</td>\n",
       "      <td>0.000000</td>\n",
       "      <td>0.000000</td>\n",
       "      <td>...</td>\n",
       "      <td>0.000000</td>\n",
       "      <td>0.000000</td>\n",
       "      <td>0.000000</td>\n",
       "      <td>0.000000</td>\n",
       "      <td>0.000000</td>\n",
       "      <td>0.000000</td>\n",
       "      <td>0.000000</td>\n",
       "      <td>0.000000</td>\n",
       "      <td>0.000000</td>\n",
       "      <td>0.00000</td>\n",
       "    </tr>\n",
       "    <tr>\n",
       "      <th>25%</th>\n",
       "      <td>6.000000</td>\n",
       "      <td>5.000000</td>\n",
       "      <td>189165.500000</td>\n",
       "      <td>0.000000</td>\n",
       "      <td>0.000000</td>\n",
       "      <td>12418.000000</td>\n",
       "      <td>289.000000</td>\n",
       "      <td>2018.000000</td>\n",
       "      <td>1715.000000</td>\n",
       "      <td>5.000000</td>\n",
       "      <td>...</td>\n",
       "      <td>0.000000</td>\n",
       "      <td>0.000000</td>\n",
       "      <td>0.000000</td>\n",
       "      <td>0.000000</td>\n",
       "      <td>0.000000</td>\n",
       "      <td>0.000000</td>\n",
       "      <td>0.000000</td>\n",
       "      <td>0.000000</td>\n",
       "      <td>0.000000</td>\n",
       "      <td>0.00000</td>\n",
       "    </tr>\n",
       "    <tr>\n",
       "      <th>50%</th>\n",
       "      <td>10.000000</td>\n",
       "      <td>33.000000</td>\n",
       "      <td>278392.500000</td>\n",
       "      <td>0.000000</td>\n",
       "      <td>0.000000</td>\n",
       "      <td>15763.000000</td>\n",
       "      <td>1215.000000</td>\n",
       "      <td>4503.000000</td>\n",
       "      <td>3250.000000</td>\n",
       "      <td>9.000000</td>\n",
       "      <td>...</td>\n",
       "      <td>1.000000</td>\n",
       "      <td>0.000000</td>\n",
       "      <td>0.000000</td>\n",
       "      <td>0.000000</td>\n",
       "      <td>0.000000</td>\n",
       "      <td>0.000000</td>\n",
       "      <td>0.000000</td>\n",
       "      <td>0.000000</td>\n",
       "      <td>1.000000</td>\n",
       "      <td>0.00000</td>\n",
       "    </tr>\n",
       "    <tr>\n",
       "      <th>75%</th>\n",
       "      <td>18.000000</td>\n",
       "      <td>47.000000</td>\n",
       "      <td>367272.250000</td>\n",
       "      <td>0.000000</td>\n",
       "      <td>1.000000</td>\n",
       "      <td>19691.000000</td>\n",
       "      <td>2758.000000</td>\n",
       "      <td>7481.000000</td>\n",
       "      <td>4297.250000</td>\n",
       "      <td>15.000000</td>\n",
       "      <td>...</td>\n",
       "      <td>1.000000</td>\n",
       "      <td>0.000000</td>\n",
       "      <td>0.000000</td>\n",
       "      <td>0.000000</td>\n",
       "      <td>0.000000</td>\n",
       "      <td>0.000000</td>\n",
       "      <td>0.000000</td>\n",
       "      <td>0.000000</td>\n",
       "      <td>1.000000</td>\n",
       "      <td>0.00000</td>\n",
       "    </tr>\n",
       "    <tr>\n",
       "      <th>max</th>\n",
       "      <td>18.000000</td>\n",
       "      <td>57.000000</td>\n",
       "      <td>456255.000000</td>\n",
       "      <td>1.000000</td>\n",
       "      <td>19.000000</td>\n",
       "      <td>25229.000000</td>\n",
       "      <td>17912.000000</td>\n",
       "      <td>23738.000000</td>\n",
       "      <td>7197.000000</td>\n",
       "      <td>91.000000</td>\n",
       "      <td>...</td>\n",
       "      <td>1.000000</td>\n",
       "      <td>1.000000</td>\n",
       "      <td>1.000000</td>\n",
       "      <td>1.000000</td>\n",
       "      <td>1.000000</td>\n",
       "      <td>1.000000</td>\n",
       "      <td>1.000000</td>\n",
       "      <td>1.000000</td>\n",
       "      <td>1.000000</td>\n",
       "      <td>1.00000</td>\n",
       "    </tr>\n",
       "  </tbody>\n",
       "</table>\n",
       "<p>8 rows × 143 columns</p>\n",
       "</div>"
      ],
      "text/plain": [
       "       OCCUPATIONTYPE  ORGANIZATIONTYPE       SKIDCURR         TARGET  \\\n",
       "count   246008.000000     246008.000000  246008.000000  246008.000000   \n",
       "mean        11.039844         29.436982  278280.072908       0.081176   \n",
       "std          5.955194         20.470311  102790.909988       0.273106   \n",
       "min          0.000000          0.000000  100002.000000       0.000000   \n",
       "25%          6.000000          5.000000  189165.500000       0.000000   \n",
       "50%         10.000000         33.000000  278392.500000       0.000000   \n",
       "75%         18.000000         47.000000  367272.250000       0.000000   \n",
       "max         18.000000         57.000000  456255.000000       1.000000   \n",
       "\n",
       "         CNTCHILDREN      DAYSBIRTH   DAYSEMPLOYED  DAYSREGISTRATION  \\\n",
       "count  246008.000000  246008.000000  246008.000000     246008.000000   \n",
       "mean        0.415527   16042.794393    1954.523207       4988.033300   \n",
       "std         0.719922    4365.973763    2306.666246       3520.987047   \n",
       "min         0.000000    7489.000000       0.000000          0.000000   \n",
       "25%         0.000000   12418.000000     289.000000       2018.000000   \n",
       "50%         0.000000   15763.000000    1215.000000       4503.000000   \n",
       "75%         1.000000   19691.000000    2758.000000       7481.000000   \n",
       "max        19.000000   25229.000000   17912.000000      23738.000000   \n",
       "\n",
       "       DAYSIDPUBLISH     OWNCARAGE  ...  \\\n",
       "count  246008.000000  83649.000000  ...   \n",
       "mean     2991.647642     12.034346  ...   \n",
       "std      1510.020637     11.861705  ...   \n",
       "min         0.000000      0.000000  ...   \n",
       "25%      1715.000000      5.000000  ...   \n",
       "50%      3250.000000      9.000000  ...   \n",
       "75%      4297.250000     15.000000  ...   \n",
       "max      7197.000000     91.000000  ...   \n",
       "\n",
       "       NAMEEDUCATIONTYPESecondarysecondaryspecial  WALLSMATERIALMODEBlock  \\\n",
       "count                               246008.000000           246008.000000   \n",
       "mean                                     0.710672                0.030007   \n",
       "std                                      0.453451                0.170607   \n",
       "min                                      0.000000                0.000000   \n",
       "25%                                      0.000000                0.000000   \n",
       "50%                                      1.000000                0.000000   \n",
       "75%                                      1.000000                0.000000   \n",
       "max                                      1.000000                1.000000   \n",
       "\n",
       "       WALLSMATERIALMODEMixed  WALLSMATERIALMODEMonolithic  \\\n",
       "count           246008.000000                246008.000000   \n",
       "mean                 0.007528                     0.005801   \n",
       "std                  0.086438                     0.075941   \n",
       "min                  0.000000                     0.000000   \n",
       "25%                  0.000000                     0.000000   \n",
       "50%                  0.000000                     0.000000   \n",
       "75%                  0.000000                     0.000000   \n",
       "max                  1.000000                     1.000000   \n",
       "\n",
       "       WALLSMATERIALMODEOthers  WALLSMATERIALMODEPanel  \\\n",
       "count            246008.000000           246008.000000   \n",
       "mean                  0.005223                0.214704   \n",
       "std                   0.072084                0.410618   \n",
       "min                   0.000000                0.000000   \n",
       "25%                   0.000000                0.000000   \n",
       "50%                   0.000000                0.000000   \n",
       "75%                   0.000000                0.000000   \n",
       "max                   1.000000                1.000000   \n",
       "\n",
       "       WALLSMATERIALMODEStonebrick  WALLSMATERIALMODEWooden  \\\n",
       "count                246008.000000            246008.000000   \n",
       "mean                      0.210627                 0.017329   \n",
       "std                       0.407755                 0.130493   \n",
       "min                       0.000000                 0.000000   \n",
       "25%                       0.000000                 0.000000   \n",
       "50%                       0.000000                 0.000000   \n",
       "75%                       0.000000                 0.000000   \n",
       "max                       1.000000                 1.000000   \n",
       "\n",
       "       EMERGENCYSTATEMODENo  EMERGENCYSTATEMODEYes  \n",
       "count         246008.000000           246008.00000  \n",
       "mean               0.517768                0.00761  \n",
       "std                0.499685                0.08690  \n",
       "min                0.000000                0.00000  \n",
       "25%                0.000000                0.00000  \n",
       "50%                1.000000                0.00000  \n",
       "75%                1.000000                0.00000  \n",
       "max                1.000000                1.00000  \n",
       "\n",
       "[8 rows x 143 columns]"
      ]
     },
     "execution_count": 40,
     "metadata": {},
     "output_type": "execute_result"
    }
   ],
   "source": [
    "df_dummys_encoded.describe()"
   ]
  },
  {
   "cell_type": "code",
   "execution_count": 41,
   "id": "d0a131e2",
   "metadata": {
    "ExecuteTime": {
     "end_time": "2022-03-14T00:10:47.887620Z",
     "start_time": "2022-03-14T00:10:47.761579Z"
    }
   },
   "outputs": [],
   "source": [
    "df_dummys_encoded = df_dummys_encoded.fillna(0)"
   ]
  },
  {
   "cell_type": "code",
   "execution_count": null,
   "id": "dc239ffb",
   "metadata": {},
   "outputs": [],
   "source": []
  },
  {
   "cell_type": "code",
   "execution_count": null,
   "id": "2e2d4a74",
   "metadata": {},
   "outputs": [],
   "source": []
  },
  {
   "cell_type": "code",
   "execution_count": null,
   "id": "59377d49",
   "metadata": {},
   "outputs": [],
   "source": []
  },
  {
   "cell_type": "markdown",
   "id": "e81fd458",
   "metadata": {},
   "source": [
    "## Separação Treino/teste"
   ]
  },
  {
   "cell_type": "markdown",
   "id": "95761814",
   "metadata": {
    "ExecuteTime": {
     "end_time": "2022-03-12T19:30:15.975942Z",
     "start_time": "2022-03-12T19:30:15.954354Z"
    }
   },
   "source": [
    "A separação dos dados considera as duas situações de categorização"
   ]
  },
  {
   "cell_type": "markdown",
   "id": "434b1a1f",
   "metadata": {},
   "source": [
    "**20% dos dados será separado para validação final dos modelos, sem que participe dos treinamentos**"
   ]
  },
  {
   "cell_type": "code",
   "execution_count": 42,
   "id": "87beb7b0",
   "metadata": {
    "ExecuteTime": {
     "end_time": "2022-03-14T00:10:48.285709Z",
     "start_time": "2022-03-14T00:10:47.889602Z"
    }
   },
   "outputs": [],
   "source": [
    "X, X_final, y, y_final = train_test_split(df_label.drop('TARGET', axis=1), \n",
    "                                          df_label['TARGET'], \n",
    "                                          test_size=0.2, random_state=81)"
   ]
  },
  {
   "cell_type": "code",
   "execution_count": 43,
   "id": "921f44df",
   "metadata": {
    "ExecuteTime": {
     "end_time": "2022-03-14T00:10:48.747813Z",
     "start_time": "2022-03-14T00:10:48.287704Z"
    }
   },
   "outputs": [],
   "source": [
    "Xd, X_finald, yd, y_finald = train_test_split(df_dummys_encoded.drop('TARGET', axis=1), \n",
    "                                          df_dummys_encoded['TARGET'], \n",
    "                                          test_size=0.2, random_state=81)"
   ]
  },
  {
   "cell_type": "code",
   "execution_count": null,
   "id": "dc4d3a39",
   "metadata": {},
   "outputs": [],
   "source": []
  },
  {
   "cell_type": "code",
   "execution_count": 44,
   "id": "a9b52389",
   "metadata": {
    "ExecuteTime": {
     "end_time": "2022-03-14T00:10:48.763817Z",
     "start_time": "2022-03-14T00:10:48.749796Z"
    }
   },
   "outputs": [
    {
     "data": {
      "text/plain": [
       "((196806, 94), (49202, 94), (196806, 142), (49202, 142))"
      ]
     },
     "execution_count": 44,
     "metadata": {},
     "output_type": "execute_result"
    }
   ],
   "source": [
    "X.shape, X_final.shape, Xd.shape, X_finald.shape"
   ]
  },
  {
   "cell_type": "markdown",
   "id": "33fe7f47",
   "metadata": {},
   "source": [
    "**Dados de treino e teste separados na proporção de 70/30**"
   ]
  },
  {
   "cell_type": "code",
   "execution_count": 45,
   "id": "0a7b88f2",
   "metadata": {
    "ExecuteTime": {
     "end_time": "2022-03-14T00:10:49.001851Z",
     "start_time": "2022-03-14T00:10:48.765803Z"
    }
   },
   "outputs": [],
   "source": [
    "X_train, X_test, y_train, y_test = train_test_split(X, y, test_size=0.3, random_state=81)"
   ]
  },
  {
   "cell_type": "code",
   "execution_count": 46,
   "id": "3e0e6e3a",
   "metadata": {
    "ExecuteTime": {
     "end_time": "2022-03-14T00:10:49.289923Z",
     "start_time": "2022-03-14T00:10:49.003852Z"
    }
   },
   "outputs": [],
   "source": [
    "X_traind, X_testd, y_traind, y_testd = train_test_split(Xd, yd, test_size=0.3, random_state=81)"
   ]
  },
  {
   "cell_type": "code",
   "execution_count": 47,
   "id": "5c9cfa36",
   "metadata": {
    "ExecuteTime": {
     "end_time": "2022-03-14T00:10:49.305939Z",
     "start_time": "2022-03-14T00:10:49.291936Z"
    }
   },
   "outputs": [
    {
     "data": {
      "text/plain": [
       "((137764, 94), (59042, 94), (137764, 142), (59042, 142))"
      ]
     },
     "execution_count": 47,
     "metadata": {},
     "output_type": "execute_result"
    }
   ],
   "source": [
    "X_train.shape, X_test.shape, X_traind.shape, X_testd.shape"
   ]
  },
  {
   "cell_type": "code",
   "execution_count": null,
   "id": "f0b00e95",
   "metadata": {},
   "outputs": [],
   "source": []
  },
  {
   "cell_type": "code",
   "execution_count": 48,
   "id": "550ad303",
   "metadata": {
    "ExecuteTime": {
     "end_time": "2022-03-14T00:11:14.771234Z",
     "start_time": "2022-03-14T00:10:49.307927Z"
    }
   },
   "outputs": [],
   "source": [
    "X_final.to_csv('X_final.csv')\n",
    "y_final.to_csv('y_final.csv')\n",
    "X_finald.to_csv('X_finald.csv')\n",
    "y_finald.to_csv('y_finald.csv')\n",
    "X_train.to_csv('X_train.csv')\n",
    "X_test.to_csv('X_test.csv')\n",
    "y_train.to_csv('y_train.csv')\n",
    "y_test.to_csv('y_test.csv')\n",
    "X_traind.to_csv('X_traind.csv')\n",
    "X_testd.to_csv('X_testd.csv')\n",
    "y_traind.to_csv('y_traind.csv')\n",
    "y_testd.to_csv('y_testd.csv')"
   ]
  },
  {
   "cell_type": "code",
   "execution_count": null,
   "id": "7b7f17d9",
   "metadata": {},
   "outputs": [],
   "source": []
  },
  {
   "cell_type": "code",
   "execution_count": null,
   "id": "8c4aa797",
   "metadata": {},
   "outputs": [],
   "source": []
  },
  {
   "cell_type": "code",
   "execution_count": null,
   "id": "fc31c535",
   "metadata": {},
   "outputs": [],
   "source": []
  },
  {
   "cell_type": "code",
   "execution_count": null,
   "id": "4e103480",
   "metadata": {},
   "outputs": [],
   "source": []
  },
  {
   "cell_type": "markdown",
   "id": "5f0f9f32",
   "metadata": {},
   "source": [
    "## Colunas CHI2"
   ]
  },
  {
   "cell_type": "code",
   "execution_count": 49,
   "id": "9dfd6881",
   "metadata": {
    "ExecuteTime": {
     "end_time": "2022-03-14T00:11:17.183526Z",
     "start_time": "2022-03-14T00:11:14.791244Z"
    }
   },
   "outputs": [
    {
     "data": {
      "text/plain": [
       "SelectKBest(k=20, score_func=<function chi2 at 0x0000016A45603A60>)"
      ]
     },
     "execution_count": 49,
     "metadata": {},
     "output_type": "execute_result"
    }
   ],
   "source": [
    "sb = SelectKBest(score_func=chi2, k=20, )\n",
    "\n",
    "sb.fit(df_label.drop(['TARGET','SKIDCURR'],axis=1), df_label['TARGET'])\n"
   ]
  },
  {
   "cell_type": "code",
   "execution_count": 50,
   "id": "f86d4f3a",
   "metadata": {
    "ExecuteTime": {
     "end_time": "2022-03-14T00:11:17.213535Z",
     "start_time": "2022-03-14T00:11:17.188526Z"
    }
   },
   "outputs": [
    {
     "name": "stdout",
     "output_type": "stream",
     "text": [
      "['NAMEINCOMETYPE' 'NAMEEDUCATIONTYPE' 'ORGANIZATIONTYPE' 'HOUSETYPEMODE'\n",
      " 'EMERGENCYSTATEMODE' 'DAYSBIRTH' 'DAYSEMPLOYED' 'DAYSREGISTRATION'\n",
      " 'DAYSIDPUBLISH' 'REGCITYNOTLIVECITY' 'REGCITYNOTWORKCITY'\n",
      " 'DEF30CNTSOCIALCIRCLE' 'DAYSLASTPHONECHANGE' 'AMTINCOMETOTAL' 'AMTCREDIT'\n",
      " 'AMTANNUITY' 'AMTGOODSPRICE' 'EXTSOURCE1' 'EXTSOURCE2' 'EXTSOURCE3']\n"
     ]
    }
   ],
   "source": [
    "cols_chi2 = sb.get_feature_names_out()\n",
    "print(cols_chi2)"
   ]
  },
  {
   "cell_type": "code",
   "execution_count": null,
   "id": "22758eca",
   "metadata": {},
   "outputs": [],
   "source": []
  },
  {
   "cell_type": "code",
   "execution_count": 51,
   "id": "b5efa643",
   "metadata": {
    "ExecuteTime": {
     "end_time": "2022-03-14T00:11:18.032226Z",
     "start_time": "2022-03-14T00:11:17.215532Z"
    }
   },
   "outputs": [
    {
     "data": {
      "text/plain": [
       "SelectKBest(k=20, score_func=<function chi2 at 0x0000016A45603A60>)"
      ]
     },
     "execution_count": 51,
     "metadata": {},
     "output_type": "execute_result"
    }
   ],
   "source": [
    "sbd = SelectKBest(score_func=chi2, k=20, )\n",
    "\n",
    "sbd.fit(df_dummys_encoded.drop(['TARGET','SKIDCURR'],axis=1), df_dummys_encoded['TARGET'])\n"
   ]
  },
  {
   "cell_type": "code",
   "execution_count": 52,
   "id": "9af3a27e",
   "metadata": {
    "ExecuteTime": {
     "end_time": "2022-03-14T00:11:18.048233Z",
     "start_time": "2022-03-14T00:11:18.038228Z"
    }
   },
   "outputs": [
    {
     "name": "stdout",
     "output_type": "stream",
     "text": [
      "['OCCUPATIONTYPE' 'ORGANIZATIONTYPE' 'DAYSBIRTH' 'DAYSEMPLOYED'\n",
      " 'DAYSREGISTRATION' 'DAYSIDPUBLISH' 'REGCITYNOTLIVECITY'\n",
      " 'REGCITYNOTWORKCITY' 'DEF30CNTSOCIALCIRCLE' 'DAYSLASTPHONECHANGE'\n",
      " 'AMTINCOMETOTAL' 'AMTCREDIT' 'AMTANNUITY' 'AMTGOODSPRICE' 'EXTSOURCE1'\n",
      " 'EXTSOURCE2' 'EXTSOURCE3' 'NAMEINCOMETYPEPensioner'\n",
      " 'NAMEINCOMETYPEWorking' 'NAMEEDUCATIONTYPEHighereducation']\n"
     ]
    }
   ],
   "source": [
    "cols_chi2d = sbd.get_feature_names_out()\n",
    "print(cols_chi2d)"
   ]
  },
  {
   "cell_type": "code",
   "execution_count": null,
   "id": "38c0ab04",
   "metadata": {},
   "outputs": [],
   "source": []
  },
  {
   "cell_type": "markdown",
   "id": "39b9018e",
   "metadata": {},
   "source": [
    "# Modelagem 1"
   ]
  },
  {
   "cell_type": "markdown",
   "id": "ae908921",
   "metadata": {},
   "source": [
    "* Colunas: todas\n",
    "* DataCleaning: Preenchimento de valor ZERO para valores ausentes\n",
    "* Categorização: LabelEnconder\n",
    "* Balanceamento: Sem Balanceamento"
   ]
  },
  {
   "cell_type": "markdown",
   "id": "f5579c57",
   "metadata": {},
   "source": [
    "## Tratamento de dados"
   ]
  },
  {
   "cell_type": "code",
   "execution_count": null,
   "id": "a2a254cb",
   "metadata": {},
   "outputs": [],
   "source": []
  },
  {
   "cell_type": "code",
   "execution_count": null,
   "id": "dc909c6e",
   "metadata": {},
   "outputs": [],
   "source": []
  },
  {
   "cell_type": "markdown",
   "id": "2fefd759",
   "metadata": {},
   "source": [
    "## Algoritmos"
   ]
  },
  {
   "cell_type": "markdown",
   "id": "d1759c90",
   "metadata": {},
   "source": [
    "### RandomForest"
   ]
  },
  {
   "cell_type": "code",
   "execution_count": 53,
   "id": "4f1abc74",
   "metadata": {
    "ExecuteTime": {
     "end_time": "2022-03-14T00:12:35.878240Z",
     "start_time": "2022-03-14T00:11:18.050232Z"
    }
   },
   "outputs": [
    {
     "name": "stdout",
     "output_type": "stream",
     "text": [
      "fit_time : [12.16594815 11.14880395 12.29853439 11.50898933 10.53966618]\n",
      "score_time : [0.19903946 0.19899535 0.18904161 0.18604302 0.19104528]\n",
      "test_score : [0.7170546  0.71027407 0.72209565 0.72177946 0.72659209]\n",
      "train_score : [0.73742696 0.73971363 0.7367251  0.7362665  0.73623011]\n",
      "\n",
      "\n",
      "ROC_AUC:\n",
      "0.7186129968876337\n",
      "\n",
      "Matriz de Confusão:\n",
      "[[54231     0]\n",
      " [ 4811     0]]\n",
      "\n",
      "\n",
      "Wall time: 1min 17s\n"
     ]
    }
   ],
   "source": [
    "%%time\n",
    "\n",
    "mdl = RandomForestClassifier(max_depth=5)\n",
    "\n",
    "dados_modelo = executaAlgoritmo(mdl, X_train, y_train, X_test, y_test)\n",
    "\n"
   ]
  },
  {
   "cell_type": "code",
   "execution_count": null,
   "id": "5e589407",
   "metadata": {},
   "outputs": [],
   "source": []
  },
  {
   "cell_type": "code",
   "execution_count": 54,
   "id": "c14fcff9",
   "metadata": {
    "ExecuteTime": {
     "end_time": "2022-03-14T00:12:36.656075Z",
     "start_time": "2022-03-14T00:12:35.880241Z"
    }
   },
   "outputs": [
    {
     "name": "stdout",
     "output_type": "stream",
     "text": [
      "ROC_AUC:\n",
      "0.7150876642370225\n",
      "\n",
      "Matriz de Confusão:\n",
      "[[45288     0]\n",
      " [ 3914     0]]\n"
     ]
    }
   ],
   "source": [
    "roc_final, cv_final = avalicaoModelo(mdl, X_final, y_final)"
   ]
  },
  {
   "cell_type": "code",
   "execution_count": null,
   "id": "f870e91b",
   "metadata": {},
   "outputs": [],
   "source": []
  },
  {
   "cell_type": "markdown",
   "id": "0a98985c",
   "metadata": {},
   "source": [
    "#### Inserção tabela de controle"
   ]
  },
  {
   "cell_type": "code",
   "execution_count": 55,
   "id": "399059fd",
   "metadata": {
    "ExecuteTime": {
     "end_time": "2022-03-14T00:12:36.703084Z",
     "start_time": "2022-03-14T00:12:36.659075Z"
    }
   },
   "outputs": [],
   "source": [
    "nome = 'RandomForest_Mod1'\n",
    "\n",
    "lista_modelos= lista_modelos.append({'id_modelo':'3.2.1',\n",
    "                      'nome_modelo':nome,\n",
    "                      'data_treino':'09/03/2022',\n",
    "                      'metodo':'RandomForest',\n",
    "                      'roc_auc':roc_auc_score(y_test, dados_modelo[2][:,1]),\n",
    "                      'tempo_de_treino':dados_modelo[3]['fit_time'].mean(),\n",
    "                      'hyperparametros':dados_modelo[0].get_params(),\n",
    "                      'path_to_pickle': ''+nome+'.pkl',\n",
    "                      'colunas_selection':'todas',\n",
    "                      'metodo_balanceamento':'sem',\n",
    "                      'data_cleaning':'preenchimentoZero',\n",
    "                      'categorizacao':'labelEnconder',\n",
    "                      'confusao': confusion_matrix(y_test, dados_modelo[1]),\n",
    "                      'roc_auc_validacao_final':roc_final,\n",
    "                      'confusao_validacao_final': cv_final,\n",
    "\n",
    "\n",
    "                                    },\n",
    "                    ignore_index=True)"
   ]
  },
  {
   "cell_type": "code",
   "execution_count": 56,
   "id": "00ffbf93",
   "metadata": {
    "ExecuteTime": {
     "end_time": "2022-03-14T00:12:36.734090Z",
     "start_time": "2022-03-14T00:12:36.705089Z"
    }
   },
   "outputs": [],
   "source": [
    "with open(nome+'.pkl','wb') as file:\n",
    "    pickle.dump(mdl, file)"
   ]
  },
  {
   "cell_type": "markdown",
   "id": "b5abc778",
   "metadata": {},
   "source": [
    "### LGBM"
   ]
  },
  {
   "cell_type": "code",
   "execution_count": 57,
   "id": "2f54cef4",
   "metadata": {
    "ExecuteTime": {
     "end_time": "2022-03-14T00:12:47.876438Z",
     "start_time": "2022-03-14T00:12:36.736093Z"
    }
   },
   "outputs": [
    {
     "name": "stdout",
     "output_type": "stream",
     "text": [
      "fit_time : [1.98403382 1.562006   1.34139109 1.3370111  1.43385291]\n",
      "score_time : [0.08802009 0.07101583 0.0640142  0.06004739 0.07001495]\n",
      "test_score : [0.75138738 0.73459583 0.74147566 0.75499493 0.75215256]\n",
      "train_score : [0.83744161 0.83750871 0.83576443 0.83799834 0.83576036]\n",
      "\n",
      "\n",
      "ROC_AUC:\n",
      "0.7468589843854518\n",
      "\n",
      "Matriz de Confusão:\n",
      "[[54147    84]\n",
      " [ 4725    86]]\n",
      "\n",
      "\n",
      "Wall time: 11.1 s\n"
     ]
    }
   ],
   "source": [
    "%%time\n",
    "\n",
    "mdl = LGBMClassifier()\n",
    "\n",
    "dados_modelo = executaAlgoritmo(mdl, X_train, y_train, X_test, y_test)\n"
   ]
  },
  {
   "cell_type": "code",
   "execution_count": null,
   "id": "9b8bd7ce",
   "metadata": {},
   "outputs": [],
   "source": []
  },
  {
   "cell_type": "code",
   "execution_count": 58,
   "id": "e7a616a3",
   "metadata": {
    "ExecuteTime": {
     "end_time": "2022-03-14T00:12:48.178506Z",
     "start_time": "2022-03-14T00:12:47.878439Z"
    }
   },
   "outputs": [
    {
     "name": "stdout",
     "output_type": "stream",
     "text": [
      "ROC_AUC:\n",
      "0.7494568684227225\n",
      "\n",
      "Matriz de Confusão:\n",
      "[[45232    56]\n",
      " [ 3843    71]]\n"
     ]
    }
   ],
   "source": [
    "roc_final, cv_final = avalicaoModelo(mdl, X_final, y_final)"
   ]
  },
  {
   "cell_type": "code",
   "execution_count": null,
   "id": "e1de0585",
   "metadata": {},
   "outputs": [],
   "source": []
  },
  {
   "cell_type": "markdown",
   "id": "f5203ab6",
   "metadata": {},
   "source": [
    "#### Inserção tabela de controle"
   ]
  },
  {
   "cell_type": "code",
   "execution_count": 59,
   "id": "27ff8170",
   "metadata": {
    "ExecuteTime": {
     "end_time": "2022-03-14T00:12:48.226517Z",
     "start_time": "2022-03-14T00:12:48.180506Z"
    }
   },
   "outputs": [],
   "source": [
    "nome = 'LGBM_Mod1'\n",
    "\n",
    "\n",
    "lista_modelos= lista_modelos.append({'id_modelo':'3.2.2',\n",
    "                      'nome_modelo':nome,\n",
    "                      'data_treino':'09/03/2022',\n",
    "                      'metodo':'LGBM',\n",
    "                      'roc_auc':roc_auc_score(y_test, dados_modelo[2][:,1]),\n",
    "                      'tempo_de_treino':dados_modelo[3]['fit_time'].mean(),\n",
    "                      'hyperparametros':dados_modelo[0].get_params(),\n",
    "                      'path_to_pickle': ''+nome+'.pkl',\n",
    "                      'colunas_selection':'todas',\n",
    "                      'metodo_balanceamento':'sem',\n",
    "                      'data_cleaning':'preenchimentoZero',\n",
    "                      'categorizacao':'labelEnconder',\n",
    "                      'confusao': confusion_matrix(y_test, dados_modelo[1]),\n",
    "                      'roc_auc_validacao_final':roc_final,\n",
    "                      'confusao_validacao_final': cv_final,\n",
    "                                    },\n",
    "                    ignore_index=True)"
   ]
  },
  {
   "cell_type": "code",
   "execution_count": 60,
   "id": "a8879adb",
   "metadata": {
    "ExecuteTime": {
     "end_time": "2022-03-14T00:12:48.242522Z",
     "start_time": "2022-03-14T00:12:48.228520Z"
    }
   },
   "outputs": [],
   "source": [
    "with open(nome+'.pkl','wb') as file:\n",
    "    pickle.dump(mdl, file)"
   ]
  },
  {
   "cell_type": "code",
   "execution_count": null,
   "id": "c50a6c9b",
   "metadata": {},
   "outputs": [],
   "source": []
  },
  {
   "cell_type": "markdown",
   "id": "d3d684f9",
   "metadata": {},
   "source": [
    "### XGB"
   ]
  },
  {
   "cell_type": "code",
   "execution_count": 61,
   "id": "faf38a23",
   "metadata": {
    "ExecuteTime": {
     "end_time": "2022-03-14T00:13:47.332410Z",
     "start_time": "2022-03-14T00:12:48.244522Z"
    }
   },
   "outputs": [
    {
     "name": "stdout",
     "output_type": "stream",
     "text": [
      "fit_time : [8.14108539 8.9199729  9.4705863  8.64138961 9.30235648]\n",
      "score_time : [0.04400921 0.05502343 0.0570128  0.041008   0.0680151 ]\n",
      "test_score : [0.73691334 0.72076572 0.72537652 0.73695538 0.73779669]\n",
      "train_score : [0.90961526 0.90478011 0.9070184  0.90706247 0.90610333]\n",
      "\n",
      "\n",
      "ROC_AUC:\n",
      "0.7366408857839364\n",
      "\n",
      "Matriz de Confusão:\n",
      "[[54045   186]\n",
      " [ 4640   171]]\n",
      "\n",
      "\n",
      "Wall time: 59.1 s\n"
     ]
    }
   ],
   "source": [
    "%%time\n",
    "\n",
    "\n",
    "mdl = XGBClassifier(use_label_encoder=False, eval_metric='logloss')\n",
    "\n",
    "dados_modelo = executaAlgoritmo(mdl, X_train, y_train, X_test, y_test)\n"
   ]
  },
  {
   "cell_type": "code",
   "execution_count": 62,
   "id": "cfcb64db",
   "metadata": {
    "ExecuteTime": {
     "end_time": "2022-03-14T00:13:47.538456Z",
     "start_time": "2022-03-14T00:13:47.334411Z"
    }
   },
   "outputs": [
    {
     "name": "stdout",
     "output_type": "stream",
     "text": [
      "ROC_AUC:\n",
      "0.7380655645124821\n",
      "\n",
      "Matriz de Confusão:\n",
      "[[45142   146]\n",
      " [ 3785   129]]\n"
     ]
    }
   ],
   "source": [
    "roc_final, cv_final = avalicaoModelo(mdl, X_final, y_final)\n"
   ]
  },
  {
   "cell_type": "code",
   "execution_count": null,
   "id": "f0217aba",
   "metadata": {},
   "outputs": [],
   "source": []
  },
  {
   "cell_type": "markdown",
   "id": "ce59102a",
   "metadata": {},
   "source": [
    "#### Inserção tabela de controle"
   ]
  },
  {
   "cell_type": "code",
   "execution_count": 63,
   "id": "8a26a129",
   "metadata": {
    "ExecuteTime": {
     "end_time": "2022-03-14T00:13:47.601471Z",
     "start_time": "2022-03-14T00:13:47.540459Z"
    }
   },
   "outputs": [],
   "source": [
    "nome = 'XGB_Mod1'\n",
    "\n",
    "\n",
    "lista_modelos= lista_modelos.append({'id_modelo':'3.2.3',\n",
    "                      'nome_modelo':nome,\n",
    "                      'data_treino':'09/03/2022',\n",
    "                      'metodo':'XGB',\n",
    "                      'roc_auc':roc_auc_score(y_test, dados_modelo[2][:,1]),\n",
    "                      'tempo_de_treino':dados_modelo[3]['fit_time'].mean(),\n",
    "                      'hyperparametros':dados_modelo[0].get_params(),\n",
    "                      'path_to_pickle': ''+nome+'.pkl',\n",
    "                      'colunas_selection':'todas',\n",
    "                      'metodo_balanceamento':'sem',\n",
    "                      'data_cleaning':'preenchimentoZero',\n",
    "                      'categorizacao':'labelEnconder',\n",
    "                      'confusao': confusion_matrix(y_test, dados_modelo[1]),       \n",
    "                      'roc_auc_validacao_final':roc_final,\n",
    "                      'confusao_validacao_final': cv_final,\n",
    "                                    \n",
    "                                    },\n",
    "                    ignore_index=True)"
   ]
  },
  {
   "cell_type": "code",
   "execution_count": 64,
   "id": "aab3661d",
   "metadata": {
    "ExecuteTime": {
     "end_time": "2022-03-14T00:13:47.663491Z",
     "start_time": "2022-03-14T00:13:47.605473Z"
    }
   },
   "outputs": [],
   "source": [
    "with open(nome+'.pkl','wb') as file:\n",
    "    pickle.dump(mdl, file)"
   ]
  },
  {
   "cell_type": "code",
   "execution_count": null,
   "id": "cdcf6f53",
   "metadata": {},
   "outputs": [],
   "source": []
  },
  {
   "cell_type": "markdown",
   "id": "0329684b",
   "metadata": {},
   "source": [
    "# Modelagem 2"
   ]
  },
  {
   "cell_type": "markdown",
   "id": "8abc4d2b",
   "metadata": {},
   "source": [
    "* Colunas: todas\n",
    "* DataCleaning: Preenchimento de valor ZERO para valores ausentes\n",
    "* Categorização: LabelEnconder\n",
    "* Balanceamento: NearMiss Balanceamento"
   ]
  },
  {
   "cell_type": "markdown",
   "id": "027d0ef1",
   "metadata": {},
   "source": [
    "## Tratamento de dados"
   ]
  },
  {
   "cell_type": "code",
   "execution_count": null,
   "id": "bd70ceae",
   "metadata": {},
   "outputs": [],
   "source": []
  },
  {
   "cell_type": "code",
   "execution_count": 65,
   "id": "06eacd4c",
   "metadata": {
    "ExecuteTime": {
     "end_time": "2022-03-14T00:13:47.695496Z",
     "start_time": "2022-03-14T00:13:47.667491Z"
    }
   },
   "outputs": [
    {
     "data": {
      "text/plain": [
       "0    126519\n",
       "1     11245\n",
       "Name: TARGET, dtype: int64"
      ]
     },
     "execution_count": 65,
     "metadata": {},
     "output_type": "execute_result"
    }
   ],
   "source": [
    "y_train.value_counts()"
   ]
  },
  {
   "cell_type": "code",
   "execution_count": 66,
   "id": "cb92a197",
   "metadata": {
    "ExecuteTime": {
     "end_time": "2022-03-14T00:14:20.368681Z",
     "start_time": "2022-03-14T00:13:47.697499Z"
    }
   },
   "outputs": [],
   "source": [
    "X_nm, y_nm = NearMiss().fit_resample(X_train, y_train)"
   ]
  },
  {
   "cell_type": "code",
   "execution_count": 67,
   "id": "2e4cb56b",
   "metadata": {
    "ExecuteTime": {
     "end_time": "2022-03-14T00:14:20.398895Z",
     "start_time": "2022-03-14T00:14:20.380874Z"
    }
   },
   "outputs": [
    {
     "data": {
      "text/plain": [
       "((137764, 94), (137764,), (22490, 94), (22490,))"
      ]
     },
     "execution_count": 67,
     "metadata": {},
     "output_type": "execute_result"
    }
   ],
   "source": [
    "X_train.shape, y_train.shape, X_nm.shape, y_nm.shape"
   ]
  },
  {
   "cell_type": "code",
   "execution_count": 68,
   "id": "1c3b4307",
   "metadata": {
    "ExecuteTime": {
     "end_time": "2022-03-14T00:14:20.430746Z",
     "start_time": "2022-03-14T00:14:20.401879Z"
    }
   },
   "outputs": [
    {
     "data": {
      "text/plain": [
       "0    11245\n",
       "1    11245\n",
       "Name: TARGET, dtype: int64"
      ]
     },
     "execution_count": 68,
     "metadata": {},
     "output_type": "execute_result"
    }
   ],
   "source": [
    "y_nm.value_counts()"
   ]
  },
  {
   "cell_type": "code",
   "execution_count": null,
   "id": "6ff4799f",
   "metadata": {},
   "outputs": [],
   "source": []
  },
  {
   "cell_type": "code",
   "execution_count": null,
   "id": "92b6eedd",
   "metadata": {},
   "outputs": [],
   "source": []
  },
  {
   "cell_type": "code",
   "execution_count": null,
   "id": "9afabbf0",
   "metadata": {},
   "outputs": [],
   "source": []
  },
  {
   "cell_type": "markdown",
   "id": "f256787c",
   "metadata": {},
   "source": [
    "## Algoritmos"
   ]
  },
  {
   "cell_type": "markdown",
   "id": "c829dbd6",
   "metadata": {},
   "source": [
    "### RandomForest"
   ]
  },
  {
   "cell_type": "code",
   "execution_count": 69,
   "id": "960e6d92",
   "metadata": {
    "ExecuteTime": {
     "end_time": "2022-03-14T00:14:33.549995Z",
     "start_time": "2022-03-14T00:14:20.432746Z"
    }
   },
   "outputs": [
    {
     "name": "stdout",
     "output_type": "stream",
     "text": [
      "fit_time : [1.89660501 1.80139828 2.01099229 1.77998209 1.63888669]\n",
      "score_time : [0.04699683 0.04601026 0.04000998 0.04199505 0.03600788]\n",
      "test_score : [0.86716926 0.8087444  0.81397473 0.79611313 0.76866829]\n",
      "train_score : [0.81875418 0.83032908 0.83599371 0.83352823 0.83880978]\n",
      "\n",
      "\n",
      "ROC_AUC:\n",
      "0.5430307269945847\n",
      "\n",
      "Matriz de Confusão:\n",
      "[[19516 34715]\n",
      " [ 1263  3548]]\n",
      "\n",
      "\n",
      "Wall time: 13.1 s\n"
     ]
    }
   ],
   "source": [
    "%%time\n",
    "\n",
    "mdl = RandomForestClassifier(max_depth=5)\n",
    "\n",
    "dados_modelo = executaAlgoritmo(mdl, X_nm, y_nm, X_test, y_test)\n"
   ]
  },
  {
   "cell_type": "code",
   "execution_count": 70,
   "id": "428b9d51",
   "metadata": {
    "ExecuteTime": {
     "end_time": "2022-03-14T00:14:34.394195Z",
     "start_time": "2022-03-14T00:14:33.552990Z"
    }
   },
   "outputs": [
    {
     "name": "stdout",
     "output_type": "stream",
     "text": [
      "ROC_AUC:\n",
      "0.5373236844858325\n",
      "\n",
      "Matriz de Confusão:\n",
      "[[16232 29056]\n",
      " [ 1066  2848]]\n"
     ]
    }
   ],
   "source": [
    "roc_final, cv_final = avalicaoModelo(mdl, X_final, y_final)\n"
   ]
  },
  {
   "cell_type": "markdown",
   "id": "bf2939e6",
   "metadata": {},
   "source": [
    "#### Inserção tabela de controle"
   ]
  },
  {
   "cell_type": "code",
   "execution_count": 71,
   "id": "9f3785f1",
   "metadata": {
    "ExecuteTime": {
     "end_time": "2022-03-14T00:14:34.442205Z",
     "start_time": "2022-03-14T00:14:34.397180Z"
    }
   },
   "outputs": [],
   "source": [
    "nome = 'RandomForest_Mod2'\n",
    "\n",
    "\n",
    "lista_modelos= lista_modelos.append({'id_modelo':'4.2.1',\n",
    "                      'nome_modelo':nome,\n",
    "                      'data_treino':'09/03/2022',\n",
    "                      'metodo':'RandomForest',\n",
    "                      'roc_auc':roc_auc_score(y_test, dados_modelo[2][:,1]),\n",
    "                      'tempo_de_treino':dados_modelo[3]['fit_time'].mean(),\n",
    "                      'hyperparametros':dados_modelo[0].get_params(),\n",
    "                      'path_to_pickle': ''+nome+'.pkl',\n",
    "                      'colunas_selection':'todas',\n",
    "                      'metodo_balanceamento':'NearMiss',\n",
    "                      'data_cleaning':'preenchimentoZero',\n",
    "                      'categorizacao':'labelEnconder',\n",
    "                      'confusao': confusion_matrix(y_test, dados_modelo[1]),   \n",
    "                      'roc_auc_validacao_final':roc_final,\n",
    "                      'confusao_validacao_final': cv_final,\n",
    "                                    \n",
    "                                    },\n",
    "                    ignore_index=True)"
   ]
  },
  {
   "cell_type": "code",
   "execution_count": 72,
   "id": "849337e0",
   "metadata": {
    "ExecuteTime": {
     "end_time": "2022-03-14T00:14:34.458192Z",
     "start_time": "2022-03-14T00:14:34.445201Z"
    }
   },
   "outputs": [],
   "source": [
    "with open(nome+'.pkl','wb') as file:\n",
    "    pickle.dump(mdl, file)"
   ]
  },
  {
   "cell_type": "markdown",
   "id": "b0a888bf",
   "metadata": {},
   "source": [
    "### LGBM"
   ]
  },
  {
   "cell_type": "code",
   "execution_count": 73,
   "id": "847fb85e",
   "metadata": {
    "ExecuteTime": {
     "end_time": "2022-03-14T00:14:38.958143Z",
     "start_time": "2022-03-14T00:14:34.460193Z"
    }
   },
   "outputs": [
    {
     "name": "stdout",
     "output_type": "stream",
     "text": [
      "fit_time : [0.61804914 0.71029115 0.5567677  0.65514898 0.65014577]\n",
      "score_time : [0.02200484 0.02110195 0.02100325 0.02100444 0.01800394]\n",
      "test_score : [0.9285789  0.91211133 0.90550061 0.89468863 0.86287686]\n",
      "train_score : [0.94873363 0.95016645 0.95161962 0.95352208 0.95706251]\n",
      "\n",
      "\n",
      "ROC_AUC:\n",
      "0.5473603892225418\n",
      "\n",
      "Matriz de Confusão:\n",
      "[[14611 39620]\n",
      " [  977  3834]]\n",
      "\n",
      "\n",
      "Wall time: 4.49 s\n"
     ]
    }
   ],
   "source": [
    "%%time\n",
    "\n",
    "\n",
    "mdl = LGBMClassifier()\n",
    "\n",
    "dados_modelo = executaAlgoritmo(mdl, X_nm, y_nm, X_test, y_test)\n",
    "\n"
   ]
  },
  {
   "cell_type": "code",
   "execution_count": 74,
   "id": "ca2d4b30",
   "metadata": {
    "ExecuteTime": {
     "end_time": "2022-03-14T00:14:39.261211Z",
     "start_time": "2022-03-14T00:14:38.961144Z"
    }
   },
   "outputs": [
    {
     "name": "stdout",
     "output_type": "stream",
     "text": [
      "ROC_AUC:\n",
      "0.5423986368014593\n",
      "\n",
      "Matriz de Confusão:\n",
      "[[12206 33082]\n",
      " [  834  3080]]\n"
     ]
    }
   ],
   "source": [
    "roc_final, cv_final = avalicaoModelo(mdl, X_final, y_final)\n"
   ]
  },
  {
   "cell_type": "markdown",
   "id": "5d574f11",
   "metadata": {},
   "source": [
    "#### Inserção tabela de controle"
   ]
  },
  {
   "cell_type": "code",
   "execution_count": 75,
   "id": "ef635a95",
   "metadata": {
    "ExecuteTime": {
     "end_time": "2022-03-14T00:14:39.308223Z",
     "start_time": "2022-03-14T00:14:39.263214Z"
    }
   },
   "outputs": [],
   "source": [
    "nome = 'LGBM_Mod2'\n",
    "\n",
    "\n",
    "\n",
    "lista_modelos= lista_modelos.append({'id_modelo':'4.2.2',\n",
    "                      'nome_modelo':nome,\n",
    "                      'data_treino':'09/03/2022',\n",
    "                      'metodo':'LGBM',\n",
    "                      'roc_auc':roc_auc_score(y_test, dados_modelo[2][:,1]),\n",
    "                      'tempo_de_treino':dados_modelo[3]['fit_time'].mean(),\n",
    "                      'hyperparametros':dados_modelo[0].get_params(),\n",
    "                      'path_to_pickle': ''+nome+'.pkl',\n",
    "                      'colunas_selection':'todas',\n",
    "                      'metodo_balanceamento':'NearMiss',\n",
    "                      'data_cleaning':'preenchimentoZero',\n",
    "                      'categorizacao':'labelEnconder',\n",
    "                      'confusao': confusion_matrix(y_test, dados_modelo[1]),\n",
    "                      'roc_auc_validacao_final':roc_final,\n",
    "                      'confusao_validacao_final': cv_final,\n",
    "\n",
    "                                    },\n",
    "                    ignore_index=True)"
   ]
  },
  {
   "cell_type": "code",
   "execution_count": 76,
   "id": "f080086d",
   "metadata": {
    "ExecuteTime": {
     "end_time": "2022-03-14T00:14:39.324227Z",
     "start_time": "2022-03-14T00:14:39.310224Z"
    }
   },
   "outputs": [],
   "source": [
    "with open(nome+'.pkl','wb') as file:\n",
    "    pickle.dump(mdl, file)"
   ]
  },
  {
   "cell_type": "code",
   "execution_count": null,
   "id": "0ae91148",
   "metadata": {},
   "outputs": [],
   "source": []
  },
  {
   "cell_type": "markdown",
   "id": "dc346d2b",
   "metadata": {},
   "source": [
    "### XGB"
   ]
  },
  {
   "cell_type": "code",
   "execution_count": 77,
   "id": "4086eae8",
   "metadata": {
    "ExecuteTime": {
     "end_time": "2022-03-14T00:14:50.769240Z",
     "start_time": "2022-03-14T00:14:39.326227Z"
    }
   },
   "outputs": [
    {
     "name": "stdout",
     "output_type": "stream",
     "text": [
      "fit_time : [1.82041049 1.79883933 1.8744216  1.68289471 1.58435893]\n",
      "score_time : [0.01600337 0.01700306 0.01500344 0.01400352 0.01400089]\n",
      "test_score : [0.92171631 0.90465146 0.89787072 0.88956467 0.85917658]\n",
      "train_score : [0.98540264 0.98746517 0.98743159 0.98716528 0.98953982]\n",
      "\n",
      "\n",
      "ROC_AUC:\n",
      "0.5426203712709737\n",
      "\n",
      "Matriz de Confusão:\n",
      "[[14130 40101]\n",
      " [  947  3864]]\n",
      "\n",
      "\n",
      "Wall time: 11.4 s\n"
     ]
    }
   ],
   "source": [
    "%%time\n",
    "\n",
    "\n",
    "mdl = XGBClassifier(use_label_encoder=False, eval_metric='logloss')\n",
    "\n",
    "dados_modelo = executaAlgoritmo(mdl, X_nm, y_nm, X_test, y_test)\n",
    "\n"
   ]
  },
  {
   "cell_type": "code",
   "execution_count": 78,
   "id": "17c65795",
   "metadata": {
    "ExecuteTime": {
     "end_time": "2022-03-14T00:14:50.961285Z",
     "start_time": "2022-03-14T00:14:50.773242Z"
    }
   },
   "outputs": [
    {
     "name": "stdout",
     "output_type": "stream",
     "text": [
      "ROC_AUC:\n",
      "0.5362005540061688\n",
      "\n",
      "Matriz de Confusão:\n",
      "[[11733 33555]\n",
      " [  809  3105]]\n"
     ]
    }
   ],
   "source": [
    "roc_final, cv_final = avalicaoModelo(mdl, X_final, y_final)\n"
   ]
  },
  {
   "cell_type": "code",
   "execution_count": null,
   "id": "b6a9f8cb",
   "metadata": {},
   "outputs": [],
   "source": []
  },
  {
   "cell_type": "markdown",
   "id": "5ded3c72",
   "metadata": {},
   "source": [
    "#### Inserção tabela de controle"
   ]
  },
  {
   "cell_type": "code",
   "execution_count": null,
   "id": "4edff033",
   "metadata": {},
   "outputs": [],
   "source": []
  },
  {
   "cell_type": "code",
   "execution_count": null,
   "id": "9f70ae8e",
   "metadata": {},
   "outputs": [],
   "source": [
    "\n"
   ]
  },
  {
   "cell_type": "code",
   "execution_count": 79,
   "id": "f38e1a34",
   "metadata": {
    "ExecuteTime": {
     "end_time": "2022-03-14T00:14:51.025299Z",
     "start_time": "2022-03-14T00:14:50.967288Z"
    }
   },
   "outputs": [],
   "source": [
    "nome = 'XGB_Mod2'\n",
    "\n",
    "\n",
    "\n",
    "lista_modelos= lista_modelos.append({'id_modelo':'4.2.3',\n",
    "                      'nome_modelo':nome,\n",
    "                      'data_treino':'09/03/2022',\n",
    "                      'metodo':'XGB',\n",
    "                      'roc_auc':roc_auc_score(y_test, dados_modelo[2][:,1]),\n",
    "                      'tempo_de_treino':dados_modelo[3]['fit_time'].mean(),\n",
    "                      'hyperparametros':dados_modelo[0].get_params(),\n",
    "                      'path_to_pickle': ''+nome+'.pkl',\n",
    "                      'colunas_selection':'todas',\n",
    "                      'metodo_balanceamento':'NearMiss',\n",
    "                      'data_cleaning':'preenchimentoZero',\n",
    "                      'categorizacao':'labelEnconder',\n",
    "                      'confusao': confusion_matrix(y_test, dados_modelo[1]),\n",
    "                      'roc_auc_validacao_final':roc_final,\n",
    "                      'confusao_validacao_final': cv_final,\n",
    "                                \n",
    "                                    },\n",
    "                    ignore_index=True)"
   ]
  },
  {
   "cell_type": "code",
   "execution_count": 80,
   "id": "7f4e975f",
   "metadata": {
    "ExecuteTime": {
     "end_time": "2022-03-14T00:14:51.073309Z",
     "start_time": "2022-03-14T00:14:51.027300Z"
    }
   },
   "outputs": [],
   "source": [
    "with open(nome+'.pkl','wb') as file:\n",
    "    pickle.dump(mdl, file)"
   ]
  },
  {
   "cell_type": "code",
   "execution_count": null,
   "id": "76274d75",
   "metadata": {},
   "outputs": [],
   "source": []
  },
  {
   "cell_type": "markdown",
   "id": "b9ae8676",
   "metadata": {},
   "source": [
    "# Modelagem 3"
   ]
  },
  {
   "cell_type": "markdown",
   "id": "3a35ff0d",
   "metadata": {},
   "source": [
    "* Colunas: todas\n",
    "* DataCleaning: Preenchimento de valor ZERO para valores ausentes\n",
    "* Categorização: LabelEnconder\n",
    "* Balanceamento: SMOTE Balanceamento"
   ]
  },
  {
   "cell_type": "markdown",
   "id": "1e53bbc1",
   "metadata": {},
   "source": [
    "## Tratamento de dados"
   ]
  },
  {
   "cell_type": "code",
   "execution_count": null,
   "id": "33a90ac4",
   "metadata": {},
   "outputs": [],
   "source": []
  },
  {
   "cell_type": "code",
   "execution_count": 81,
   "id": "48facbaa",
   "metadata": {
    "ExecuteTime": {
     "end_time": "2022-03-14T00:14:51.089313Z",
     "start_time": "2022-03-14T00:14:51.076320Z"
    }
   },
   "outputs": [
    {
     "data": {
      "text/plain": [
       "0    126519\n",
       "1     11245\n",
       "Name: TARGET, dtype: int64"
      ]
     },
     "execution_count": 81,
     "metadata": {},
     "output_type": "execute_result"
    }
   ],
   "source": [
    "y_train.value_counts()"
   ]
  },
  {
   "cell_type": "code",
   "execution_count": null,
   "id": "f5159238",
   "metadata": {},
   "outputs": [],
   "source": []
  },
  {
   "cell_type": "code",
   "execution_count": 82,
   "id": "446cc40a",
   "metadata": {
    "ExecuteTime": {
     "end_time": "2022-03-14T00:14:55.192548Z",
     "start_time": "2022-03-14T00:14:51.117327Z"
    }
   },
   "outputs": [],
   "source": [
    "X_smote, y_smote = SMOTE().fit_resample(X_train, y_train)"
   ]
  },
  {
   "cell_type": "code",
   "execution_count": 83,
   "id": "2715b07b",
   "metadata": {
    "ExecuteTime": {
     "end_time": "2022-03-14T00:14:55.208533Z",
     "start_time": "2022-03-14T00:14:55.195543Z"
    }
   },
   "outputs": [
    {
     "data": {
      "text/plain": [
       "((137764, 94), (137764,), (253038, 94), (253038,))"
      ]
     },
     "execution_count": 83,
     "metadata": {},
     "output_type": "execute_result"
    }
   ],
   "source": [
    "X_train.shape, y_train.shape, X_smote.shape, y_smote.shape"
   ]
  },
  {
   "cell_type": "code",
   "execution_count": 84,
   "id": "de60c6f2",
   "metadata": {
    "ExecuteTime": {
     "end_time": "2022-03-14T00:14:55.223538Z",
     "start_time": "2022-03-14T00:14:55.212536Z"
    }
   },
   "outputs": [
    {
     "data": {
      "text/plain": [
       "0    126519\n",
       "1    126519\n",
       "Name: TARGET, dtype: int64"
      ]
     },
     "execution_count": 84,
     "metadata": {},
     "output_type": "execute_result"
    }
   ],
   "source": [
    "y_smote.value_counts()"
   ]
  },
  {
   "cell_type": "code",
   "execution_count": null,
   "id": "d99f2f01",
   "metadata": {},
   "outputs": [],
   "source": []
  },
  {
   "cell_type": "code",
   "execution_count": null,
   "id": "d2745de2",
   "metadata": {},
   "outputs": [],
   "source": []
  },
  {
   "cell_type": "markdown",
   "id": "f2828471",
   "metadata": {},
   "source": [
    "## Algoritmos"
   ]
  },
  {
   "cell_type": "markdown",
   "id": "24e66d04",
   "metadata": {},
   "source": [
    "### RandomForest"
   ]
  },
  {
   "cell_type": "code",
   "execution_count": 85,
   "id": "8d01397f",
   "metadata": {
    "ExecuteTime": {
     "end_time": "2022-03-14T00:18:30.771309Z",
     "start_time": "2022-03-14T00:14:55.226537Z"
    }
   },
   "outputs": [
    {
     "name": "stdout",
     "output_type": "stream",
     "text": [
      "fit_time : [33.40561271 32.49723649 31.46515536 32.79348826 31.96325517]\n",
      "score_time : [0.34467864 0.36107755 0.34507704 0.33358431 0.33914566]\n",
      "test_score : [0.82353477 0.9666834  0.9659649  0.96817605 0.96645486]\n",
      "train_score : [0.97371551 0.93294759 0.93280839 0.93402174 0.93231189]\n",
      "\n",
      "\n",
      "ROC_AUC:\n",
      "0.6562777513243778\n",
      "\n",
      "Matriz de Confusão:\n",
      "[[50112  4119]\n",
      " [ 3964   847]]\n",
      "\n",
      "\n",
      "Wall time: 3min 35s\n"
     ]
    }
   ],
   "source": [
    "%%time\n",
    "\n",
    "mdl = RandomForestClassifier(max_depth=5)\n",
    "\n",
    "dados_modelo = executaAlgoritmo(mdl, X_smote, y_smote, X_test, y_test)\n"
   ]
  },
  {
   "cell_type": "code",
   "execution_count": null,
   "id": "c63fe842",
   "metadata": {},
   "outputs": [],
   "source": []
  },
  {
   "cell_type": "code",
   "execution_count": 86,
   "id": "ba135bf2",
   "metadata": {
    "ExecuteTime": {
     "end_time": "2022-03-14T00:18:31.520586Z",
     "start_time": "2022-03-14T00:18:30.784324Z"
    }
   },
   "outputs": [
    {
     "name": "stdout",
     "output_type": "stream",
     "text": [
      "ROC_AUC:\n",
      "0.6510947857969485\n",
      "\n",
      "Matriz de Confusão:\n",
      "[[41763  3525]\n",
      " [ 3277   637]]\n"
     ]
    }
   ],
   "source": [
    "roc_final, cv_final = avalicaoModelo(mdl, X_final, y_final)\n"
   ]
  },
  {
   "cell_type": "markdown",
   "id": "4dc30d2c",
   "metadata": {},
   "source": [
    "#### Inserção tabela de controle"
   ]
  },
  {
   "cell_type": "code",
   "execution_count": 87,
   "id": "ca6270a8",
   "metadata": {
    "ExecuteTime": {
     "end_time": "2022-03-14T00:18:31.552585Z",
     "start_time": "2022-03-14T00:18:31.523570Z"
    }
   },
   "outputs": [],
   "source": [
    "nome = 'RandomForest_Mod3'\n",
    "\n",
    "\n",
    "lista_modelos= lista_modelos.append({'id_modelo':'5.2.1',\n",
    "                      'nome_modelo':nome,\n",
    "                      'data_treino':'09/03/2022',\n",
    "                      'metodo':'RandomForest',\n",
    "                      'roc_auc':roc_auc_score(y_test, dados_modelo[2][:,1]),\n",
    "                      'tempo_de_treino':dados_modelo[3]['fit_time'].mean(),\n",
    "                      'hyperparametros':dados_modelo[0].get_params(),\n",
    "                      'path_to_pickle': ''+nome+'.pkl',\n",
    "                      'colunas_selection':'todas',\n",
    "                      'metodo_balanceamento':'SMOTE',\n",
    "                      'data_cleaning':'preenchimentoZero',\n",
    "                      'categorizacao':'labelEnconder',\n",
    "                      'confusao': confusion_matrix(y_test, dados_modelo[1]),   \n",
    "                      'roc_auc_validacao_final':roc_final,\n",
    "                      'confusao_validacao_final': cv_final,                                     \n",
    "                                    \n",
    "                                    },\n",
    "                    ignore_index=True)"
   ]
  },
  {
   "cell_type": "code",
   "execution_count": 88,
   "id": "b4a620a1",
   "metadata": {
    "ExecuteTime": {
     "end_time": "2022-03-14T00:18:31.568580Z",
     "start_time": "2022-03-14T00:18:31.553575Z"
    }
   },
   "outputs": [],
   "source": [
    "with open(nome+'.pkl','wb') as file:\n",
    "    pickle.dump(mdl, file)"
   ]
  },
  {
   "cell_type": "markdown",
   "id": "1bdde06a",
   "metadata": {},
   "source": [
    "### LGBM"
   ]
  },
  {
   "cell_type": "code",
   "execution_count": 89,
   "id": "9292331b",
   "metadata": {
    "ExecuteTime": {
     "end_time": "2022-03-14T00:18:58.815696Z",
     "start_time": "2022-03-14T00:18:31.570583Z"
    }
   },
   "outputs": [
    {
     "name": "stdout",
     "output_type": "stream",
     "text": [
      "fit_time : [3.83943295 3.01776385 3.57971883 4.26329422 3.8814733 ]\n",
      "score_time : [0.14403224 0.11902738 0.14103174 0.15054464 0.13203144]\n",
      "test_score : [0.8393394  0.99976699 0.99982932 0.9997739  0.99967486]\n",
      "train_score : [0.99999626 0.97521527 0.97506307 0.97519093 0.97510705]\n",
      "\n",
      "\n",
      "ROC_AUC:\n",
      "0.7395212925135175\n",
      "\n",
      "Matriz de Confusão:\n",
      "[[54046   185]\n",
      " [ 4667   144]]\n",
      "\n",
      "\n",
      "Wall time: 27.2 s\n"
     ]
    }
   ],
   "source": [
    "%%time\n",
    "\n",
    "\n",
    "mdl = LGBMClassifier()\n",
    "\n",
    "dados_modelo = executaAlgoritmo(mdl, X_smote, y_smote,  X_test, y_test)\n",
    "\n"
   ]
  },
  {
   "cell_type": "code",
   "execution_count": 90,
   "id": "c4167ac7",
   "metadata": {
    "ExecuteTime": {
     "end_time": "2022-03-14T00:18:59.132765Z",
     "start_time": "2022-03-14T00:18:58.818696Z"
    }
   },
   "outputs": [
    {
     "name": "stdout",
     "output_type": "stream",
     "text": [
      "ROC_AUC:\n",
      "0.741226451059554\n",
      "\n",
      "Matriz de Confusão:\n",
      "[[45134   154]\n",
      " [ 3809   105]]\n"
     ]
    }
   ],
   "source": [
    "roc_final, cv_final = avalicaoModelo(mdl, X_final, y_final)\n"
   ]
  },
  {
   "cell_type": "markdown",
   "id": "2d373b18",
   "metadata": {},
   "source": [
    "#### Inserção tabela de controle"
   ]
  },
  {
   "cell_type": "code",
   "execution_count": 91,
   "id": "c7db9d9d",
   "metadata": {
    "ExecuteTime": {
     "end_time": "2022-03-14T00:18:59.180777Z",
     "start_time": "2022-03-14T00:18:59.135766Z"
    }
   },
   "outputs": [],
   "source": [
    "nome = 'LGBM_Mod3'\n",
    "\n",
    "\n",
    "lista_modelos= lista_modelos.append({'id_modelo':'5.2.2',\n",
    "                      'nome_modelo':nome,\n",
    "                      'data_treino':'09/03/2022',\n",
    "                      'metodo':'LGBM',\n",
    "                      'roc_auc':roc_auc_score(y_test, dados_modelo[2][:,1]),\n",
    "                      'tempo_de_treino':dados_modelo[3]['fit_time'].mean(),\n",
    "                      'hyperparametros':dados_modelo[0].get_params(),\n",
    "                      'path_to_pickle': ''+nome+'.pkl',\n",
    "                      'colunas_selection':'todas',\n",
    "                      'metodo_balanceamento':'SMOTE',\n",
    "                      'data_cleaning':'preenchimentoZero',\n",
    "                      'categorizacao':'labelEnconder',\n",
    "                      'confusao': confusion_matrix(y_test, dados_modelo[1]),\n",
    "                      'roc_auc_validacao_final':roc_final,\n",
    "                      'confusao_validacao_final': cv_final,\n",
    "\n",
    "\n",
    "                                    },\n",
    "                    ignore_index=True)"
   ]
  },
  {
   "cell_type": "code",
   "execution_count": 92,
   "id": "84e21063",
   "metadata": {
    "ExecuteTime": {
     "end_time": "2022-03-14T00:18:59.196783Z",
     "start_time": "2022-03-14T00:18:59.182779Z"
    }
   },
   "outputs": [],
   "source": [
    "with open(nome+'.pkl','wb') as file:\n",
    "    pickle.dump(mdl, file)"
   ]
  },
  {
   "cell_type": "code",
   "execution_count": null,
   "id": "be4c986a",
   "metadata": {},
   "outputs": [],
   "source": []
  },
  {
   "cell_type": "markdown",
   "id": "d3a40ebf",
   "metadata": {},
   "source": [
    "### XGB"
   ]
  },
  {
   "cell_type": "code",
   "execution_count": 93,
   "id": "2cdd38a6",
   "metadata": {
    "ExecuteTime": {
     "end_time": "2022-03-14T00:19:11.010471Z",
     "start_time": "2022-03-14T00:18:59.200781Z"
    }
   },
   "outputs": [
    {
     "name": "stdout",
     "output_type": "stream",
     "text": [
      "fit_time : [2.00345063 1.98198271 1.67996311 1.79948974 1.74716783]\n",
      "score_time : [0.01800561 0.01500416 0.01500392 0.01300311 0.01700521]\n",
      "test_score : [0.92171631 0.90465146 0.89787072 0.88956467 0.85917658]\n",
      "train_score : [0.98540264 0.98746517 0.98743159 0.98716528 0.98953982]\n",
      "\n",
      "\n",
      "ROC_AUC:\n",
      "0.5426203712709737\n",
      "\n",
      "Matriz de Confusão:\n",
      "[[14130 40101]\n",
      " [  947  3864]]\n",
      "\n",
      "\n",
      "Wall time: 11.8 s\n"
     ]
    }
   ],
   "source": [
    "%%time\n",
    "\n",
    "mdl = XGBClassifier(use_label_encoder=False, eval_metric='logloss')\n",
    "\n",
    "dados_modelo = executaAlgoritmo(mdl,X_nm, y_nm, X_test, y_test)\n",
    "\n"
   ]
  },
  {
   "cell_type": "code",
   "execution_count": 94,
   "id": "c8626747",
   "metadata": {
    "ExecuteTime": {
     "end_time": "2022-03-14T00:19:11.200028Z",
     "start_time": "2022-03-14T00:19:11.023989Z"
    }
   },
   "outputs": [
    {
     "name": "stdout",
     "output_type": "stream",
     "text": [
      "ROC_AUC:\n",
      "0.5362005540061688\n",
      "\n",
      "Matriz de Confusão:\n",
      "[[11733 33555]\n",
      " [  809  3105]]\n"
     ]
    }
   ],
   "source": [
    "roc_final, cv_final = avalicaoModelo(mdl, X_final, y_final)\n"
   ]
  },
  {
   "cell_type": "markdown",
   "id": "e75d7c65",
   "metadata": {},
   "source": [
    "#### Inserção tabela de controle"
   ]
  },
  {
   "cell_type": "code",
   "execution_count": 95,
   "id": "1a95d849",
   "metadata": {
    "ExecuteTime": {
     "end_time": "2022-03-14T00:19:11.263043Z",
     "start_time": "2022-03-14T00:19:11.202030Z"
    }
   },
   "outputs": [],
   "source": [
    "nome = 'XGB_Mod3'\n",
    "\n",
    "\n",
    "lista_modelos= lista_modelos.append({'id_modelo':'5.2.3',\n",
    "                      'nome_modelo':nome,\n",
    "                      'data_treino':'09/03/2022',\n",
    "                      'metodo':'XGB',\n",
    "                      'roc_auc':roc_auc_score(y_test, dados_modelo[2][:,1]),\n",
    "                      'tempo_de_treino':dados_modelo[3]['fit_time'].mean(),\n",
    "                      'hyperparametros':dados_modelo[0].get_params(),\n",
    "                      'path_to_pickle': ''+nome+'.pkl',\n",
    "                      'colunas_selection':'todas',\n",
    "                      'metodo_balanceamento':'SMOTE',\n",
    "                      'data_cleaning':'preenchimentoZero',\n",
    "                      'categorizacao':'labelEnconder',\n",
    "                      'confusao': confusion_matrix(y_test, dados_modelo[1]),\n",
    "                      'roc_auc_validacao_final':roc_final,\n",
    "                      'confusao_validacao_final': cv_final,\n",
    "                                \n",
    "                                    },\n",
    "                    ignore_index=True)"
   ]
  },
  {
   "cell_type": "code",
   "execution_count": 96,
   "id": "aa84b331",
   "metadata": {
    "ExecuteTime": {
     "end_time": "2022-03-14T00:19:11.311055Z",
     "start_time": "2022-03-14T00:19:11.265044Z"
    }
   },
   "outputs": [],
   "source": [
    "with open(nome+'.pkl','wb') as file:\n",
    "    pickle.dump(mdl, file)"
   ]
  },
  {
   "cell_type": "code",
   "execution_count": null,
   "id": "3141b89c",
   "metadata": {},
   "outputs": [],
   "source": []
  },
  {
   "cell_type": "code",
   "execution_count": null,
   "id": "371c14fb",
   "metadata": {},
   "outputs": [],
   "source": []
  },
  {
   "cell_type": "markdown",
   "id": "59ca2679",
   "metadata": {},
   "source": [
    "# Modelagem 4"
   ]
  },
  {
   "cell_type": "markdown",
   "id": "11cd3d09",
   "metadata": {},
   "source": [
    "* Colunas: 20 melhores CHI2\n",
    "* DataCleaning: Preenchimento de valor ZERO para valores ausentes\n",
    "* Categorização: LabelEnconder\n",
    "* Balanceamento: Sem Balanceamento"
   ]
  },
  {
   "cell_type": "markdown",
   "id": "de54e80a",
   "metadata": {},
   "source": [
    "## Tratamento de dados"
   ]
  },
  {
   "cell_type": "code",
   "execution_count": null,
   "id": "1c0cf92c",
   "metadata": {},
   "outputs": [],
   "source": []
  },
  {
   "cell_type": "code",
   "execution_count": null,
   "id": "9c2a1a80",
   "metadata": {},
   "outputs": [],
   "source": []
  },
  {
   "cell_type": "markdown",
   "id": "85af4ae0",
   "metadata": {},
   "source": [
    "## Algoritmos"
   ]
  },
  {
   "cell_type": "markdown",
   "id": "c3230e27",
   "metadata": {},
   "source": [
    "### RandomForest"
   ]
  },
  {
   "cell_type": "code",
   "execution_count": 97,
   "id": "e2de623a",
   "metadata": {
    "ExecuteTime": {
     "end_time": "2022-03-14T00:20:14.783983Z",
     "start_time": "2022-03-14T00:19:11.316058Z"
    }
   },
   "outputs": [
    {
     "name": "stdout",
     "output_type": "stream",
     "text": [
      "fit_time : [9.44147372 9.0804646  8.56437206 9.01134515 9.04658937]\n",
      "score_time : [0.19104767 0.18504119 0.18354917 0.17712903 0.20102763]\n",
      "test_score : [0.72280874 0.71670119 0.72715547 0.73128607 0.73274055]\n",
      "train_score : [0.73661194 0.74015073 0.73824654 0.73710018 0.73906104]\n",
      "\n",
      "\n",
      "ROC_AUC:\n",
      "0.7250900950318222\n",
      "\n",
      "Matriz de Confusão:\n",
      "[[54231     0]\n",
      " [ 4811     0]]\n",
      "\n",
      "\n",
      "Wall time: 1min 3s\n"
     ]
    }
   ],
   "source": [
    "%%time\n",
    "\n",
    "mdl = RandomForestClassifier(max_depth=5)\n",
    "\n",
    "dados_modelo = executaAlgoritmo(mdl, X_train[cols_chi2], y_train, X_test[cols_chi2], y_test)\n",
    "\n"
   ]
  },
  {
   "cell_type": "code",
   "execution_count": 98,
   "id": "e8752caf",
   "metadata": {
    "ExecuteTime": {
     "end_time": "2022-03-14T00:20:15.484141Z",
     "start_time": "2022-03-14T00:20:14.785985Z"
    }
   },
   "outputs": [
    {
     "name": "stdout",
     "output_type": "stream",
     "text": [
      "ROC_AUC:\n",
      "0.7233113540890677\n",
      "\n",
      "Matriz de Confusão:\n",
      "[[45288     0]\n",
      " [ 3914     0]]\n"
     ]
    }
   ],
   "source": [
    "roc_final, cv_final = avalicaoModelo(mdl, X_final[cols_chi2], y_final)\n"
   ]
  },
  {
   "cell_type": "markdown",
   "id": "9fc4c4f7",
   "metadata": {},
   "source": [
    "#### Inserção tabela de controle"
   ]
  },
  {
   "cell_type": "code",
   "execution_count": 99,
   "id": "4e4144f1",
   "metadata": {
    "ExecuteTime": {
     "end_time": "2022-03-14T00:20:15.531685Z",
     "start_time": "2022-03-14T00:20:15.498665Z"
    }
   },
   "outputs": [],
   "source": [
    "nome = 'RandomForest_Mod4'\n",
    "\n",
    "\n",
    "\n",
    "lista_modelos= lista_modelos.append({'id_modelo':'6.2.1',\n",
    "                      'nome_modelo':nome,\n",
    "                      'data_treino':'09/03/2022',\n",
    "                      'metodo':'RandomForest',\n",
    "                      'roc_auc':roc_auc_score(y_test, dados_modelo[2][:,1]),\n",
    "                      'tempo_de_treino':dados_modelo[3]['fit_time'].mean(),\n",
    "                      'hyperparametros':dados_modelo[0].get_params(),\n",
    "                      'path_to_pickle': ''+nome+'.pkl',\n",
    "                      'colunas_selection':'Top20 Chi2',\n",
    "                      'metodo_balanceamento':'sem',\n",
    "                      'data_cleaning':'preenchimentoZero',\n",
    "                      'categorizacao':'labelEnconder',\n",
    "                      'confusao': confusion_matrix(y_test, dados_modelo[1]),        \n",
    "                      'roc_auc_validacao_final':roc_final,\n",
    "                      'confusao_validacao_final': cv_final,\n",
    "                                     \n",
    "                                    },\n",
    "                    ignore_index=True)"
   ]
  },
  {
   "cell_type": "code",
   "execution_count": 100,
   "id": "98da2b60",
   "metadata": {
    "ExecuteTime": {
     "end_time": "2022-03-14T00:20:15.547674Z",
     "start_time": "2022-03-14T00:20:15.533687Z"
    }
   },
   "outputs": [],
   "source": [
    "\n",
    "with open(nome+'.pkl','wb') as file:\n",
    "    pickle.dump(mdl, file)"
   ]
  },
  {
   "cell_type": "markdown",
   "id": "fb270975",
   "metadata": {},
   "source": [
    "### LGBM"
   ]
  },
  {
   "cell_type": "code",
   "execution_count": 101,
   "id": "bac9fdc8",
   "metadata": {
    "ExecuteTime": {
     "end_time": "2022-03-14T00:20:20.318332Z",
     "start_time": "2022-03-14T00:20:15.549674Z"
    }
   },
   "outputs": [
    {
     "name": "stdout",
     "output_type": "stream",
     "text": [
      "fit_time : [0.59913063 0.598665   0.55112314 0.57865834 0.58915019]\n",
      "score_time : [0.05055881 0.04800868 0.03800917 0.03800845 0.03700781]\n",
      "test_score : [0.74595195 0.73404239 0.74032027 0.75479489 0.74751638]\n",
      "train_score : [0.82304495 0.82254381 0.82464525 0.82297065 0.82163701]\n",
      "\n",
      "\n",
      "ROC_AUC:\n",
      "0.7428815878476017\n",
      "\n",
      "Matriz de Confusão:\n",
      "[[54167    64]\n",
      " [ 4745    66]]\n",
      "\n",
      "\n",
      "Wall time: 4.76 s\n"
     ]
    }
   ],
   "source": [
    "%%time\n",
    "\n",
    "mdl = LGBMClassifier()\n",
    "\n",
    "dados_modelo = executaAlgoritmo(mdl, X_train[cols_chi2], y_train, X_test[cols_chi2], y_test)\n"
   ]
  },
  {
   "cell_type": "code",
   "execution_count": 102,
   "id": "0391b566",
   "metadata": {
    "ExecuteTime": {
     "end_time": "2022-03-14T00:20:20.509446Z",
     "start_time": "2022-03-14T00:20:20.319879Z"
    }
   },
   "outputs": [
    {
     "name": "stdout",
     "output_type": "stream",
     "text": [
      "ROC_AUC:\n",
      "0.7466102990934667\n",
      "\n",
      "Matriz de Confusão:\n",
      "[[45239    49]\n",
      " [ 3857    57]]\n"
     ]
    }
   ],
   "source": [
    "roc_final, cv_final = avalicaoModelo(mdl, X_final[cols_chi2], y_final)\n"
   ]
  },
  {
   "cell_type": "code",
   "execution_count": null,
   "id": "f41bca83",
   "metadata": {},
   "outputs": [],
   "source": []
  },
  {
   "cell_type": "markdown",
   "id": "96f16059",
   "metadata": {},
   "source": [
    "#### Inserção tabela de controle"
   ]
  },
  {
   "cell_type": "code",
   "execution_count": 103,
   "id": "3df15a2e",
   "metadata": {
    "ExecuteTime": {
     "end_time": "2022-03-14T00:20:20.571458Z",
     "start_time": "2022-03-14T00:20:20.511444Z"
    }
   },
   "outputs": [],
   "source": [
    "nome = 'LGBM_Mod4'\n",
    "\n",
    "\n",
    "\n",
    "lista_modelos= lista_modelos.append({'id_modelo':'6.2.2',\n",
    "                      'nome_modelo':nome,\n",
    "                      'data_treino':'09/03/2022',\n",
    "                      'metodo':'LGBM',\n",
    "                      'roc_auc':roc_auc_score(y_test, dados_modelo[2][:,1]),\n",
    "                      'tempo_de_treino':dados_modelo[3]['fit_time'].mean(),\n",
    "                      'hyperparametros':dados_modelo[0].get_params(),\n",
    "                      'path_to_pickle': ''+nome+'.pkl',\n",
    "                      'colunas_selection':'Top20 Chi2',\n",
    "                      'metodo_balanceamento':'sem',\n",
    "                      'data_cleaning':'preenchimentoZero',\n",
    "                      'categorizacao':'labelEnconder',\n",
    "                      'confusao': confusion_matrix(y_test, dados_modelo[1]),                                    \n",
    "                      'roc_auc_validacao_final':roc_final,\n",
    "                      'confusao_validacao_final': cv_final,\n",
    "                                     \n",
    "                                    },\n",
    "                    ignore_index=True)"
   ]
  },
  {
   "cell_type": "code",
   "execution_count": 104,
   "id": "eb9c7efc",
   "metadata": {
    "ExecuteTime": {
     "end_time": "2022-03-14T00:20:20.586460Z",
     "start_time": "2022-03-14T00:20:20.573460Z"
    }
   },
   "outputs": [],
   "source": [
    "with open(nome+'.pkl','wb') as file:\n",
    "    pickle.dump(mdl, file)"
   ]
  },
  {
   "cell_type": "code",
   "execution_count": null,
   "id": "0db43bc4",
   "metadata": {},
   "outputs": [],
   "source": []
  },
  {
   "cell_type": "markdown",
   "id": "013a0bea",
   "metadata": {},
   "source": [
    "### XGB"
   ]
  },
  {
   "cell_type": "code",
   "execution_count": 105,
   "id": "bee3e6d7",
   "metadata": {
    "ExecuteTime": {
     "end_time": "2022-03-14T00:20:59.268351Z",
     "start_time": "2022-03-14T00:20:20.588461Z"
    }
   },
   "outputs": [
    {
     "name": "stdout",
     "output_type": "stream",
     "text": [
      "fit_time : [5.57473207 6.57231712 6.6828177  6.60392165 6.02371216]\n",
      "score_time : [0.02700639 0.03000736 0.03200746 0.04251766 0.03600788]\n",
      "test_score : [0.74262158 0.72352506 0.72968353 0.74176672 0.73817651]\n",
      "train_score : [0.88286768 0.88576943 0.88460986 0.88359636 0.88373039]\n",
      "\n",
      "\n",
      "ROC_AUC:\n",
      "0.7345392480869145\n",
      "\n",
      "Matriz de Confusão:\n",
      "[[54048   183]\n",
      " [ 4673   138]]\n",
      "\n",
      "\n",
      "Wall time: 38.7 s\n"
     ]
    }
   ],
   "source": [
    "%%time\n",
    "\n",
    "\n",
    "mdl = XGBClassifier(use_label_encoder=False, eval_metric='logloss')\n",
    "\n",
    "dados_modelo = executaAlgoritmo(mdl, X_train[cols_chi2], y_train, X_test[cols_chi2], y_test)\n"
   ]
  },
  {
   "cell_type": "code",
   "execution_count": 106,
   "id": "73c0c1df",
   "metadata": {
    "ExecuteTime": {
     "end_time": "2022-03-14T00:20:59.395379Z",
     "start_time": "2022-03-14T00:20:59.270351Z"
    }
   },
   "outputs": [
    {
     "name": "stdout",
     "output_type": "stream",
     "text": [
      "ROC_AUC:\n",
      "0.7347951591616866\n",
      "\n",
      "Matriz de Confusão:\n",
      "[[45139   149]\n",
      " [ 3796   118]]\n"
     ]
    }
   ],
   "source": [
    "roc_final, cv_final = avalicaoModelo(mdl, X_final[cols_chi2], y_final)\n"
   ]
  },
  {
   "cell_type": "code",
   "execution_count": null,
   "id": "c95b8aa2",
   "metadata": {},
   "outputs": [],
   "source": []
  },
  {
   "cell_type": "markdown",
   "id": "7a907863",
   "metadata": {},
   "source": [
    "#### Inserção tabela de controle"
   ]
  },
  {
   "cell_type": "code",
   "execution_count": 107,
   "id": "06b88b16",
   "metadata": {
    "ExecuteTime": {
     "end_time": "2022-03-14T00:20:59.443391Z",
     "start_time": "2022-03-14T00:20:59.397381Z"
    }
   },
   "outputs": [],
   "source": [
    "nome = 'XGB_Mod4'\n",
    "\n",
    "\n",
    "lista_modelos= lista_modelos.append({'id_modelo':'6.2.3',\n",
    "                      'nome_modelo':nome,\n",
    "                      'data_treino':'09/03/2022',\n",
    "                      'metodo':'XGB',\n",
    "                      'roc_auc':roc_auc_score(y_test, dados_modelo[2][:,1]),\n",
    "                      'tempo_de_treino':dados_modelo[3]['fit_time'].mean(),\n",
    "                      'hyperparametros':dados_modelo[0].get_params(),\n",
    "                      'path_to_pickle': ''+nome+'.pkl',\n",
    "                      'colunas_selection':'Top20 Chi2',\n",
    "                      'metodo_balanceamento':'sem',\n",
    "                      'data_cleaning':'preenchimentoZero',\n",
    "                      'categorizacao':'labelEnconder',\n",
    "                      'confusao': confusion_matrix(y_test, dados_modelo[1]),      \n",
    "                      'roc_auc_validacao_final':roc_final,\n",
    "                      'confusao_validacao_final': cv_final,\n",
    "                                    \n",
    "                                    },\n",
    "                    ignore_index=True)"
   ]
  },
  {
   "cell_type": "code",
   "execution_count": 108,
   "id": "3e3fee79",
   "metadata": {
    "ExecuteTime": {
     "end_time": "2022-03-14T00:20:59.507408Z",
     "start_time": "2022-03-14T00:20:59.445393Z"
    }
   },
   "outputs": [],
   "source": [
    "with open(nome+'.pkl','wb') as file:\n",
    "    pickle.dump(mdl, file)"
   ]
  },
  {
   "cell_type": "code",
   "execution_count": null,
   "id": "39b4f1f7",
   "metadata": {},
   "outputs": [],
   "source": []
  },
  {
   "cell_type": "markdown",
   "id": "d5adbf4d",
   "metadata": {},
   "source": [
    "# Modelagem 5"
   ]
  },
  {
   "cell_type": "markdown",
   "id": "1e93c9d7",
   "metadata": {},
   "source": [
    "\n",
    "* Colunas: 20 melhores CHI2\n",
    "* DataCleaning: Preenchimento de valor ZERO para valores ausentes\n",
    "* Categorização: LabelEnconder\n",
    "* Balanceamento: NearMiss Balanceamento"
   ]
  },
  {
   "cell_type": "markdown",
   "id": "ae4079aa",
   "metadata": {},
   "source": [
    "## Tratamento de dados"
   ]
  },
  {
   "cell_type": "code",
   "execution_count": null,
   "id": "1e1dc57e",
   "metadata": {},
   "outputs": [],
   "source": []
  },
  {
   "cell_type": "code",
   "execution_count": null,
   "id": "d59bec94",
   "metadata": {},
   "outputs": [],
   "source": []
  },
  {
   "cell_type": "code",
   "execution_count": 109,
   "id": "469b36f9",
   "metadata": {
    "ExecuteTime": {
     "end_time": "2022-03-14T00:20:59.523409Z",
     "start_time": "2022-03-14T00:20:59.509410Z"
    }
   },
   "outputs": [
    {
     "data": {
      "text/plain": [
       "0    126519\n",
       "1     11245\n",
       "Name: TARGET, dtype: int64"
      ]
     },
     "execution_count": 109,
     "metadata": {},
     "output_type": "execute_result"
    }
   ],
   "source": [
    "y_train.value_counts()"
   ]
  },
  {
   "cell_type": "code",
   "execution_count": 110,
   "id": "1905b19f",
   "metadata": {
    "ExecuteTime": {
     "end_time": "2022-03-14T00:21:25.992694Z",
     "start_time": "2022-03-14T00:20:59.526409Z"
    }
   },
   "outputs": [],
   "source": [
    "X_nm, y_nm = NearMiss().fit_resample(X_train[cols_chi2], y_train)"
   ]
  },
  {
   "cell_type": "code",
   "execution_count": 111,
   "id": "e9b0b068",
   "metadata": {
    "ExecuteTime": {
     "end_time": "2022-03-14T00:21:26.037702Z",
     "start_time": "2022-03-14T00:21:26.009697Z"
    }
   },
   "outputs": [
    {
     "data": {
      "text/plain": [
       "((137764, 94), (137764,), (22490, 20), (22490,))"
      ]
     },
     "execution_count": 111,
     "metadata": {},
     "output_type": "execute_result"
    }
   ],
   "source": [
    "X_train.shape, y_train.shape, X_nm.shape, y_nm.shape"
   ]
  },
  {
   "cell_type": "code",
   "execution_count": 112,
   "id": "fb09451a",
   "metadata": {
    "ExecuteTime": {
     "end_time": "2022-03-14T00:21:26.069709Z",
     "start_time": "2022-03-14T00:21:26.040703Z"
    }
   },
   "outputs": [
    {
     "data": {
      "text/plain": [
       "0    11245\n",
       "1    11245\n",
       "Name: TARGET, dtype: int64"
      ]
     },
     "execution_count": 112,
     "metadata": {},
     "output_type": "execute_result"
    }
   ],
   "source": [
    "y_nm.value_counts()"
   ]
  },
  {
   "cell_type": "code",
   "execution_count": null,
   "id": "78bd19e9",
   "metadata": {},
   "outputs": [],
   "source": []
  },
  {
   "cell_type": "code",
   "execution_count": null,
   "id": "12c3efd8",
   "metadata": {},
   "outputs": [],
   "source": []
  },
  {
   "cell_type": "code",
   "execution_count": null,
   "id": "33dec142",
   "metadata": {},
   "outputs": [],
   "source": []
  },
  {
   "cell_type": "markdown",
   "id": "27ad034a",
   "metadata": {},
   "source": [
    "## Algoritmos"
   ]
  },
  {
   "cell_type": "markdown",
   "id": "fc6312e5",
   "metadata": {},
   "source": [
    "### RandomForest"
   ]
  },
  {
   "cell_type": "code",
   "execution_count": 113,
   "id": "c677ccfe",
   "metadata": {
    "ExecuteTime": {
     "end_time": "2022-03-14T00:21:38.157002Z",
     "start_time": "2022-03-14T00:21:26.071709Z"
    }
   },
   "outputs": [
    {
     "name": "stdout",
     "output_type": "stream",
     "text": [
      "fit_time : [1.74839091 1.60836983 1.72338986 1.52834177 1.53736091]\n",
      "score_time : [0.05802226 0.0469954  0.05101109 0.04200149 0.04099321]\n",
      "test_score : [0.90775664 0.86679154 0.83590929 0.81403246 0.76045438]\n",
      "train_score : [0.83671514 0.85775598 0.8629336  0.86674832 0.87402006]\n",
      "\n",
      "\n",
      "ROC_AUC:\n",
      "0.5160395489948977\n",
      "\n",
      "Matriz de Confusão:\n",
      "[[12177 42054]\n",
      " [  934  3877]]\n",
      "\n",
      "\n",
      "Wall time: 12.1 s\n"
     ]
    }
   ],
   "source": [
    "%%time\n",
    "\n",
    "mdl = RandomForestClassifier(max_depth=5)\n",
    "\n",
    "dados_modelo = executaAlgoritmo(mdl, X_nm, y_nm, X_test[cols_chi2], y_test)\n"
   ]
  },
  {
   "cell_type": "code",
   "execution_count": 114,
   "id": "354034e5",
   "metadata": {
    "ExecuteTime": {
     "end_time": "2022-03-14T00:21:38.951174Z",
     "start_time": "2022-03-14T00:21:38.159003Z"
    }
   },
   "outputs": [
    {
     "name": "stdout",
     "output_type": "stream",
     "text": [
      "ROC_AUC:\n",
      "0.5095037843082193\n",
      "\n",
      "Matriz de Confusão:\n",
      "[[10386 34902]\n",
      " [  793  3121]]\n"
     ]
    }
   ],
   "source": [
    "roc_final, cv_final = avalicaoModelo(mdl, X_final[cols_chi2], y_final)\n"
   ]
  },
  {
   "cell_type": "markdown",
   "id": "49f2d18b",
   "metadata": {},
   "source": [
    "#### Inserção tabela de controle"
   ]
  },
  {
   "cell_type": "code",
   "execution_count": 115,
   "id": "a6a86fb4",
   "metadata": {
    "ExecuteTime": {
     "end_time": "2022-03-14T00:21:38.999178Z",
     "start_time": "2022-03-14T00:21:38.954175Z"
    }
   },
   "outputs": [],
   "source": [
    "nome = 'RandomForest_Mod5'\n",
    "\n",
    "\n",
    "\n",
    "lista_modelos= lista_modelos.append({'id_modelo':'7.2.1',\n",
    "                      'nome_modelo':nome,\n",
    "                      'data_treino':'09/03/2022',\n",
    "                      'metodo':'RandomForest',\n",
    "                      'roc_auc':roc_auc_score(y_test, dados_modelo[2][:,1]),\n",
    "                      'tempo_de_treino':dados_modelo[3]['fit_time'].mean(),\n",
    "                      'hyperparametros':dados_modelo[0].get_params(),\n",
    "                      'path_to_pickle': ''+nome+'.pkl',\n",
    "                      'colunas_selection':'Top20 Chi2',\n",
    "                      'metodo_balanceamento':'NearMiss',\n",
    "                      'data_cleaning':'preenchimentoZero',\n",
    "                      'categorizacao':'labelEnconder',\n",
    "                      'confusao': confusion_matrix(y_test, dados_modelo[1]),                                    \n",
    "                      'roc_auc_validacao_final':roc_final,\n",
    "                      'confusao_validacao_final': cv_final,\n",
    "                                    \n",
    "                                    },\n",
    "                    ignore_index=True)"
   ]
  },
  {
   "cell_type": "code",
   "execution_count": 116,
   "id": "14828996",
   "metadata": {
    "ExecuteTime": {
     "end_time": "2022-03-14T00:21:39.015182Z",
     "start_time": "2022-03-14T00:21:39.001185Z"
    }
   },
   "outputs": [],
   "source": [
    "with open(nome+'.pkl','wb') as file:\n",
    "    pickle.dump(mdl, file)"
   ]
  },
  {
   "cell_type": "code",
   "execution_count": null,
   "id": "34c6e7b4",
   "metadata": {},
   "outputs": [],
   "source": []
  },
  {
   "cell_type": "markdown",
   "id": "9129a2f6",
   "metadata": {},
   "source": [
    "### LGBM"
   ]
  },
  {
   "cell_type": "code",
   "execution_count": 117,
   "id": "28004eae",
   "metadata": {
    "ExecuteTime": {
     "end_time": "2022-03-14T00:21:41.296271Z",
     "start_time": "2022-03-14T00:21:39.017184Z"
    }
   },
   "outputs": [
    {
     "name": "stdout",
     "output_type": "stream",
     "text": [
      "fit_time : [0.30806804 0.30106664 0.27171516 0.28375912 0.29000878]\n",
      "score_time : [0.01600337 0.01600313 0.01300406 0.01523376 0.01400328]\n",
      "test_score : [0.92390175 0.93264078 0.91808859 0.90639029 0.86403502]\n",
      "train_score : [0.94987555 0.95189479 0.95505844 0.95568509 0.96118752]\n",
      "\n",
      "\n",
      "ROC_AUC:\n",
      "0.5179805153931287\n",
      "\n",
      "Matriz de Confusão:\n",
      "[[10613 43618]\n",
      " [  876  3935]]\n",
      "\n",
      "\n",
      "Wall time: 2.26 s\n"
     ]
    }
   ],
   "source": [
    "%%time\n",
    "\n",
    "\n",
    "mdl = LGBMClassifier()\n",
    "\n",
    "dados_modelo = executaAlgoritmo(mdl, X_nm, y_nm, X_test[cols_chi2], y_test)\n",
    "\n"
   ]
  },
  {
   "cell_type": "code",
   "execution_count": 118,
   "id": "d67abf0e",
   "metadata": {
    "ExecuteTime": {
     "end_time": "2022-03-14T00:21:41.562905Z",
     "start_time": "2022-03-14T00:21:41.299273Z"
    }
   },
   "outputs": [
    {
     "name": "stdout",
     "output_type": "stream",
     "text": [
      "ROC_AUC:\n",
      "0.5096586129698787\n",
      "\n",
      "Matriz de Confusão:\n",
      "[[ 8892 36396]\n",
      " [  741  3173]]\n"
     ]
    }
   ],
   "source": [
    "roc_final, cv_final = avalicaoModelo(mdl, X_final[cols_chi2], y_final)\n"
   ]
  },
  {
   "cell_type": "markdown",
   "id": "13c806d5",
   "metadata": {},
   "source": [
    "#### Inserção tabela de controle"
   ]
  },
  {
   "cell_type": "code",
   "execution_count": 119,
   "id": "6802e082",
   "metadata": {
    "ExecuteTime": {
     "end_time": "2022-03-14T00:21:41.610918Z",
     "start_time": "2022-03-14T00:21:41.565906Z"
    }
   },
   "outputs": [],
   "source": [
    "nome = 'LGBM_Mod5'\n",
    "\n",
    "\n",
    "lista_modelos= lista_modelos.append({'id_modelo':'7.2.2',\n",
    "                      'nome_modelo':nome,\n",
    "                      'data_treino':'09/03/2022',\n",
    "                      'metodo':'LGBM',\n",
    "                      'roc_auc':roc_auc_score(y_test, dados_modelo[2][:,1]),\n",
    "                      'tempo_de_treino':dados_modelo[3]['fit_time'].mean(),\n",
    "                      'hyperparametros':dados_modelo[0].get_params(),\n",
    "                      'path_to_pickle': ''+nome+'.pkl',\n",
    "                      'colunas_selection':'Top20 Chi2',\n",
    "                      'metodo_balanceamento':'NearMiss',\n",
    "                      'data_cleaning':'preenchimentoZero',\n",
    "                      'categorizacao':'labelEnconder',\n",
    "                      'confusao': confusion_matrix(y_test, dados_modelo[1]),\n",
    "                      'roc_auc_validacao_final':roc_final,\n",
    "                      'confusao_validacao_final': cv_final,\n",
    "\n",
    "                                    },\n",
    "                    ignore_index=True)"
   ]
  },
  {
   "cell_type": "code",
   "execution_count": 120,
   "id": "5919f939",
   "metadata": {
    "ExecuteTime": {
     "end_time": "2022-03-14T00:21:41.626919Z",
     "start_time": "2022-03-14T00:21:41.613920Z"
    }
   },
   "outputs": [],
   "source": [
    "with open(nome+'.pkl','wb') as file:\n",
    "    pickle.dump(mdl, file)"
   ]
  },
  {
   "cell_type": "code",
   "execution_count": null,
   "id": "48bbc26b",
   "metadata": {},
   "outputs": [],
   "source": []
  },
  {
   "cell_type": "markdown",
   "id": "778b740e",
   "metadata": {},
   "source": [
    "### XGB"
   ]
  },
  {
   "cell_type": "code",
   "execution_count": 121,
   "id": "a25badc7",
   "metadata": {
    "ExecuteTime": {
     "end_time": "2022-03-14T00:21:49.472505Z",
     "start_time": "2022-03-14T00:21:41.630920Z"
    }
   },
   "outputs": [
    {
     "name": "stdout",
     "output_type": "stream",
     "text": [
      "fit_time : [1.18326306 1.15225887 1.12025166 1.09524655 1.27028418]\n",
      "score_time : [0.01400304 0.01500368 0.01200318 0.01000309 0.01300383]\n",
      "test_score : [0.90781833 0.93001494 0.91601366 0.90668962 0.86124044]\n",
      "train_score : [0.98362699 0.98219886 0.98349051 0.98561212 0.98535828]\n",
      "\n",
      "\n",
      "ROC_AUC:\n",
      "0.5123158383331063\n",
      "\n",
      "Matriz de Confusão:\n",
      "[[10455 43776]\n",
      " [  862  3949]]\n",
      "\n",
      "\n",
      "Wall time: 7.83 s\n"
     ]
    }
   ],
   "source": [
    "%%time\n",
    "\n",
    "\n",
    "mdl = XGBClassifier(use_label_encoder=False, eval_metric='logloss')\n",
    "\n",
    "dados_modelo = executaAlgoritmo(mdl, X_nm, y_nm, X_test[cols_chi2], y_test)\n",
    "\n"
   ]
  },
  {
   "cell_type": "code",
   "execution_count": 122,
   "id": "35159141",
   "metadata": {
    "ExecuteTime": {
     "end_time": "2022-03-14T00:21:49.613717Z",
     "start_time": "2022-03-14T00:21:49.475686Z"
    }
   },
   "outputs": [
    {
     "name": "stdout",
     "output_type": "stream",
     "text": [
      "ROC_AUC:\n",
      "0.5044381743476621\n",
      "\n",
      "Matriz de Confusão:\n",
      "[[ 8829 36459]\n",
      " [  747  3167]]\n"
     ]
    }
   ],
   "source": [
    "roc_final, cv_final = avalicaoModelo(mdl, X_final[cols_chi2], y_final)\n"
   ]
  },
  {
   "cell_type": "code",
   "execution_count": null,
   "id": "0de4c4af",
   "metadata": {},
   "outputs": [],
   "source": []
  },
  {
   "cell_type": "markdown",
   "id": "da3a731c",
   "metadata": {},
   "source": [
    "#### Inserção tabela de controle"
   ]
  },
  {
   "cell_type": "code",
   "execution_count": 123,
   "id": "21502f03",
   "metadata": {
    "ExecuteTime": {
     "end_time": "2022-03-14T00:21:49.677731Z",
     "start_time": "2022-03-14T00:21:49.615719Z"
    }
   },
   "outputs": [],
   "source": [
    "nome = 'XGB_Mod5'\n",
    "\n",
    "\n",
    "\n",
    "lista_modelos= lista_modelos.append({'id_modelo':'7.2.3',\n",
    "                      'nome_modelo':nome,\n",
    "                      'data_treino':'09/03/2022',\n",
    "                      'metodo':'XGB',\n",
    "                      'roc_auc':roc_auc_score(y_test, dados_modelo[2][:,1]),\n",
    "                      'tempo_de_treino':dados_modelo[3]['fit_time'].mean(),\n",
    "                      'hyperparametros':dados_modelo[0].get_params(),\n",
    "                      'path_to_pickle': ''+nome+'.pkl',\n",
    "                      'colunas_selection':'Top20 Chi2',\n",
    "                      'metodo_balanceamento':'NearMiss',\n",
    "                      'data_cleaning':'preenchimentoZero',\n",
    "                      'categorizacao':'labelEnconder',\n",
    "                      'confusao': confusion_matrix(y_test, dados_modelo[1]),\n",
    "                      'roc_auc_validacao_final':roc_final,\n",
    "                      'confusao_validacao_final': cv_final,\n",
    "                                \n",
    "                                    },\n",
    "                    ignore_index=True)"
   ]
  },
  {
   "cell_type": "code",
   "execution_count": 124,
   "id": "8ae5b2f1",
   "metadata": {
    "ExecuteTime": {
     "end_time": "2022-03-14T00:21:49.741749Z",
     "start_time": "2022-03-14T00:21:49.681737Z"
    }
   },
   "outputs": [],
   "source": [
    "with open(nome+'.pkl','wb') as file:\n",
    "    pickle.dump(mdl, file)"
   ]
  },
  {
   "cell_type": "code",
   "execution_count": null,
   "id": "0cdfb770",
   "metadata": {},
   "outputs": [],
   "source": []
  },
  {
   "cell_type": "markdown",
   "id": "05277c6a",
   "metadata": {},
   "source": [
    "# Modelagem 6"
   ]
  },
  {
   "cell_type": "markdown",
   "id": "e93b6069",
   "metadata": {},
   "source": [
    "* Colunas: todas\n",
    "* DataCleaning: Preenchimento de valor ZERO para valores ausentes\n",
    "* Categorização: LabelEnconder\n",
    "* Balanceamento: SMOTE Balanceamento"
   ]
  },
  {
   "cell_type": "markdown",
   "id": "8b2f0c15",
   "metadata": {},
   "source": [
    "## Tratamento de dados"
   ]
  },
  {
   "cell_type": "code",
   "execution_count": null,
   "id": "d39a6cae",
   "metadata": {},
   "outputs": [],
   "source": []
  },
  {
   "cell_type": "code",
   "execution_count": 125,
   "id": "cb02f507",
   "metadata": {
    "ExecuteTime": {
     "end_time": "2022-03-14T00:21:49.773754Z",
     "start_time": "2022-03-14T00:21:49.748756Z"
    }
   },
   "outputs": [
    {
     "data": {
      "text/plain": [
       "0    126519\n",
       "1     11245\n",
       "Name: TARGET, dtype: int64"
      ]
     },
     "execution_count": 125,
     "metadata": {},
     "output_type": "execute_result"
    }
   ],
   "source": [
    "y_train.value_counts()"
   ]
  },
  {
   "cell_type": "code",
   "execution_count": null,
   "id": "02702223",
   "metadata": {},
   "outputs": [],
   "source": []
  },
  {
   "cell_type": "code",
   "execution_count": 126,
   "id": "1a2b1b9d",
   "metadata": {
    "ExecuteTime": {
     "end_time": "2022-03-14T00:21:54.538358Z",
     "start_time": "2022-03-14T00:21:49.779760Z"
    }
   },
   "outputs": [],
   "source": [
    "X_smote, y_smote = SMOTE().fit_resample(X_train[cols_chi2], y_train)"
   ]
  },
  {
   "cell_type": "code",
   "execution_count": 127,
   "id": "9b6e4f7e",
   "metadata": {
    "ExecuteTime": {
     "end_time": "2022-03-14T00:21:54.554202Z",
     "start_time": "2022-03-14T00:21:54.541199Z"
    }
   },
   "outputs": [
    {
     "data": {
      "text/plain": [
       "((137764, 94), (137764,), (253038, 20), (253038,))"
      ]
     },
     "execution_count": 127,
     "metadata": {},
     "output_type": "execute_result"
    }
   ],
   "source": [
    "X_train.shape, y_train.shape, X_smote.shape, y_smote.shape"
   ]
  },
  {
   "cell_type": "code",
   "execution_count": 128,
   "id": "f6e55ca8",
   "metadata": {
    "ExecuteTime": {
     "end_time": "2022-03-14T00:21:54.569542Z",
     "start_time": "2022-03-14T00:21:54.555203Z"
    }
   },
   "outputs": [
    {
     "data": {
      "text/plain": [
       "0    126519\n",
       "1    126519\n",
       "Name: TARGET, dtype: int64"
      ]
     },
     "execution_count": 128,
     "metadata": {},
     "output_type": "execute_result"
    }
   ],
   "source": [
    "y_smote.value_counts()"
   ]
  },
  {
   "cell_type": "code",
   "execution_count": null,
   "id": "5ced43de",
   "metadata": {},
   "outputs": [],
   "source": []
  },
  {
   "cell_type": "code",
   "execution_count": null,
   "id": "89dd5570",
   "metadata": {},
   "outputs": [],
   "source": []
  },
  {
   "cell_type": "code",
   "execution_count": null,
   "id": "b29eacb9",
   "metadata": {},
   "outputs": [],
   "source": []
  },
  {
   "cell_type": "markdown",
   "id": "1e21fb21",
   "metadata": {},
   "source": [
    "## Algoritmos"
   ]
  },
  {
   "cell_type": "markdown",
   "id": "ee416f66",
   "metadata": {},
   "source": [
    "### RandomForest"
   ]
  },
  {
   "cell_type": "code",
   "execution_count": 129,
   "id": "60d234f6",
   "metadata": {
    "ExecuteTime": {
     "end_time": "2022-03-14T00:24:18.824823Z",
     "start_time": "2022-03-14T00:21:54.571532Z"
    }
   },
   "outputs": [
    {
     "name": "stdout",
     "output_type": "stream",
     "text": [
      "fit_time : [21.42396903 19.80433989 21.2775166  22.28870916 20.9161675 ]\n",
      "score_time : [0.31219602 0.31559038 0.39710283 0.32607841 0.31006813]\n",
      "test_score : [0.79817001 0.89718848 0.90456957 0.89495727 0.90124734]\n",
      "train_score : [0.90694956 0.87303699 0.88050316 0.87395064 0.87695888]\n",
      "\n",
      "\n",
      "ROC_AUC:\n",
      "0.6786336370936922\n",
      "\n",
      "Matriz de Confusão:\n",
      "[[41592 12639]\n",
      " [ 2509  2302]]\n",
      "\n",
      "\n",
      "Wall time: 2min 24s\n"
     ]
    }
   ],
   "source": [
    "%%time\n",
    "\n",
    "mdl = RandomForestClassifier(max_depth=5)\n",
    "\n",
    "dados_modelo = executaAlgoritmo(mdl, X_smote, y_smote, X_test[cols_chi2], y_test)\n"
   ]
  },
  {
   "cell_type": "code",
   "execution_count": 130,
   "id": "ba19c258",
   "metadata": {
    "ExecuteTime": {
     "end_time": "2022-03-14T00:24:19.541988Z",
     "start_time": "2022-03-14T00:24:18.826819Z"
    }
   },
   "outputs": [
    {
     "name": "stdout",
     "output_type": "stream",
     "text": [
      "ROC_AUC:\n",
      "0.6705296684312435\n",
      "\n",
      "Matriz de Confusão:\n",
      "[[34785 10503]\n",
      " [ 2136  1778]]\n"
     ]
    }
   ],
   "source": [
    "roc_final, cv_final = avalicaoModelo(mdl, X_final[cols_chi2], y_final)\n"
   ]
  },
  {
   "cell_type": "code",
   "execution_count": null,
   "id": "01315487",
   "metadata": {},
   "outputs": [],
   "source": []
  },
  {
   "cell_type": "markdown",
   "id": "f5f3c482",
   "metadata": {},
   "source": [
    "#### Inserção tabela de controle"
   ]
  },
  {
   "cell_type": "code",
   "execution_count": 131,
   "id": "7f3114b2",
   "metadata": {
    "ExecuteTime": {
     "end_time": "2022-03-14T00:24:19.589000Z",
     "start_time": "2022-03-14T00:24:19.543981Z"
    }
   },
   "outputs": [],
   "source": [
    "nome = 'RandomForest_Mod6'\n",
    "\n",
    "\n",
    "\n",
    "lista_modelos= lista_modelos.append({'id_modelo':'8.2.1',\n",
    "                      'nome_modelo':nome,\n",
    "                      'data_treino':'09/03/2022',\n",
    "                      'metodo':'RandomForest',\n",
    "                      'roc_auc':roc_auc_score(y_test, dados_modelo[2][:,1]),\n",
    "                      'tempo_de_treino':dados_modelo[3]['fit_time'].mean(),\n",
    "                      'hyperparametros':dados_modelo[0].get_params(),\n",
    "                      'path_to_pickle': ''+nome+'.pkl',\n",
    "                      'colunas_selection':'Top20 Chi2',\n",
    "                      'metodo_balanceamento':'SMOTE',\n",
    "                      'data_cleaning':'preenchimentoZero',\n",
    "                      'categorizacao':'labelEnconder',\n",
    "                      'confusao': confusion_matrix(y_test, dados_modelo[1]),     \n",
    "                      'roc_auc_validacao_final':roc_final,\n",
    "                      'confusao_validacao_final': cv_final,\n",
    "                                    \n",
    "                                    },\n",
    "                    ignore_index=True)"
   ]
  },
  {
   "cell_type": "code",
   "execution_count": 132,
   "id": "e81af775",
   "metadata": {
    "ExecuteTime": {
     "end_time": "2022-03-14T00:24:19.604995Z",
     "start_time": "2022-03-14T00:24:19.590997Z"
    }
   },
   "outputs": [],
   "source": [
    "with open(nome+'.pkl','wb') as file:\n",
    "    pickle.dump(mdl, file)"
   ]
  },
  {
   "cell_type": "markdown",
   "id": "fc4873a6",
   "metadata": {},
   "source": [
    "### LGBM"
   ]
  },
  {
   "cell_type": "code",
   "execution_count": 133,
   "id": "7c1dc231",
   "metadata": {
    "ExecuteTime": {
     "end_time": "2022-03-14T00:24:28.968961Z",
     "start_time": "2022-03-14T00:24:19.606997Z"
    }
   },
   "outputs": [
    {
     "name": "stdout",
     "output_type": "stream",
     "text": [
      "fit_time : [1.29894805 1.21927309 1.13931751 1.01531315 1.05723572]\n",
      "score_time : [0.14703488 0.08101821 0.07901764 0.07801771 0.08001828]\n",
      "test_score : [0.84234482 0.98346646 0.98382413 0.98348456 0.98431638]\n",
      "train_score : [0.9873703  0.95761438 0.957466   0.95781998 0.95722264]\n",
      "\n",
      "\n",
      "ROC_AUC:\n",
      "0.7030758714901126\n",
      "\n",
      "Matriz de Confusão:\n",
      "[[51441  2790]\n",
      " [ 4011   800]]\n",
      "\n",
      "\n",
      "Wall time: 9.35 s\n"
     ]
    }
   ],
   "source": [
    "%%time\n",
    "\n",
    "\n",
    "mdl = LGBMClassifier()\n",
    "\n",
    "dados_modelo = executaAlgoritmo(mdl, X_smote, y_smote, X_test[cols_chi2], y_test)\n",
    "\n"
   ]
  },
  {
   "cell_type": "code",
   "execution_count": 134,
   "id": "e1aaa102",
   "metadata": {
    "ExecuteTime": {
     "end_time": "2022-03-14T00:24:29.191011Z",
     "start_time": "2022-03-14T00:24:28.970962Z"
    }
   },
   "outputs": [
    {
     "name": "stdout",
     "output_type": "stream",
     "text": [
      "ROC_AUC:\n",
      "0.7047346987794552\n",
      "\n",
      "Matriz de Confusão:\n",
      "[[43019  2269]\n",
      " [ 3255   659]]\n"
     ]
    }
   ],
   "source": [
    "roc_final, cv_final = avalicaoModelo(mdl, X_final[cols_chi2], y_final)\n"
   ]
  },
  {
   "cell_type": "code",
   "execution_count": null,
   "id": "d854debc",
   "metadata": {},
   "outputs": [],
   "source": []
  },
  {
   "cell_type": "markdown",
   "id": "9d37ed8e",
   "metadata": {},
   "source": [
    "#### Inserção tabela de controle"
   ]
  },
  {
   "cell_type": "code",
   "execution_count": 135,
   "id": "e31dd17b",
   "metadata": {
    "ExecuteTime": {
     "end_time": "2022-03-14T00:24:29.239022Z",
     "start_time": "2022-03-14T00:24:29.193012Z"
    }
   },
   "outputs": [],
   "source": [
    "nome = 'LGBM_Mod6'\n",
    "\n",
    "\n",
    "\n",
    "lista_modelos= lista_modelos.append({'id_modelo':'8.2.2',\n",
    "                      'nome_modelo':nome,\n",
    "                      'data_treino':'09/03/2022',\n",
    "                      'metodo':'LGBM',\n",
    "                      'roc_auc':roc_auc_score(y_test, dados_modelo[2][:,1]),\n",
    "                      'tempo_de_treino':dados_modelo[3]['fit_time'].mean(),\n",
    "                      'hyperparametros':dados_modelo[0].get_params(),\n",
    "                      'path_to_pickle': ''+nome+'.pkl',\n",
    "                      'colunas_selection':'Top20 Chi2',\n",
    "                      'metodo_balanceamento':'SMOTE',\n",
    "                      'data_cleaning':'preenchimentoZero',\n",
    "                      'categorizacao':'labelEnconder',\n",
    "                      'confusao': confusion_matrix(y_test, dados_modelo[1]),\n",
    "                      'roc_auc_validacao_final':roc_final,\n",
    "                      'confusao_validacao_final': cv_final,\n",
    "\n",
    "                                    },\n",
    "                    ignore_index=True)"
   ]
  },
  {
   "cell_type": "code",
   "execution_count": 136,
   "id": "4da421b4",
   "metadata": {
    "ExecuteTime": {
     "end_time": "2022-03-14T00:24:29.255026Z",
     "start_time": "2022-03-14T00:24:29.241026Z"
    }
   },
   "outputs": [],
   "source": [
    "with open(nome+'.pkl','wb') as file:\n",
    "    pickle.dump(mdl, file)"
   ]
  },
  {
   "cell_type": "code",
   "execution_count": null,
   "id": "c41cab9a",
   "metadata": {},
   "outputs": [],
   "source": []
  },
  {
   "cell_type": "markdown",
   "id": "a6973316",
   "metadata": {},
   "source": [
    "### XGB"
   ]
  },
  {
   "cell_type": "code",
   "execution_count": 137,
   "id": "81ffcaba",
   "metadata": {
    "ExecuteTime": {
     "end_time": "2022-03-14T00:25:36.636584Z",
     "start_time": "2022-03-14T00:24:29.257028Z"
    }
   },
   "outputs": [
    {
     "name": "stdout",
     "output_type": "stream",
     "text": [
      "fit_time : [10.04826903 14.37625527 10.31945944  9.48986268  9.72507906]\n",
      "score_time : [0.04601002 0.05320954 0.04369211 0.04801083 0.05494189]\n",
      "test_score : [0.84802943 0.98988568 0.99006105 0.98945074 0.99018397]\n",
      "train_score : [0.99448896 0.97279227 0.97219459 0.97184774 0.97149583]\n",
      "\n",
      "\n",
      "ROC_AUC:\n",
      "0.6980777043579188\n",
      "\n",
      "Matriz de Confusão:\n",
      "[[51609  2622]\n",
      " [ 4023   788]]\n",
      "\n",
      "\n",
      "Wall time: 1min 7s\n"
     ]
    }
   ],
   "source": [
    "%%time\n",
    "\n",
    "\n",
    "mdl = XGBClassifier(use_label_encoder=False, eval_metric='logloss')\n",
    "\n",
    "dados_modelo = executaAlgoritmo(mdl, X_smote, y_smote, X_test[cols_chi2], y_test)\n",
    "\n"
   ]
  },
  {
   "cell_type": "code",
   "execution_count": 138,
   "id": "bb1e5118",
   "metadata": {
    "ExecuteTime": {
     "end_time": "2022-03-14T00:25:36.760856Z",
     "start_time": "2022-03-14T00:25:36.636584Z"
    }
   },
   "outputs": [
    {
     "name": "stdout",
     "output_type": "stream",
     "text": [
      "ROC_AUC:\n",
      "0.7044407897557601\n",
      "\n",
      "Matriz de Confusão:\n",
      "[[43175  2113]\n",
      " [ 3254   660]]\n"
     ]
    }
   ],
   "source": [
    "roc_final, cv_final = avalicaoModelo(mdl, X_final[cols_chi2], y_final)\n"
   ]
  },
  {
   "cell_type": "code",
   "execution_count": null,
   "id": "5f3a87d5",
   "metadata": {},
   "outputs": [],
   "source": []
  },
  {
   "cell_type": "markdown",
   "id": "d4ee583c",
   "metadata": {},
   "source": [
    "#### Inserção tabela de controle"
   ]
  },
  {
   "cell_type": "code",
   "execution_count": null,
   "id": "fcb61e50",
   "metadata": {},
   "outputs": [],
   "source": []
  },
  {
   "cell_type": "code",
   "execution_count": 139,
   "id": "34b03a34",
   "metadata": {
    "ExecuteTime": {
     "end_time": "2022-03-14T00:25:36.857238Z",
     "start_time": "2022-03-14T00:25:36.760856Z"
    }
   },
   "outputs": [],
   "source": [
    "nome = 'XGB_Mod6'\n",
    "\n",
    "\n",
    "\n",
    "lista_modelos= lista_modelos.append({'id_modelo':'8.2.3',\n",
    "                      'nome_modelo':nome,\n",
    "                      'data_treino':'09/03/2022',\n",
    "                      'metodo':'XGB',\n",
    "                      'roc_auc':roc_auc_score(y_test, dados_modelo[2][:,1]),\n",
    "                      'tempo_de_treino':dados_modelo[3]['fit_time'].mean(),\n",
    "                      'hyperparametros':dados_modelo[0].get_params(),\n",
    "                      'path_to_pickle': ''+nome+'.pkl',\n",
    "                      'colunas_selection':'Top20 Chi2',\n",
    "                      'metodo_balanceamento':'SMOTE',\n",
    "                      'data_cleaning':'preenchimentoZero',\n",
    "                      'categorizacao':'labelEnconder',\n",
    "                      'confusao': confusion_matrix(y_test, dados_modelo[1]),\n",
    "                      'roc_auc_validacao_final':roc_final,\n",
    "                      'confusao_validacao_final': cv_final,\n",
    "                                \n",
    "                                    },\n",
    "                    ignore_index=True)"
   ]
  },
  {
   "cell_type": "code",
   "execution_count": 140,
   "id": "28067e02",
   "metadata": {
    "ExecuteTime": {
     "end_time": "2022-03-14T00:25:36.905241Z",
     "start_time": "2022-03-14T00:25:36.857238Z"
    }
   },
   "outputs": [],
   "source": [
    "with open(nome+'.pkl','wb') as file:\n",
    "    pickle.dump(mdl, file)"
   ]
  },
  {
   "cell_type": "code",
   "execution_count": null,
   "id": "13c9a446",
   "metadata": {},
   "outputs": [],
   "source": []
  },
  {
   "cell_type": "code",
   "execution_count": null,
   "id": "21845b32",
   "metadata": {},
   "outputs": [],
   "source": []
  },
  {
   "cell_type": "markdown",
   "id": "1806a9fc",
   "metadata": {},
   "source": [
    "# ----- Melhores até aqui ------"
   ]
  },
  {
   "cell_type": "markdown",
   "id": "d958285e",
   "metadata": {},
   "source": [
    "A análise seguira com dados onde a categorização considerou GetDummys para algumas colunas. A análise será repetindo as cofigurações de colunas e balanceamento dos melhores modelos identificados até aqui.\n",
    "\n",
    "São eles:\n",
    "* 3.2.2\tLGBM_Mod1\n",
    "* 5.2.2\tLGBM_Mod3\n",
    "* 6.2.2\tLGBM_Mod4\n",
    "* 6.2.3\tXGB_Mod4\n",
    "* 8.2.2\tLGBM_Mod6\n",
    "* 8.2.3\tXGB_Mod6\n",
    "\n",
    "\n"
   ]
  },
  {
   "cell_type": "code",
   "execution_count": null,
   "id": "4c64d751",
   "metadata": {},
   "outputs": [],
   "source": []
  },
  {
   "cell_type": "code",
   "execution_count": null,
   "id": "2bb3ea43",
   "metadata": {},
   "outputs": [],
   "source": []
  },
  {
   "cell_type": "markdown",
   "id": "1a01dc14",
   "metadata": {},
   "source": [
    "# Modelagem 7"
   ]
  },
  {
   "cell_type": "markdown",
   "id": "c2785d25",
   "metadata": {},
   "source": [
    "* Colunas: todas\n",
    "* DataCleaning: Preenchimento de valor ZERO para valores ausentes\n",
    "* Categorização: GetDummys\n",
    "* Balanceamento: Sem Balanceamento"
   ]
  },
  {
   "cell_type": "markdown",
   "id": "b2ebcf73",
   "metadata": {},
   "source": [
    "## Tratamento de dados"
   ]
  },
  {
   "cell_type": "markdown",
   "id": "e7c12d5c",
   "metadata": {},
   "source": [
    "## Algoritmos"
   ]
  },
  {
   "cell_type": "markdown",
   "id": "bc286451",
   "metadata": {},
   "source": [
    "### LGBM"
   ]
  },
  {
   "cell_type": "code",
   "execution_count": 141,
   "id": "ca269195",
   "metadata": {
    "ExecuteTime": {
     "end_time": "2022-03-14T00:25:48.674792Z",
     "start_time": "2022-03-14T00:25:36.905241Z"
    }
   },
   "outputs": [
    {
     "name": "stdout",
     "output_type": "stream",
     "text": [
      "fit_time : [1.79678321 1.54614639 1.47287774 1.50625205 1.49854279]\n",
      "score_time : [0.06400704 0.07223582 0.06400585 0.0640049  0.06400418]\n",
      "test_score : [0.75103725 0.73410153 0.74438376 0.75496429 0.7498055 ]\n",
      "train_score : [0.83808795 0.83914957 0.83815776 0.83547209 0.83768619]\n",
      "\n",
      "\n",
      "ROC_AUC:\n",
      "0.7465899136192846\n",
      "\n",
      "Matriz de Confusão:\n",
      "[[54173    58]\n",
      " [ 4743    68]]\n",
      "\n",
      "\n",
      "Wall time: 11.8 s\n"
     ]
    }
   ],
   "source": [
    "%%time\n",
    "\n",
    "mdl = LGBMClassifier()\n",
    "\n",
    "dados_modelo = executaAlgoritmo(mdl, X_traind, y_traind, X_testd, y_testd)\n"
   ]
  },
  {
   "cell_type": "code",
   "execution_count": 142,
   "id": "39021d7a",
   "metadata": {
    "ExecuteTime": {
     "end_time": "2022-03-14T00:25:49.057636Z",
     "start_time": "2022-03-14T00:25:48.674792Z"
    }
   },
   "outputs": [
    {
     "name": "stdout",
     "output_type": "stream",
     "text": [
      "ROC_AUC:\n",
      "0.7484506189287667\n",
      "\n",
      "Matriz de Confusão:\n",
      "[[45247    41]\n",
      " [ 3861    53]]\n"
     ]
    }
   ],
   "source": [
    "roc_final, cv_final = avalicaoModelo(mdl, X_finald, y_finald)\n"
   ]
  },
  {
   "cell_type": "markdown",
   "id": "2dbc4018",
   "metadata": {},
   "source": [
    "#### Inserção tabela de controle"
   ]
  },
  {
   "cell_type": "code",
   "execution_count": 143,
   "id": "77b42f03",
   "metadata": {
    "ExecuteTime": {
     "end_time": "2022-03-14T00:25:49.105645Z",
     "start_time": "2022-03-14T00:25:49.057636Z"
    }
   },
   "outputs": [],
   "source": [
    "nome = 'LGBM_Mod7'\n",
    "\n",
    "\n",
    "\n",
    "lista_modelos= lista_modelos.append({'id_modelo':'.10.2.1',\n",
    "                      'nome_modelo':nome,\n",
    "                      'data_treino':'09/03/2022',\n",
    "                      'metodo':'LGBM',\n",
    "                      'roc_auc':roc_auc_score(y_testd, dados_modelo[2][:,1]),\n",
    "                      'tempo_de_treino':dados_modelo[3]['fit_time'].mean(),\n",
    "                      'hyperparametros':dados_modelo[0].get_params(),\n",
    "                      'path_to_pickle': ''+nome+'.pkl',\n",
    "                      'colunas_selection':'todas',\n",
    "                      'metodo_balanceamento':'sem',\n",
    "                      'data_cleaning':'preenchimentoZero',\n",
    "                      'categorizacao':'GetDummys',\n",
    "                      'confusao': confusion_matrix(y_testd, dados_modelo[1]),   \n",
    "                      'roc_auc_validacao_final':roc_final,\n",
    "                      'confusao_validacao_final': cv_final,\n",
    "                                     \n",
    "                                    },\n",
    "                    ignore_index=True)"
   ]
  },
  {
   "cell_type": "code",
   "execution_count": 144,
   "id": "2f956473",
   "metadata": {
    "ExecuteTime": {
     "end_time": "2022-03-14T00:25:49.121642Z",
     "start_time": "2022-03-14T00:25:49.105645Z"
    }
   },
   "outputs": [],
   "source": [
    "with open(nome+'.pkl','wb') as file:\n",
    "    pickle.dump(mdl, file)"
   ]
  },
  {
   "cell_type": "code",
   "execution_count": null,
   "id": "328de09a",
   "metadata": {},
   "outputs": [],
   "source": []
  },
  {
   "cell_type": "markdown",
   "id": "498b5c64",
   "metadata": {},
   "source": [
    "# Modelagem 8"
   ]
  },
  {
   "cell_type": "markdown",
   "id": "303fcf31",
   "metadata": {},
   "source": [
    "* Colunas: todas\n",
    "* DataCleaning: Preenchimento de valor ZERO para valores ausentes\n",
    "* Categorização: GetDummys\n",
    "* Balanceamento: SMOTE Balanceamento"
   ]
  },
  {
   "cell_type": "markdown",
   "id": "4dce98de",
   "metadata": {},
   "source": [
    "## Tratamento de dados"
   ]
  },
  {
   "cell_type": "code",
   "execution_count": null,
   "id": "d648cf95",
   "metadata": {},
   "outputs": [],
   "source": []
  },
  {
   "cell_type": "code",
   "execution_count": 145,
   "id": "c74a2e18",
   "metadata": {
    "ExecuteTime": {
     "end_time": "2022-03-14T00:25:49.137644Z",
     "start_time": "2022-03-14T00:25:49.121642Z"
    }
   },
   "outputs": [
    {
     "data": {
      "text/plain": [
       "0    126519\n",
       "1     11245\n",
       "Name: TARGET, dtype: int64"
      ]
     },
     "execution_count": 145,
     "metadata": {},
     "output_type": "execute_result"
    }
   ],
   "source": [
    "y_traind.value_counts()"
   ]
  },
  {
   "cell_type": "code",
   "execution_count": null,
   "id": "9e0ee073",
   "metadata": {},
   "outputs": [],
   "source": []
  },
  {
   "cell_type": "code",
   "execution_count": 146,
   "id": "410f9e04",
   "metadata": {
    "ExecuteTime": {
     "end_time": "2022-03-14T00:25:55.012025Z",
     "start_time": "2022-03-14T00:25:49.137644Z"
    }
   },
   "outputs": [],
   "source": [
    "X_smote, y_smote = SMOTE().fit_resample(X_traind, y_traind)"
   ]
  },
  {
   "cell_type": "code",
   "execution_count": 147,
   "id": "a2b45a59",
   "metadata": {
    "ExecuteTime": {
     "end_time": "2022-03-14T00:25:55.052031Z",
     "start_time": "2022-03-14T00:25:55.020009Z"
    }
   },
   "outputs": [
    {
     "data": {
      "text/plain": [
       "((137764, 142), (137764,), (253038, 142), (253038,))"
      ]
     },
     "execution_count": 147,
     "metadata": {},
     "output_type": "execute_result"
    }
   ],
   "source": [
    "X_traind.shape, y_traind.shape, X_smote.shape, y_smote.shape"
   ]
  },
  {
   "cell_type": "code",
   "execution_count": 148,
   "id": "82eaea4c",
   "metadata": {
    "ExecuteTime": {
     "end_time": "2022-03-14T00:25:55.084033Z",
     "start_time": "2022-03-14T00:25:55.052031Z"
    }
   },
   "outputs": [
    {
     "data": {
      "text/plain": [
       "0    126519\n",
       "1    126519\n",
       "Name: TARGET, dtype: int64"
      ]
     },
     "execution_count": 148,
     "metadata": {},
     "output_type": "execute_result"
    }
   ],
   "source": [
    "y_smote.value_counts()"
   ]
  },
  {
   "cell_type": "code",
   "execution_count": null,
   "id": "36601329",
   "metadata": {},
   "outputs": [],
   "source": []
  },
  {
   "cell_type": "markdown",
   "id": "7115ffa3",
   "metadata": {},
   "source": [
    "## Algoritmos"
   ]
  },
  {
   "cell_type": "markdown",
   "id": "081fbcf4",
   "metadata": {},
   "source": [
    "### LGBM"
   ]
  },
  {
   "cell_type": "code",
   "execution_count": 149,
   "id": "9caf4c56",
   "metadata": {
    "ExecuteTime": {
     "end_time": "2022-03-14T00:26:19.966720Z",
     "start_time": "2022-03-14T00:25:55.084033Z"
    }
   },
   "outputs": [
    {
     "name": "stdout",
     "output_type": "stream",
     "text": [
      "fit_time : [4.08706093 3.05461168 3.08314133 3.47250772 3.03994226]\n",
      "score_time : [0.13602066 0.13601041 0.13620877 0.13601351 0.1362865 ]\n",
      "test_score : [0.8447187  0.99992141 0.99996713 0.9999613  0.99996269]\n",
      "train_score : [1.         0.97660829 0.97657176 0.97662544 0.97669833]\n",
      "\n",
      "\n",
      "ROC_AUC:\n",
      "0.7468299240374692\n",
      "\n",
      "Matriz de Confusão:\n",
      "[[54104   127]\n",
      " [ 4706   105]]\n",
      "\n",
      "\n",
      "Wall time: 24.9 s\n"
     ]
    }
   ],
   "source": [
    "%%time\n",
    "\n",
    "mdl = LGBMClassifier()\n",
    "\n",
    "dados_modelo = executaAlgoritmo(mdl, X_smote, y_smote, X_testd, y_testd)\n"
   ]
  },
  {
   "cell_type": "code",
   "execution_count": 150,
   "id": "dc9cc769",
   "metadata": {
    "ExecuteTime": {
     "end_time": "2022-03-14T00:26:20.311516Z",
     "start_time": "2022-03-14T00:26:19.966720Z"
    }
   },
   "outputs": [
    {
     "name": "stdout",
     "output_type": "stream",
     "text": [
      "ROC_AUC:\n",
      "0.7479117354151169\n",
      "\n",
      "Matriz de Confusão:\n",
      "[[45202    86]\n",
      " [ 3836    78]]\n"
     ]
    }
   ],
   "source": [
    "roc_final, cv_final = avalicaoModelo(mdl, X_finald, y_finald)\n"
   ]
  },
  {
   "cell_type": "code",
   "execution_count": null,
   "id": "48be21b7",
   "metadata": {},
   "outputs": [],
   "source": []
  },
  {
   "cell_type": "markdown",
   "id": "ed609352",
   "metadata": {},
   "source": [
    "#### Inserção tabela de controle"
   ]
  },
  {
   "cell_type": "code",
   "execution_count": 151,
   "id": "5477327b",
   "metadata": {
    "ExecuteTime": {
     "end_time": "2022-03-14T00:26:20.400633Z",
     "start_time": "2022-03-14T00:26:20.311516Z"
    }
   },
   "outputs": [],
   "source": [
    "nome = 'LGBM_Mod8'\n",
    "\n",
    "\n",
    "\n",
    "lista_modelos= lista_modelos.append({'id_modelo':'.11.2.1',\n",
    "                      'nome_modelo':nome,\n",
    "                      'data_treino':'09/03/2022',\n",
    "                      'metodo':'LGBM',\n",
    "                      'roc_auc':roc_auc_score(y_testd, dados_modelo[2][:,1]),\n",
    "                      'tempo_de_treino':dados_modelo[3]['fit_time'].mean(),\n",
    "                      'hyperparametros':dados_modelo[0].get_params(),\n",
    "                      'path_to_pickle': ''+nome+'.pkl',\n",
    "                      'colunas_selection':'todas',\n",
    "                      'metodo_balanceamento':'SMOTE',\n",
    "                      'data_cleaning':'preenchimentoZero',\n",
    "                      'categorizacao':'GetDummys',\n",
    "                      'confusao': confusion_matrix(y_testd, dados_modelo[1]),                                    \n",
    "                      'roc_auc_validacao_final':roc_final,\n",
    "                      'confusao_validacao_final': cv_final,\n",
    "                                     \n",
    "                                    },\n",
    "                    ignore_index=True)"
   ]
  },
  {
   "cell_type": "code",
   "execution_count": 152,
   "id": "901bf569",
   "metadata": {
    "ExecuteTime": {
     "end_time": "2022-03-14T00:26:20.424636Z",
     "start_time": "2022-03-14T00:26:20.400633Z"
    }
   },
   "outputs": [],
   "source": [
    "with open(nome+'.pkl','wb') as file:\n",
    "    pickle.dump(mdl, file)"
   ]
  },
  {
   "cell_type": "code",
   "execution_count": null,
   "id": "e7c3c820",
   "metadata": {},
   "outputs": [],
   "source": []
  },
  {
   "cell_type": "markdown",
   "id": "ea55de8b",
   "metadata": {},
   "source": [
    "# Modelagem 9"
   ]
  },
  {
   "cell_type": "markdown",
   "id": "3ba972b9",
   "metadata": {},
   "source": [
    "* Colunas: 20 melhores CHI2\n",
    "* DataCleaning: Preenchimento de valor ZERO para valores ausentes\n",
    "* Categorização: GetDummys\n",
    "* Balanceamento: Sem Balanceamento"
   ]
  },
  {
   "cell_type": "markdown",
   "id": "900650ab",
   "metadata": {},
   "source": [
    "## Tratamento de dados"
   ]
  },
  {
   "cell_type": "markdown",
   "id": "ff08117e",
   "metadata": {},
   "source": [
    "## Algoritmos"
   ]
  },
  {
   "cell_type": "markdown",
   "id": "8148dc50",
   "metadata": {},
   "source": [
    "### LGBM"
   ]
  },
  {
   "cell_type": "code",
   "execution_count": 153,
   "id": "f0551f1d",
   "metadata": {
    "ExecuteTime": {
     "end_time": "2022-03-14T00:26:25.228318Z",
     "start_time": "2022-03-14T00:26:20.424636Z"
    }
   },
   "outputs": [
    {
     "name": "stdout",
     "output_type": "stream",
     "text": [
      "fit_time : [0.680161   0.56007314 0.64776158 0.48835254 0.5731771 ]\n",
      "score_time : [0.04800391 0.04000258 0.04000306 0.03943229 0.03462148]\n",
      "test_score : [0.7460959  0.73203289 0.74145074 0.75482698 0.74909419]\n",
      "train_score : [0.82411573 0.82469341 0.82458129 0.82227593 0.82220558]\n",
      "\n",
      "\n",
      "ROC_AUC:\n",
      "0.7429969131984921\n",
      "\n",
      "Matriz de Confusão:\n",
      "[[54164    67]\n",
      " [ 4745    66]]\n",
      "\n",
      "\n",
      "Wall time: 4.8 s\n"
     ]
    }
   ],
   "source": [
    "%%time\n",
    "\n",
    "mdl = LGBMClassifier()\n",
    "\n",
    "dados_modelo = executaAlgoritmo(mdl, X_traind[cols_chi2d], y_traind, X_testd[cols_chi2d], y_testd)\n"
   ]
  },
  {
   "cell_type": "code",
   "execution_count": 154,
   "id": "341093c8",
   "metadata": {
    "ExecuteTime": {
     "end_time": "2022-03-14T00:26:25.428578Z",
     "start_time": "2022-03-14T00:26:25.228318Z"
    }
   },
   "outputs": [
    {
     "name": "stdout",
     "output_type": "stream",
     "text": [
      "ROC_AUC:\n",
      "0.7467445390324047\n",
      "\n",
      "Matriz de Confusão:\n",
      "[[45250    38]\n",
      " [ 3862    52]]\n"
     ]
    }
   ],
   "source": [
    "roc_final, cv_final = avalicaoModelo(mdl, X_finald[cols_chi2d], y_finald)\n"
   ]
  },
  {
   "cell_type": "markdown",
   "id": "ccd6a81f",
   "metadata": {},
   "source": [
    "#### Inserção tabela de controle"
   ]
  },
  {
   "cell_type": "code",
   "execution_count": 155,
   "id": "dd8316e2",
   "metadata": {
    "ExecuteTime": {
     "end_time": "2022-03-14T00:26:25.509580Z",
     "start_time": "2022-03-14T00:26:25.428578Z"
    }
   },
   "outputs": [],
   "source": [
    "nome = 'LGBM_Mod9'\n",
    "\n",
    "\n",
    "\n",
    "lista_modelos= lista_modelos.append({'id_modelo':'.12.2.1',\n",
    "                      'nome_modelo':nome,\n",
    "                      'data_treino':'09/03/2022',\n",
    "                      'metodo':'LGBM',\n",
    "                      'roc_auc':roc_auc_score(y_testd, dados_modelo[2][:,1]),\n",
    "                      'tempo_de_treino':dados_modelo[3]['fit_time'].mean(),\n",
    "                      'hyperparametros':dados_modelo[0].get_params(),\n",
    "                      'path_to_pickle': ''+nome+'.pkl',\n",
    "                      'colunas_selection':'todas',\n",
    "                      'metodo_balanceamento':'sem',\n",
    "                      'data_cleaning':'preenchimentoZero',\n",
    "                      'categorizacao':'GetDummys',\n",
    "                      'confusao': confusion_matrix(y_testd, dados_modelo[1]),    \n",
    "                      'roc_auc_validacao_final':roc_final,\n",
    "                      'confusao_validacao_final': cv_final,\n",
    "                                     \n",
    "                                    },\n",
    "                    ignore_index=True)"
   ]
  },
  {
   "cell_type": "code",
   "execution_count": 156,
   "id": "ecdcd8b7",
   "metadata": {
    "ExecuteTime": {
     "end_time": "2022-03-14T00:26:25.541583Z",
     "start_time": "2022-03-14T00:26:25.509580Z"
    }
   },
   "outputs": [],
   "source": [
    "with open(nome+'.pkl','wb') as file:\n",
    "    pickle.dump(mdl, file)"
   ]
  },
  {
   "cell_type": "code",
   "execution_count": null,
   "id": "e490deb6",
   "metadata": {},
   "outputs": [],
   "source": []
  },
  {
   "cell_type": "markdown",
   "id": "bf0ca0a1",
   "metadata": {},
   "source": [
    "### XGB"
   ]
  },
  {
   "cell_type": "code",
   "execution_count": 157,
   "id": "36213ece",
   "metadata": {
    "ExecuteTime": {
     "end_time": "2022-03-14T00:26:53.265217Z",
     "start_time": "2022-03-14T00:26:25.541583Z"
    }
   },
   "outputs": [
    {
     "name": "stdout",
     "output_type": "stream",
     "text": [
      "fit_time : [4.53269529 4.23507833 4.23856497 4.26591325 4.4461627 ]\n",
      "score_time : [0.02400327 0.03200412 0.0320034  0.02400422 0.02400231]\n",
      "test_score : [0.73809287 0.7216069  0.72624863 0.74718632 0.73744674]\n",
      "train_score : [0.88230255 0.88280035 0.88883041 0.88439842 0.88678726]\n",
      "\n",
      "\n",
      "ROC_AUC:\n",
      "0.7341615133896395\n",
      "\n",
      "Matriz de Confusão:\n",
      "[[54045   186]\n",
      " [ 4657   154]]\n",
      "\n",
      "\n",
      "Wall time: 27.7 s\n"
     ]
    }
   ],
   "source": [
    "%%time\n",
    "\n",
    "mdl = XGBClassifier(use_label_encoder=False, eval_metric='logloss')\n",
    "\n",
    "dados_modelo = executaAlgoritmo(mdl, X_traind[cols_chi2d], y_traind, X_testd[cols_chi2d], y_testd)\n"
   ]
  },
  {
   "cell_type": "code",
   "execution_count": 158,
   "id": "937e721d",
   "metadata": {
    "ExecuteTime": {
     "end_time": "2022-03-14T00:26:53.417235Z",
     "start_time": "2022-03-14T00:26:53.265217Z"
    }
   },
   "outputs": [
    {
     "name": "stdout",
     "output_type": "stream",
     "text": [
      "ROC_AUC:\n",
      "0.7390767305900389\n",
      "\n",
      "Matriz de Confusão:\n",
      "[[45155   133]\n",
      " [ 3796   118]]\n"
     ]
    }
   ],
   "source": [
    "roc_final, cv_final = avalicaoModelo(mdl, X_finald[cols_chi2d], y_finald)\n"
   ]
  },
  {
   "cell_type": "markdown",
   "id": "040bd11c",
   "metadata": {},
   "source": [
    "#### Inserção tabela de controle"
   ]
  },
  {
   "cell_type": "code",
   "execution_count": null,
   "id": "70f981a0",
   "metadata": {},
   "outputs": [],
   "source": []
  },
  {
   "cell_type": "code",
   "execution_count": 159,
   "id": "62c7d3d9",
   "metadata": {
    "ExecuteTime": {
     "end_time": "2022-03-14T00:26:53.473239Z",
     "start_time": "2022-03-14T00:26:53.417235Z"
    }
   },
   "outputs": [],
   "source": [
    "nome = 'XGB_Mod9'\n",
    "\n",
    "\n",
    "\n",
    "lista_modelos= lista_modelos.append({'id_modelo':'12.2.2',\n",
    "                      'nome_modelo':nome,\n",
    "                      'data_treino':'09/03/2022',\n",
    "                      'metodo':'XGB',\n",
    "                      'roc_auc':roc_auc_score(y_testd, dados_modelo[2][:,1]),\n",
    "                      'tempo_de_treino':dados_modelo[3]['fit_time'].mean(),\n",
    "                      'hyperparametros':dados_modelo[0].get_params(),\n",
    "                      'path_to_pickle': ''+nome+'.pkl',\n",
    "                      'colunas_selection':'Top20 Chi2',\n",
    "                      'metodo_balanceamento':'sem',\n",
    "                      'data_cleaning':'preenchimentoZero',\n",
    "                      'categorizacao':'GetDummys',\n",
    "                      'confusao': confusion_matrix(y_testd, dados_modelo[1]),           \n",
    "                      'roc_auc_validacao_final':roc_final,\n",
    "                      'confusao_validacao_final': cv_final,\n",
    "                                    \n",
    "                                    },\n",
    "                    ignore_index=True)"
   ]
  },
  {
   "cell_type": "code",
   "execution_count": 160,
   "id": "6460e02e",
   "metadata": {
    "ExecuteTime": {
     "end_time": "2022-03-14T00:26:53.521248Z",
     "start_time": "2022-03-14T00:26:53.473239Z"
    }
   },
   "outputs": [],
   "source": [
    "with open(nome+'.pkl','wb') as file:\n",
    "    pickle.dump(mdl, file)"
   ]
  },
  {
   "cell_type": "code",
   "execution_count": null,
   "id": "328ce861",
   "metadata": {},
   "outputs": [],
   "source": []
  },
  {
   "cell_type": "code",
   "execution_count": null,
   "id": "bd1cb0fa",
   "metadata": {},
   "outputs": [],
   "source": []
  },
  {
   "cell_type": "markdown",
   "id": "7ae049fc",
   "metadata": {},
   "source": [
    "# Modelagem 10"
   ]
  },
  {
   "cell_type": "markdown",
   "id": "b7158ba2",
   "metadata": {},
   "source": [
    "* Colunas: todas\n",
    "* DataCleaning: Preenchimento de valor ZERO para valores ausentes\n",
    "* Categorização: LabelEnconder\n",
    "* Balanceamento: SMOTE Balanceamento"
   ]
  },
  {
   "cell_type": "markdown",
   "id": "8a395f31",
   "metadata": {},
   "source": [
    "## Tratamento de dados"
   ]
  },
  {
   "cell_type": "code",
   "execution_count": 161,
   "id": "a1cde774",
   "metadata": {
    "ExecuteTime": {
     "end_time": "2022-03-14T00:26:53.537248Z",
     "start_time": "2022-03-14T00:26:53.521248Z"
    }
   },
   "outputs": [
    {
     "data": {
      "text/plain": [
       "0    126519\n",
       "1     11245\n",
       "Name: TARGET, dtype: int64"
      ]
     },
     "execution_count": 161,
     "metadata": {},
     "output_type": "execute_result"
    }
   ],
   "source": [
    "y_traind.value_counts()"
   ]
  },
  {
   "cell_type": "code",
   "execution_count": null,
   "id": "5ac8ed9c",
   "metadata": {},
   "outputs": [],
   "source": []
  },
  {
   "cell_type": "code",
   "execution_count": 162,
   "id": "341ecea0",
   "metadata": {
    "ExecuteTime": {
     "end_time": "2022-03-14T00:26:56.900057Z",
     "start_time": "2022-03-14T00:26:53.537248Z"
    }
   },
   "outputs": [],
   "source": [
    "X_smote, y_smote = SMOTE().fit_resample(X_traind[cols_chi2d], y_traind)"
   ]
  },
  {
   "cell_type": "code",
   "execution_count": 163,
   "id": "b6aad861",
   "metadata": {
    "ExecuteTime": {
     "end_time": "2022-03-14T00:26:56.957138Z",
     "start_time": "2022-03-14T00:26:56.939115Z"
    }
   },
   "outputs": [
    {
     "data": {
      "text/plain": [
       "((137764, 142), (137764,), (253038, 20), (253038,))"
      ]
     },
     "execution_count": 163,
     "metadata": {},
     "output_type": "execute_result"
    }
   ],
   "source": [
    "X_traind.shape, y_traind.shape, X_smote.shape, y_smote.shape"
   ]
  },
  {
   "cell_type": "code",
   "execution_count": 164,
   "id": "97b14883",
   "metadata": {
    "ExecuteTime": {
     "end_time": "2022-03-14T00:26:56.973147Z",
     "start_time": "2022-03-14T00:26:56.957138Z"
    }
   },
   "outputs": [
    {
     "data": {
      "text/plain": [
       "0    126519\n",
       "1    126519\n",
       "Name: TARGET, dtype: int64"
      ]
     },
     "execution_count": 164,
     "metadata": {},
     "output_type": "execute_result"
    }
   ],
   "source": [
    "y_smote.value_counts()"
   ]
  },
  {
   "cell_type": "code",
   "execution_count": null,
   "id": "3deab1ab",
   "metadata": {},
   "outputs": [],
   "source": []
  },
  {
   "cell_type": "markdown",
   "id": "3dcc7490",
   "metadata": {},
   "source": [
    "## Algoritmos"
   ]
  },
  {
   "cell_type": "markdown",
   "id": "8ba875a5",
   "metadata": {},
   "source": [
    "### LGBM"
   ]
  },
  {
   "cell_type": "code",
   "execution_count": 165,
   "id": "91a9482a",
   "metadata": {
    "ExecuteTime": {
     "end_time": "2022-03-14T00:27:06.154294Z",
     "start_time": "2022-03-14T00:26:56.973147Z"
    }
   },
   "outputs": [
    {
     "name": "stdout",
     "output_type": "stream",
     "text": [
      "fit_time : [1.16969347 1.09010458 0.97480297 1.06696391 1.04141831]\n",
      "score_time : [0.1035285  0.08022451 0.08788633 0.08000708 0.07538056]\n",
      "test_score : [0.83749819 0.97997166 0.98079113 0.98111194 0.98008068]\n",
      "train_score : [0.9841415  0.95408556 0.95372155 0.95349276 0.95367554]\n",
      "\n",
      "\n",
      "ROC_AUC:\n",
      "0.6915457625683485\n",
      "\n",
      "Matriz de Confusão:\n",
      "[[50294  3937]\n",
      " [ 3816   995]]\n",
      "\n",
      "\n",
      "Wall time: 9.17 s\n"
     ]
    }
   ],
   "source": [
    "%%time\n",
    "\n",
    "mdl = LGBMClassifier()\n",
    "\n",
    "dados_modelo = executaAlgoritmo(mdl, X_smote, y_smote, X_testd[cols_chi2d], y_testd)\n"
   ]
  },
  {
   "cell_type": "code",
   "execution_count": 166,
   "id": "5927cae2",
   "metadata": {
    "ExecuteTime": {
     "end_time": "2022-03-14T00:27:06.370582Z",
     "start_time": "2022-03-14T00:27:06.154294Z"
    }
   },
   "outputs": [
    {
     "name": "stdout",
     "output_type": "stream",
     "text": [
      "ROC_AUC:\n",
      "0.696598551194797\n",
      "\n",
      "Matriz de Confusão:\n",
      "[[42118  3170]\n",
      " [ 3119   795]]\n"
     ]
    }
   ],
   "source": [
    "roc_final, cv_final = avalicaoModelo(mdl, X_finald[cols_chi2d], y_finald)\n"
   ]
  },
  {
   "cell_type": "markdown",
   "id": "6c9419b7",
   "metadata": {},
   "source": [
    "#### Inserção tabela de controle"
   ]
  },
  {
   "cell_type": "code",
   "execution_count": 167,
   "id": "37858f8d",
   "metadata": {
    "ExecuteTime": {
     "end_time": "2022-03-14T00:27:06.417370Z",
     "start_time": "2022-03-14T00:27:06.370582Z"
    }
   },
   "outputs": [],
   "source": [
    "nome = 'LGBM_Mod10'\n",
    "\n",
    "\n",
    "\n",
    "lista_modelos= lista_modelos.append({'id_modelo':'.13.2.1',\n",
    "                      'nome_modelo':nome,\n",
    "                      'data_treino':'09/03/2022',\n",
    "                      'metodo':'LGBM',\n",
    "                      'roc_auc':roc_auc_score(y_testd, dados_modelo[2][:,1]),\n",
    "                      'tempo_de_treino':dados_modelo[3]['fit_time'].mean(),\n",
    "                      'hyperparametros':dados_modelo[0].get_params(),\n",
    "                      'path_to_pickle': ''+nome+'.pkl',\n",
    "                      'colunas_selection':'todas',\n",
    "                      'metodo_balanceamento':'SMOTE',\n",
    "                      'data_cleaning':'preenchimentoZero',\n",
    "                      'categorizacao':'GetDummys',\n",
    "                      'confusao': confusion_matrix(y_testd, dados_modelo[1]),                                    \n",
    "                      'roc_auc_validacao_final':roc_final,\n",
    "                      'confusao_validacao_final': cv_final,\n",
    "                                     \n",
    "                                    },\n",
    "                    ignore_index=True)"
   ]
  },
  {
   "cell_type": "code",
   "execution_count": 168,
   "id": "1a3a7ad0",
   "metadata": {
    "ExecuteTime": {
     "end_time": "2022-03-14T00:27:06.433377Z",
     "start_time": "2022-03-14T00:27:06.417370Z"
    }
   },
   "outputs": [],
   "source": [
    "with open(nome+'.pkl','wb') as file:\n",
    "    pickle.dump(mdl, file)"
   ]
  },
  {
   "cell_type": "markdown",
   "id": "8a77496d",
   "metadata": {},
   "source": [
    "### XGB"
   ]
  },
  {
   "cell_type": "code",
   "execution_count": 169,
   "id": "f37c234e",
   "metadata": {
    "ExecuteTime": {
     "end_time": "2022-03-14T00:28:04.912320Z",
     "start_time": "2022-03-14T00:27:06.433377Z"
    }
   },
   "outputs": [
    {
     "name": "stdout",
     "output_type": "stream",
     "text": [
      "fit_time : [ 8.98695564  8.64259291  8.61503053 10.27016306  8.91791606]\n",
      "score_time : [0.05620599 0.05600357 0.04000282 0.04000473 0.04001069]\n",
      "test_score : [0.84363903 0.98797633 0.98757553 0.9887083  0.98796626]\n",
      "train_score : [0.99246164 0.96980583 0.96899998 0.96961382 0.96968665]\n",
      "\n",
      "\n",
      "ROC_AUC:\n",
      "0.688716611976142\n",
      "\n",
      "Matriz de Confusão:\n",
      "[[50713  3518]\n",
      " [ 3912   899]]\n",
      "\n",
      "\n",
      "Wall time: 58.5 s\n"
     ]
    }
   ],
   "source": [
    "%%time\n",
    "\n",
    "mdl = XGBClassifier(use_label_encoder=False, eval_metric='logloss')\n",
    "\n",
    "dados_modelo = executaAlgoritmo(mdl, X_smote, y_smote, X_testd[cols_chi2d], y_testd)\n"
   ]
  },
  {
   "cell_type": "code",
   "execution_count": 170,
   "id": "b70c058f",
   "metadata": {
    "ExecuteTime": {
     "end_time": "2022-03-14T00:28:05.040627Z",
     "start_time": "2022-03-14T00:28:04.912320Z"
    }
   },
   "outputs": [
    {
     "name": "stdout",
     "output_type": "stream",
     "text": [
      "ROC_AUC:\n",
      "0.6959787739436212\n",
      "\n",
      "Matriz de Confusão:\n",
      "[[42520  2768]\n",
      " [ 3156   758]]\n"
     ]
    }
   ],
   "source": [
    "roc_final, cv_final = avalicaoModelo(mdl, X_finald[cols_chi2d], y_finald)\n"
   ]
  },
  {
   "cell_type": "markdown",
   "id": "6f3ec1f4",
   "metadata": {},
   "source": [
    "#### Inserção tabela de controle"
   ]
  },
  {
   "cell_type": "code",
   "execution_count": 171,
   "id": "2f3654eb",
   "metadata": {
    "ExecuteTime": {
     "end_time": "2022-03-14T00:28:05.120587Z",
     "start_time": "2022-03-14T00:28:05.040627Z"
    }
   },
   "outputs": [],
   "source": [
    "nome = 'XGB_Mod10'\n",
    "\n",
    "lista_modelos= lista_modelos.append({'id_modelo':'13.2.2',\n",
    "                      'nome_modelo':nome,\n",
    "                      'data_treino':'09/03/2022',\n",
    "                      'metodo':'XGB',\n",
    "                      'roc_auc':roc_auc_score(y_testd, dados_modelo[2][:,1]),\n",
    "                      'tempo_de_treino':dados_modelo[3]['fit_time'].mean(),\n",
    "                      'hyperparametros':dados_modelo[0].get_params(),\n",
    "                      'path_to_pickle': ''+nome+'.pkl',\n",
    "                      'colunas_selection':'Top20 Chi2',\n",
    "                      'metodo_balanceamento':'SMOTE',\n",
    "                      'data_cleaning':'preenchimentoZero',\n",
    "                      'categorizacao':'GetDummys',\n",
    "                      'confusao': confusion_matrix(y_testd, dados_modelo[1]),      \n",
    "                      'roc_auc_validacao_final':roc_final,\n",
    "                      'confusao_validacao_final': cv_final,\n",
    "                                    \n",
    "                                    },\n",
    "                    ignore_index=True)"
   ]
  },
  {
   "cell_type": "code",
   "execution_count": 172,
   "id": "0a905c8a",
   "metadata": {
    "ExecuteTime": {
     "end_time": "2022-03-14T00:28:05.160590Z",
     "start_time": "2022-03-14T00:28:05.120587Z"
    }
   },
   "outputs": [],
   "source": [
    "with open(nome+'.pkl','wb') as file:\n",
    "    pickle.dump(mdl, file)"
   ]
  },
  {
   "cell_type": "code",
   "execution_count": null,
   "id": "a4731580",
   "metadata": {},
   "outputs": [],
   "source": []
  },
  {
   "cell_type": "markdown",
   "id": "b45ad94a",
   "metadata": {},
   "source": [
    "# Lista de Modelos"
   ]
  },
  {
   "cell_type": "code",
   "execution_count": 173,
   "id": "0f6dd607",
   "metadata": {
    "ExecuteTime": {
     "end_time": "2022-03-14T00:28:05.240616Z",
     "start_time": "2022-03-14T00:28:05.160590Z"
    }
   },
   "outputs": [
    {
     "data": {
      "text/html": [
       "<div>\n",
       "<style scoped>\n",
       "    .dataframe tbody tr th:only-of-type {\n",
       "        vertical-align: middle;\n",
       "    }\n",
       "\n",
       "    .dataframe tbody tr th {\n",
       "        vertical-align: top;\n",
       "    }\n",
       "\n",
       "    .dataframe thead th {\n",
       "        text-align: right;\n",
       "    }\n",
       "</style>\n",
       "<table border=\"1\" class=\"dataframe\">\n",
       "  <thead>\n",
       "    <tr style=\"text-align: right;\">\n",
       "      <th></th>\n",
       "      <th>id_modelo</th>\n",
       "      <th>nome_modelo</th>\n",
       "      <th>data_treino</th>\n",
       "      <th>metodo</th>\n",
       "      <th>roc_auc</th>\n",
       "      <th>tempo_de_treino</th>\n",
       "      <th>hyperparametros</th>\n",
       "      <th>path_to_pickle</th>\n",
       "      <th>colunas_selection</th>\n",
       "      <th>metodo_balanceamento</th>\n",
       "      <th>data_cleaning</th>\n",
       "      <th>categorizacao</th>\n",
       "      <th>confusao</th>\n",
       "      <th>roc_auc_validacao_final</th>\n",
       "      <th>confusao_validacao_final</th>\n",
       "    </tr>\n",
       "  </thead>\n",
       "  <tbody>\n",
       "    <tr>\n",
       "      <th>0</th>\n",
       "      <td>3.2.1</td>\n",
       "      <td>RandomForest_Mod1</td>\n",
       "      <td>09/03/2022</td>\n",
       "      <td>RandomForest</td>\n",
       "      <td>0.718613</td>\n",
       "      <td>11.532388</td>\n",
       "      <td>{'bootstrap': True, 'ccp_alpha': 0.0, 'class_w...</td>\n",
       "      <td>RandomForest_Mod1.pkl</td>\n",
       "      <td>todas</td>\n",
       "      <td>sem</td>\n",
       "      <td>preenchimentoZero</td>\n",
       "      <td>labelEnconder</td>\n",
       "      <td>[[54231, 0], [4811, 0]]</td>\n",
       "      <td>0.715088</td>\n",
       "      <td>[[45288, 0], [3914, 0]]</td>\n",
       "    </tr>\n",
       "    <tr>\n",
       "      <th>1</th>\n",
       "      <td>3.2.2</td>\n",
       "      <td>LGBM_Mod1</td>\n",
       "      <td>09/03/2022</td>\n",
       "      <td>LGBM</td>\n",
       "      <td>0.746859</td>\n",
       "      <td>1.531659</td>\n",
       "      <td>{'boosting_type': 'gbdt', 'class_weight': None...</td>\n",
       "      <td>LGBM_Mod1.pkl</td>\n",
       "      <td>todas</td>\n",
       "      <td>sem</td>\n",
       "      <td>preenchimentoZero</td>\n",
       "      <td>labelEnconder</td>\n",
       "      <td>[[54147, 84], [4725, 86]]</td>\n",
       "      <td>0.749457</td>\n",
       "      <td>[[45232, 56], [3843, 71]]</td>\n",
       "    </tr>\n",
       "    <tr>\n",
       "      <th>2</th>\n",
       "      <td>3.2.3</td>\n",
       "      <td>XGB_Mod1</td>\n",
       "      <td>09/03/2022</td>\n",
       "      <td>XGB</td>\n",
       "      <td>0.736641</td>\n",
       "      <td>8.895078</td>\n",
       "      <td>{'objective': 'binary:logistic', 'use_label_en...</td>\n",
       "      <td>XGB_Mod1.pkl</td>\n",
       "      <td>todas</td>\n",
       "      <td>sem</td>\n",
       "      <td>preenchimentoZero</td>\n",
       "      <td>labelEnconder</td>\n",
       "      <td>[[54045, 186], [4640, 171]]</td>\n",
       "      <td>0.738066</td>\n",
       "      <td>[[45142, 146], [3785, 129]]</td>\n",
       "    </tr>\n",
       "    <tr>\n",
       "      <th>3</th>\n",
       "      <td>4.2.1</td>\n",
       "      <td>RandomForest_Mod2</td>\n",
       "      <td>09/03/2022</td>\n",
       "      <td>RandomForest</td>\n",
       "      <td>0.543031</td>\n",
       "      <td>1.825573</td>\n",
       "      <td>{'bootstrap': True, 'ccp_alpha': 0.0, 'class_w...</td>\n",
       "      <td>RandomForest_Mod2.pkl</td>\n",
       "      <td>todas</td>\n",
       "      <td>NearMiss</td>\n",
       "      <td>preenchimentoZero</td>\n",
       "      <td>labelEnconder</td>\n",
       "      <td>[[19516, 34715], [1263, 3548]]</td>\n",
       "      <td>0.537324</td>\n",
       "      <td>[[16232, 29056], [1066, 2848]]</td>\n",
       "    </tr>\n",
       "    <tr>\n",
       "      <th>4</th>\n",
       "      <td>4.2.2</td>\n",
       "      <td>LGBM_Mod2</td>\n",
       "      <td>09/03/2022</td>\n",
       "      <td>LGBM</td>\n",
       "      <td>0.547360</td>\n",
       "      <td>0.638081</td>\n",
       "      <td>{'boosting_type': 'gbdt', 'class_weight': None...</td>\n",
       "      <td>LGBM_Mod2.pkl</td>\n",
       "      <td>todas</td>\n",
       "      <td>NearMiss</td>\n",
       "      <td>preenchimentoZero</td>\n",
       "      <td>labelEnconder</td>\n",
       "      <td>[[14611, 39620], [977, 3834]]</td>\n",
       "      <td>0.542399</td>\n",
       "      <td>[[12206, 33082], [834, 3080]]</td>\n",
       "    </tr>\n",
       "    <tr>\n",
       "      <th>5</th>\n",
       "      <td>4.2.3</td>\n",
       "      <td>XGB_Mod2</td>\n",
       "      <td>09/03/2022</td>\n",
       "      <td>XGB</td>\n",
       "      <td>0.542620</td>\n",
       "      <td>1.752185</td>\n",
       "      <td>{'objective': 'binary:logistic', 'use_label_en...</td>\n",
       "      <td>XGB_Mod2.pkl</td>\n",
       "      <td>todas</td>\n",
       "      <td>NearMiss</td>\n",
       "      <td>preenchimentoZero</td>\n",
       "      <td>labelEnconder</td>\n",
       "      <td>[[14130, 40101], [947, 3864]]</td>\n",
       "      <td>0.536201</td>\n",
       "      <td>[[11733, 33555], [809, 3105]]</td>\n",
       "    </tr>\n",
       "    <tr>\n",
       "      <th>6</th>\n",
       "      <td>5.2.1</td>\n",
       "      <td>RandomForest_Mod3</td>\n",
       "      <td>09/03/2022</td>\n",
       "      <td>RandomForest</td>\n",
       "      <td>0.656278</td>\n",
       "      <td>32.424950</td>\n",
       "      <td>{'bootstrap': True, 'ccp_alpha': 0.0, 'class_w...</td>\n",
       "      <td>RandomForest_Mod3.pkl</td>\n",
       "      <td>todas</td>\n",
       "      <td>SMOTE</td>\n",
       "      <td>preenchimentoZero</td>\n",
       "      <td>labelEnconder</td>\n",
       "      <td>[[50112, 4119], [3964, 847]]</td>\n",
       "      <td>0.651095</td>\n",
       "      <td>[[41763, 3525], [3277, 637]]</td>\n",
       "    </tr>\n",
       "    <tr>\n",
       "      <th>7</th>\n",
       "      <td>5.2.2</td>\n",
       "      <td>LGBM_Mod3</td>\n",
       "      <td>09/03/2022</td>\n",
       "      <td>LGBM</td>\n",
       "      <td>0.739521</td>\n",
       "      <td>3.716337</td>\n",
       "      <td>{'boosting_type': 'gbdt', 'class_weight': None...</td>\n",
       "      <td>LGBM_Mod3.pkl</td>\n",
       "      <td>todas</td>\n",
       "      <td>SMOTE</td>\n",
       "      <td>preenchimentoZero</td>\n",
       "      <td>labelEnconder</td>\n",
       "      <td>[[54046, 185], [4667, 144]]</td>\n",
       "      <td>0.741226</td>\n",
       "      <td>[[45134, 154], [3809, 105]]</td>\n",
       "    </tr>\n",
       "    <tr>\n",
       "      <th>8</th>\n",
       "      <td>5.2.3</td>\n",
       "      <td>XGB_Mod3</td>\n",
       "      <td>09/03/2022</td>\n",
       "      <td>XGB</td>\n",
       "      <td>0.542620</td>\n",
       "      <td>1.842411</td>\n",
       "      <td>{'objective': 'binary:logistic', 'use_label_en...</td>\n",
       "      <td>XGB_Mod3.pkl</td>\n",
       "      <td>todas</td>\n",
       "      <td>SMOTE</td>\n",
       "      <td>preenchimentoZero</td>\n",
       "      <td>labelEnconder</td>\n",
       "      <td>[[14130, 40101], [947, 3864]]</td>\n",
       "      <td>0.536201</td>\n",
       "      <td>[[11733, 33555], [809, 3105]]</td>\n",
       "    </tr>\n",
       "    <tr>\n",
       "      <th>9</th>\n",
       "      <td>6.2.1</td>\n",
       "      <td>RandomForest_Mod4</td>\n",
       "      <td>09/03/2022</td>\n",
       "      <td>RandomForest</td>\n",
       "      <td>0.725090</td>\n",
       "      <td>9.028849</td>\n",
       "      <td>{'bootstrap': True, 'ccp_alpha': 0.0, 'class_w...</td>\n",
       "      <td>RandomForest_Mod4.pkl</td>\n",
       "      <td>Top20 Chi2</td>\n",
       "      <td>sem</td>\n",
       "      <td>preenchimentoZero</td>\n",
       "      <td>labelEnconder</td>\n",
       "      <td>[[54231, 0], [4811, 0]]</td>\n",
       "      <td>0.723311</td>\n",
       "      <td>[[45288, 0], [3914, 0]]</td>\n",
       "    </tr>\n",
       "    <tr>\n",
       "      <th>10</th>\n",
       "      <td>6.2.2</td>\n",
       "      <td>LGBM_Mod4</td>\n",
       "      <td>09/03/2022</td>\n",
       "      <td>LGBM</td>\n",
       "      <td>0.742882</td>\n",
       "      <td>0.583345</td>\n",
       "      <td>{'boosting_type': 'gbdt', 'class_weight': None...</td>\n",
       "      <td>LGBM_Mod4.pkl</td>\n",
       "      <td>Top20 Chi2</td>\n",
       "      <td>sem</td>\n",
       "      <td>preenchimentoZero</td>\n",
       "      <td>labelEnconder</td>\n",
       "      <td>[[54167, 64], [4745, 66]]</td>\n",
       "      <td>0.746610</td>\n",
       "      <td>[[45239, 49], [3857, 57]]</td>\n",
       "    </tr>\n",
       "    <tr>\n",
       "      <th>11</th>\n",
       "      <td>6.2.3</td>\n",
       "      <td>XGB_Mod4</td>\n",
       "      <td>09/03/2022</td>\n",
       "      <td>XGB</td>\n",
       "      <td>0.734539</td>\n",
       "      <td>6.291500</td>\n",
       "      <td>{'objective': 'binary:logistic', 'use_label_en...</td>\n",
       "      <td>XGB_Mod4.pkl</td>\n",
       "      <td>Top20 Chi2</td>\n",
       "      <td>sem</td>\n",
       "      <td>preenchimentoZero</td>\n",
       "      <td>labelEnconder</td>\n",
       "      <td>[[54048, 183], [4673, 138]]</td>\n",
       "      <td>0.734795</td>\n",
       "      <td>[[45139, 149], [3796, 118]]</td>\n",
       "    </tr>\n",
       "    <tr>\n",
       "      <th>12</th>\n",
       "      <td>7.2.1</td>\n",
       "      <td>RandomForest_Mod5</td>\n",
       "      <td>09/03/2022</td>\n",
       "      <td>RandomForest</td>\n",
       "      <td>0.516040</td>\n",
       "      <td>1.629171</td>\n",
       "      <td>{'bootstrap': True, 'ccp_alpha': 0.0, 'class_w...</td>\n",
       "      <td>RandomForest_Mod5.pkl</td>\n",
       "      <td>Top20 Chi2</td>\n",
       "      <td>NearMiss</td>\n",
       "      <td>preenchimentoZero</td>\n",
       "      <td>labelEnconder</td>\n",
       "      <td>[[12177, 42054], [934, 3877]]</td>\n",
       "      <td>0.509504</td>\n",
       "      <td>[[10386, 34902], [793, 3121]]</td>\n",
       "    </tr>\n",
       "    <tr>\n",
       "      <th>13</th>\n",
       "      <td>7.2.2</td>\n",
       "      <td>LGBM_Mod5</td>\n",
       "      <td>09/03/2022</td>\n",
       "      <td>LGBM</td>\n",
       "      <td>0.517981</td>\n",
       "      <td>0.290924</td>\n",
       "      <td>{'boosting_type': 'gbdt', 'class_weight': None...</td>\n",
       "      <td>LGBM_Mod5.pkl</td>\n",
       "      <td>Top20 Chi2</td>\n",
       "      <td>NearMiss</td>\n",
       "      <td>preenchimentoZero</td>\n",
       "      <td>labelEnconder</td>\n",
       "      <td>[[10613, 43618], [876, 3935]]</td>\n",
       "      <td>0.509659</td>\n",
       "      <td>[[8892, 36396], [741, 3173]]</td>\n",
       "    </tr>\n",
       "    <tr>\n",
       "      <th>14</th>\n",
       "      <td>7.2.3</td>\n",
       "      <td>XGB_Mod5</td>\n",
       "      <td>09/03/2022</td>\n",
       "      <td>XGB</td>\n",
       "      <td>0.512316</td>\n",
       "      <td>1.164261</td>\n",
       "      <td>{'objective': 'binary:logistic', 'use_label_en...</td>\n",
       "      <td>XGB_Mod5.pkl</td>\n",
       "      <td>Top20 Chi2</td>\n",
       "      <td>NearMiss</td>\n",
       "      <td>preenchimentoZero</td>\n",
       "      <td>labelEnconder</td>\n",
       "      <td>[[10455, 43776], [862, 3949]]</td>\n",
       "      <td>0.504438</td>\n",
       "      <td>[[8829, 36459], [747, 3167]]</td>\n",
       "    </tr>\n",
       "    <tr>\n",
       "      <th>15</th>\n",
       "      <td>8.2.1</td>\n",
       "      <td>RandomForest_Mod6</td>\n",
       "      <td>09/03/2022</td>\n",
       "      <td>RandomForest</td>\n",
       "      <td>0.678634</td>\n",
       "      <td>21.142140</td>\n",
       "      <td>{'bootstrap': True, 'ccp_alpha': 0.0, 'class_w...</td>\n",
       "      <td>RandomForest_Mod6.pkl</td>\n",
       "      <td>Top20 Chi2</td>\n",
       "      <td>SMOTE</td>\n",
       "      <td>preenchimentoZero</td>\n",
       "      <td>labelEnconder</td>\n",
       "      <td>[[41592, 12639], [2509, 2302]]</td>\n",
       "      <td>0.670530</td>\n",
       "      <td>[[34785, 10503], [2136, 1778]]</td>\n",
       "    </tr>\n",
       "    <tr>\n",
       "      <th>16</th>\n",
       "      <td>8.2.2</td>\n",
       "      <td>LGBM_Mod6</td>\n",
       "      <td>09/03/2022</td>\n",
       "      <td>LGBM</td>\n",
       "      <td>0.703076</td>\n",
       "      <td>1.146018</td>\n",
       "      <td>{'boosting_type': 'gbdt', 'class_weight': None...</td>\n",
       "      <td>LGBM_Mod6.pkl</td>\n",
       "      <td>Top20 Chi2</td>\n",
       "      <td>SMOTE</td>\n",
       "      <td>preenchimentoZero</td>\n",
       "      <td>labelEnconder</td>\n",
       "      <td>[[51441, 2790], [4011, 800]]</td>\n",
       "      <td>0.704735</td>\n",
       "      <td>[[43019, 2269], [3255, 659]]</td>\n",
       "    </tr>\n",
       "    <tr>\n",
       "      <th>17</th>\n",
       "      <td>8.2.3</td>\n",
       "      <td>XGB_Mod6</td>\n",
       "      <td>09/03/2022</td>\n",
       "      <td>XGB</td>\n",
       "      <td>0.698078</td>\n",
       "      <td>10.791785</td>\n",
       "      <td>{'objective': 'binary:logistic', 'use_label_en...</td>\n",
       "      <td>XGB_Mod6.pkl</td>\n",
       "      <td>Top20 Chi2</td>\n",
       "      <td>SMOTE</td>\n",
       "      <td>preenchimentoZero</td>\n",
       "      <td>labelEnconder</td>\n",
       "      <td>[[51609, 2622], [4023, 788]]</td>\n",
       "      <td>0.704441</td>\n",
       "      <td>[[43175, 2113], [3254, 660]]</td>\n",
       "    </tr>\n",
       "    <tr>\n",
       "      <th>18</th>\n",
       "      <td>.10.2.1</td>\n",
       "      <td>LGBM_Mod7</td>\n",
       "      <td>09/03/2022</td>\n",
       "      <td>LGBM</td>\n",
       "      <td>0.746590</td>\n",
       "      <td>1.564120</td>\n",
       "      <td>{'boosting_type': 'gbdt', 'class_weight': None...</td>\n",
       "      <td>LGBM_Mod7.pkl</td>\n",
       "      <td>todas</td>\n",
       "      <td>sem</td>\n",
       "      <td>preenchimentoZero</td>\n",
       "      <td>GetDummys</td>\n",
       "      <td>[[54173, 58], [4743, 68]]</td>\n",
       "      <td>0.748451</td>\n",
       "      <td>[[45247, 41], [3861, 53]]</td>\n",
       "    </tr>\n",
       "    <tr>\n",
       "      <th>19</th>\n",
       "      <td>.11.2.1</td>\n",
       "      <td>LGBM_Mod8</td>\n",
       "      <td>09/03/2022</td>\n",
       "      <td>LGBM</td>\n",
       "      <td>0.746830</td>\n",
       "      <td>3.347453</td>\n",
       "      <td>{'boosting_type': 'gbdt', 'class_weight': None...</td>\n",
       "      <td>LGBM_Mod8.pkl</td>\n",
       "      <td>todas</td>\n",
       "      <td>SMOTE</td>\n",
       "      <td>preenchimentoZero</td>\n",
       "      <td>GetDummys</td>\n",
       "      <td>[[54104, 127], [4706, 105]]</td>\n",
       "      <td>0.747912</td>\n",
       "      <td>[[45202, 86], [3836, 78]]</td>\n",
       "    </tr>\n",
       "    <tr>\n",
       "      <th>20</th>\n",
       "      <td>.12.2.1</td>\n",
       "      <td>LGBM_Mod9</td>\n",
       "      <td>09/03/2022</td>\n",
       "      <td>LGBM</td>\n",
       "      <td>0.742997</td>\n",
       "      <td>0.589905</td>\n",
       "      <td>{'boosting_type': 'gbdt', 'class_weight': None...</td>\n",
       "      <td>LGBM_Mod9.pkl</td>\n",
       "      <td>todas</td>\n",
       "      <td>sem</td>\n",
       "      <td>preenchimentoZero</td>\n",
       "      <td>GetDummys</td>\n",
       "      <td>[[54164, 67], [4745, 66]]</td>\n",
       "      <td>0.746745</td>\n",
       "      <td>[[45250, 38], [3862, 52]]</td>\n",
       "    </tr>\n",
       "    <tr>\n",
       "      <th>21</th>\n",
       "      <td>12.2.2</td>\n",
       "      <td>XGB_Mod9</td>\n",
       "      <td>09/03/2022</td>\n",
       "      <td>XGB</td>\n",
       "      <td>0.734162</td>\n",
       "      <td>4.343683</td>\n",
       "      <td>{'objective': 'binary:logistic', 'use_label_en...</td>\n",
       "      <td>XGB_Mod9.pkl</td>\n",
       "      <td>Top20 Chi2</td>\n",
       "      <td>sem</td>\n",
       "      <td>preenchimentoZero</td>\n",
       "      <td>GetDummys</td>\n",
       "      <td>[[54045, 186], [4657, 154]]</td>\n",
       "      <td>0.739077</td>\n",
       "      <td>[[45155, 133], [3796, 118]]</td>\n",
       "    </tr>\n",
       "    <tr>\n",
       "      <th>22</th>\n",
       "      <td>.13.2.1</td>\n",
       "      <td>LGBM_Mod10</td>\n",
       "      <td>09/03/2022</td>\n",
       "      <td>LGBM</td>\n",
       "      <td>0.691546</td>\n",
       "      <td>1.068597</td>\n",
       "      <td>{'boosting_type': 'gbdt', 'class_weight': None...</td>\n",
       "      <td>LGBM_Mod10.pkl</td>\n",
       "      <td>todas</td>\n",
       "      <td>SMOTE</td>\n",
       "      <td>preenchimentoZero</td>\n",
       "      <td>GetDummys</td>\n",
       "      <td>[[50294, 3937], [3816, 995]]</td>\n",
       "      <td>0.696599</td>\n",
       "      <td>[[42118, 3170], [3119, 795]]</td>\n",
       "    </tr>\n",
       "    <tr>\n",
       "      <th>23</th>\n",
       "      <td>13.2.2</td>\n",
       "      <td>XGB_Mod10</td>\n",
       "      <td>09/03/2022</td>\n",
       "      <td>XGB</td>\n",
       "      <td>0.688717</td>\n",
       "      <td>9.086532</td>\n",
       "      <td>{'objective': 'binary:logistic', 'use_label_en...</td>\n",
       "      <td>XGB_Mod10.pkl</td>\n",
       "      <td>Top20 Chi2</td>\n",
       "      <td>SMOTE</td>\n",
       "      <td>preenchimentoZero</td>\n",
       "      <td>GetDummys</td>\n",
       "      <td>[[50713, 3518], [3912, 899]]</td>\n",
       "      <td>0.695979</td>\n",
       "      <td>[[42520, 2768], [3156, 758]]</td>\n",
       "    </tr>\n",
       "  </tbody>\n",
       "</table>\n",
       "</div>"
      ],
      "text/plain": [
       "   id_modelo        nome_modelo data_treino        metodo   roc_auc  \\\n",
       "0      3.2.1  RandomForest_Mod1  09/03/2022  RandomForest  0.718613   \n",
       "1      3.2.2          LGBM_Mod1  09/03/2022          LGBM  0.746859   \n",
       "2      3.2.3           XGB_Mod1  09/03/2022           XGB  0.736641   \n",
       "3      4.2.1  RandomForest_Mod2  09/03/2022  RandomForest  0.543031   \n",
       "4      4.2.2          LGBM_Mod2  09/03/2022          LGBM  0.547360   \n",
       "5      4.2.3           XGB_Mod2  09/03/2022           XGB  0.542620   \n",
       "6      5.2.1  RandomForest_Mod3  09/03/2022  RandomForest  0.656278   \n",
       "7      5.2.2          LGBM_Mod3  09/03/2022          LGBM  0.739521   \n",
       "8      5.2.3           XGB_Mod3  09/03/2022           XGB  0.542620   \n",
       "9      6.2.1  RandomForest_Mod4  09/03/2022  RandomForest  0.725090   \n",
       "10     6.2.2          LGBM_Mod4  09/03/2022          LGBM  0.742882   \n",
       "11     6.2.3           XGB_Mod4  09/03/2022           XGB  0.734539   \n",
       "12     7.2.1  RandomForest_Mod5  09/03/2022  RandomForest  0.516040   \n",
       "13     7.2.2          LGBM_Mod5  09/03/2022          LGBM  0.517981   \n",
       "14     7.2.3           XGB_Mod5  09/03/2022           XGB  0.512316   \n",
       "15     8.2.1  RandomForest_Mod6  09/03/2022  RandomForest  0.678634   \n",
       "16     8.2.2          LGBM_Mod6  09/03/2022          LGBM  0.703076   \n",
       "17     8.2.3           XGB_Mod6  09/03/2022           XGB  0.698078   \n",
       "18   .10.2.1          LGBM_Mod7  09/03/2022          LGBM  0.746590   \n",
       "19   .11.2.1          LGBM_Mod8  09/03/2022          LGBM  0.746830   \n",
       "20   .12.2.1          LGBM_Mod9  09/03/2022          LGBM  0.742997   \n",
       "21    12.2.2           XGB_Mod9  09/03/2022           XGB  0.734162   \n",
       "22   .13.2.1         LGBM_Mod10  09/03/2022          LGBM  0.691546   \n",
       "23    13.2.2          XGB_Mod10  09/03/2022           XGB  0.688717   \n",
       "\n",
       "    tempo_de_treino                                    hyperparametros  \\\n",
       "0         11.532388  {'bootstrap': True, 'ccp_alpha': 0.0, 'class_w...   \n",
       "1          1.531659  {'boosting_type': 'gbdt', 'class_weight': None...   \n",
       "2          8.895078  {'objective': 'binary:logistic', 'use_label_en...   \n",
       "3          1.825573  {'bootstrap': True, 'ccp_alpha': 0.0, 'class_w...   \n",
       "4          0.638081  {'boosting_type': 'gbdt', 'class_weight': None...   \n",
       "5          1.752185  {'objective': 'binary:logistic', 'use_label_en...   \n",
       "6         32.424950  {'bootstrap': True, 'ccp_alpha': 0.0, 'class_w...   \n",
       "7          3.716337  {'boosting_type': 'gbdt', 'class_weight': None...   \n",
       "8          1.842411  {'objective': 'binary:logistic', 'use_label_en...   \n",
       "9          9.028849  {'bootstrap': True, 'ccp_alpha': 0.0, 'class_w...   \n",
       "10         0.583345  {'boosting_type': 'gbdt', 'class_weight': None...   \n",
       "11         6.291500  {'objective': 'binary:logistic', 'use_label_en...   \n",
       "12         1.629171  {'bootstrap': True, 'ccp_alpha': 0.0, 'class_w...   \n",
       "13         0.290924  {'boosting_type': 'gbdt', 'class_weight': None...   \n",
       "14         1.164261  {'objective': 'binary:logistic', 'use_label_en...   \n",
       "15        21.142140  {'bootstrap': True, 'ccp_alpha': 0.0, 'class_w...   \n",
       "16         1.146018  {'boosting_type': 'gbdt', 'class_weight': None...   \n",
       "17        10.791785  {'objective': 'binary:logistic', 'use_label_en...   \n",
       "18         1.564120  {'boosting_type': 'gbdt', 'class_weight': None...   \n",
       "19         3.347453  {'boosting_type': 'gbdt', 'class_weight': None...   \n",
       "20         0.589905  {'boosting_type': 'gbdt', 'class_weight': None...   \n",
       "21         4.343683  {'objective': 'binary:logistic', 'use_label_en...   \n",
       "22         1.068597  {'boosting_type': 'gbdt', 'class_weight': None...   \n",
       "23         9.086532  {'objective': 'binary:logistic', 'use_label_en...   \n",
       "\n",
       "           path_to_pickle colunas_selection metodo_balanceamento  \\\n",
       "0   RandomForest_Mod1.pkl             todas                  sem   \n",
       "1           LGBM_Mod1.pkl             todas                  sem   \n",
       "2            XGB_Mod1.pkl             todas                  sem   \n",
       "3   RandomForest_Mod2.pkl             todas             NearMiss   \n",
       "4           LGBM_Mod2.pkl             todas             NearMiss   \n",
       "5            XGB_Mod2.pkl             todas             NearMiss   \n",
       "6   RandomForest_Mod3.pkl             todas                SMOTE   \n",
       "7           LGBM_Mod3.pkl             todas                SMOTE   \n",
       "8            XGB_Mod3.pkl             todas                SMOTE   \n",
       "9   RandomForest_Mod4.pkl        Top20 Chi2                  sem   \n",
       "10          LGBM_Mod4.pkl        Top20 Chi2                  sem   \n",
       "11           XGB_Mod4.pkl        Top20 Chi2                  sem   \n",
       "12  RandomForest_Mod5.pkl        Top20 Chi2             NearMiss   \n",
       "13          LGBM_Mod5.pkl        Top20 Chi2             NearMiss   \n",
       "14           XGB_Mod5.pkl        Top20 Chi2             NearMiss   \n",
       "15  RandomForest_Mod6.pkl        Top20 Chi2                SMOTE   \n",
       "16          LGBM_Mod6.pkl        Top20 Chi2                SMOTE   \n",
       "17           XGB_Mod6.pkl        Top20 Chi2                SMOTE   \n",
       "18          LGBM_Mod7.pkl             todas                  sem   \n",
       "19          LGBM_Mod8.pkl             todas                SMOTE   \n",
       "20          LGBM_Mod9.pkl             todas                  sem   \n",
       "21           XGB_Mod9.pkl        Top20 Chi2                  sem   \n",
       "22         LGBM_Mod10.pkl             todas                SMOTE   \n",
       "23          XGB_Mod10.pkl        Top20 Chi2                SMOTE   \n",
       "\n",
       "        data_cleaning  categorizacao                        confusao  \\\n",
       "0   preenchimentoZero  labelEnconder         [[54231, 0], [4811, 0]]   \n",
       "1   preenchimentoZero  labelEnconder       [[54147, 84], [4725, 86]]   \n",
       "2   preenchimentoZero  labelEnconder     [[54045, 186], [4640, 171]]   \n",
       "3   preenchimentoZero  labelEnconder  [[19516, 34715], [1263, 3548]]   \n",
       "4   preenchimentoZero  labelEnconder   [[14611, 39620], [977, 3834]]   \n",
       "5   preenchimentoZero  labelEnconder   [[14130, 40101], [947, 3864]]   \n",
       "6   preenchimentoZero  labelEnconder    [[50112, 4119], [3964, 847]]   \n",
       "7   preenchimentoZero  labelEnconder     [[54046, 185], [4667, 144]]   \n",
       "8   preenchimentoZero  labelEnconder   [[14130, 40101], [947, 3864]]   \n",
       "9   preenchimentoZero  labelEnconder         [[54231, 0], [4811, 0]]   \n",
       "10  preenchimentoZero  labelEnconder       [[54167, 64], [4745, 66]]   \n",
       "11  preenchimentoZero  labelEnconder     [[54048, 183], [4673, 138]]   \n",
       "12  preenchimentoZero  labelEnconder   [[12177, 42054], [934, 3877]]   \n",
       "13  preenchimentoZero  labelEnconder   [[10613, 43618], [876, 3935]]   \n",
       "14  preenchimentoZero  labelEnconder   [[10455, 43776], [862, 3949]]   \n",
       "15  preenchimentoZero  labelEnconder  [[41592, 12639], [2509, 2302]]   \n",
       "16  preenchimentoZero  labelEnconder    [[51441, 2790], [4011, 800]]   \n",
       "17  preenchimentoZero  labelEnconder    [[51609, 2622], [4023, 788]]   \n",
       "18  preenchimentoZero      GetDummys       [[54173, 58], [4743, 68]]   \n",
       "19  preenchimentoZero      GetDummys     [[54104, 127], [4706, 105]]   \n",
       "20  preenchimentoZero      GetDummys       [[54164, 67], [4745, 66]]   \n",
       "21  preenchimentoZero      GetDummys     [[54045, 186], [4657, 154]]   \n",
       "22  preenchimentoZero      GetDummys    [[50294, 3937], [3816, 995]]   \n",
       "23  preenchimentoZero      GetDummys    [[50713, 3518], [3912, 899]]   \n",
       "\n",
       "    roc_auc_validacao_final        confusao_validacao_final  \n",
       "0                  0.715088         [[45288, 0], [3914, 0]]  \n",
       "1                  0.749457       [[45232, 56], [3843, 71]]  \n",
       "2                  0.738066     [[45142, 146], [3785, 129]]  \n",
       "3                  0.537324  [[16232, 29056], [1066, 2848]]  \n",
       "4                  0.542399   [[12206, 33082], [834, 3080]]  \n",
       "5                  0.536201   [[11733, 33555], [809, 3105]]  \n",
       "6                  0.651095    [[41763, 3525], [3277, 637]]  \n",
       "7                  0.741226     [[45134, 154], [3809, 105]]  \n",
       "8                  0.536201   [[11733, 33555], [809, 3105]]  \n",
       "9                  0.723311         [[45288, 0], [3914, 0]]  \n",
       "10                 0.746610       [[45239, 49], [3857, 57]]  \n",
       "11                 0.734795     [[45139, 149], [3796, 118]]  \n",
       "12                 0.509504   [[10386, 34902], [793, 3121]]  \n",
       "13                 0.509659    [[8892, 36396], [741, 3173]]  \n",
       "14                 0.504438    [[8829, 36459], [747, 3167]]  \n",
       "15                 0.670530  [[34785, 10503], [2136, 1778]]  \n",
       "16                 0.704735    [[43019, 2269], [3255, 659]]  \n",
       "17                 0.704441    [[43175, 2113], [3254, 660]]  \n",
       "18                 0.748451       [[45247, 41], [3861, 53]]  \n",
       "19                 0.747912       [[45202, 86], [3836, 78]]  \n",
       "20                 0.746745       [[45250, 38], [3862, 52]]  \n",
       "21                 0.739077     [[45155, 133], [3796, 118]]  \n",
       "22                 0.696599    [[42118, 3170], [3119, 795]]  \n",
       "23                 0.695979    [[42520, 2768], [3156, 758]]  "
      ]
     },
     "execution_count": 173,
     "metadata": {},
     "output_type": "execute_result"
    }
   ],
   "source": [
    "lista_modelos"
   ]
  },
  {
   "cell_type": "code",
   "execution_count": 174,
   "id": "f7cd455a",
   "metadata": {
    "ExecuteTime": {
     "end_time": "2022-03-14T00:28:05.264602Z",
     "start_time": "2022-03-14T00:28:05.240616Z"
    }
   },
   "outputs": [],
   "source": [
    "\n",
    "lista_modelos.to_csv('lista_modelos_'+datetime.today().strftime('%Y-%m-%d')+'.csv',sep=';', mode='wb' )"
   ]
  },
  {
   "cell_type": "code",
   "execution_count": null,
   "id": "a99ee3c8",
   "metadata": {},
   "outputs": [],
   "source": []
  },
  {
   "cell_type": "markdown",
   "id": "db5cc7ea",
   "metadata": {},
   "source": [
    "# Classificação dos dados de teste"
   ]
  },
  {
   "cell_type": "markdown",
   "id": "3da10a50",
   "metadata": {},
   "source": [
    "Ordenando os modelo pelo ROC_AUC, percebe-se que os 9 primeiros tem métrica muito próxima. Os primeiros usaram o algortimo LGBM, e dentre os que deram resultado na faixa de 0,74, somente o **6.2.2-LGBM4** utilizou redução de colunas. \n",
    "\n",
    "Outro critério observado foi o tempo de execução, sendo que o treino desse modelo foi segundo mais rápido entre os melhores.\n",
    "\n"
   ]
  },
  {
   "attachments": {
    "image-3.png": {
     "image/png": "[encoded data removed]"
    }
   },
   "cell_type": "markdown",
   "id": "6bf7792f",
   "metadata": {},
   "source": [
    "![image-3.png](attachment:image-3.png)"
   ]
  },
  {
   "cell_type": "markdown",
   "id": "618e09bc",
   "metadata": {},
   "source": [
    "## Carga dos dados"
   ]
  },
  {
   "cell_type": "code",
   "execution_count": 175,
   "id": "e241c23d",
   "metadata": {
    "ExecuteTime": {
     "end_time": "2022-03-14T00:28:05.288604Z",
     "start_time": "2022-03-14T00:28:05.264602Z"
    }
   },
   "outputs": [],
   "source": [
    "infile = open('LGBM_Mod4.pkl','rb')\n",
    "modelo = pickle.load(infile)\n",
    "infile.close()"
   ]
  },
  {
   "cell_type": "code",
   "execution_count": 176,
   "id": "34da9e6a",
   "metadata": {
    "ExecuteTime": {
     "end_time": "2022-03-14T00:28:05.304606Z",
     "start_time": "2022-03-14T00:28:05.288604Z"
    }
   },
   "outputs": [
    {
     "data": {
      "text/plain": [
       "<lightgbm.basic.Booster at 0x16a6637c4c0>"
      ]
     },
     "execution_count": 176,
     "metadata": {},
     "output_type": "execute_result"
    }
   ],
   "source": [
    "modelo.booster_"
   ]
  },
  {
   "cell_type": "code",
   "execution_count": 177,
   "id": "bcda4978",
   "metadata": {
    "ExecuteTime": {
     "end_time": "2022-03-14T00:28:05.320608Z",
     "start_time": "2022-03-14T00:28:05.304606Z"
    }
   },
   "outputs": [
    {
     "data": {
      "text/plain": [
       "{'boosting_type': 'gbdt',\n",
       " 'class_weight': None,\n",
       " 'colsample_bytree': 1.0,\n",
       " 'importance_type': 'split',\n",
       " 'learning_rate': 0.1,\n",
       " 'max_depth': -1,\n",
       " 'min_child_samples': 20,\n",
       " 'min_child_weight': 0.001,\n",
       " 'min_split_gain': 0.0,\n",
       " 'n_estimators': 100,\n",
       " 'n_jobs': -1,\n",
       " 'num_leaves': 31,\n",
       " 'objective': None,\n",
       " 'random_state': None,\n",
       " 'reg_alpha': 0.0,\n",
       " 'reg_lambda': 0.0,\n",
       " 'silent': 'warn',\n",
       " 'subsample': 1.0,\n",
       " 'subsample_for_bin': 200000,\n",
       " 'subsample_freq': 0}"
      ]
     },
     "execution_count": 177,
     "metadata": {},
     "output_type": "execute_result"
    }
   ],
   "source": [
    "modelo.get_params()"
   ]
  },
  {
   "cell_type": "code",
   "execution_count": 178,
   "id": "8d9c25d4",
   "metadata": {
    "ExecuteTime": {
     "end_time": "2022-03-14T00:28:05.936697Z",
     "start_time": "2022-03-14T00:28:05.320608Z"
    }
   },
   "outputs": [],
   "source": [
    "df_teste = pd.read_csv('test_databricks.csv')\n",
    "df_teste = df_teste.rename(columns = lambda x:re.sub('[^A-Za-z0-9]+', '', x))"
   ]
  },
  {
   "cell_type": "markdown",
   "id": "cd1735b2",
   "metadata": {},
   "source": [
    "## Tratamento dos dados de teste"
   ]
  },
  {
   "cell_type": "code",
   "execution_count": 179,
   "id": "53a2cdee",
   "metadata": {
    "ExecuteTime": {
     "end_time": "2022-03-14T00:28:05.952699Z",
     "start_time": "2022-03-14T00:28:05.936697Z"
    }
   },
   "outputs": [
    {
     "data": {
      "text/plain": [
       "(61503, 121)"
      ]
     },
     "execution_count": 179,
     "metadata": {},
     "output_type": "execute_result"
    }
   ],
   "source": [
    "df_teste.shape"
   ]
  },
  {
   "cell_type": "code",
   "execution_count": 180,
   "id": "fc06c47b",
   "metadata": {
    "ExecuteTime": {
     "end_time": "2022-03-14T00:28:06.000929Z",
     "start_time": "2022-03-14T00:28:05.952699Z"
    }
   },
   "outputs": [
    {
     "data": {
      "text/html": [
       "<div>\n",
       "<style scoped>\n",
       "    .dataframe tbody tr th:only-of-type {\n",
       "        vertical-align: middle;\n",
       "    }\n",
       "\n",
       "    .dataframe tbody tr th {\n",
       "        vertical-align: top;\n",
       "    }\n",
       "\n",
       "    .dataframe thead th {\n",
       "        text-align: right;\n",
       "    }\n",
       "</style>\n",
       "<table border=\"1\" class=\"dataframe\">\n",
       "  <thead>\n",
       "    <tr style=\"text-align: right;\">\n",
       "      <th></th>\n",
       "      <th>SKIDCURR</th>\n",
       "      <th>CNTCHILDREN</th>\n",
       "      <th>DAYSBIRTH</th>\n",
       "      <th>DAYSEMPLOYED</th>\n",
       "      <th>DAYSREGISTRATION</th>\n",
       "      <th>DAYSIDPUBLISH</th>\n",
       "      <th>OWNCARAGE</th>\n",
       "      <th>FLAGMOBIL</th>\n",
       "      <th>FLAGEMPPHONE</th>\n",
       "      <th>FLAGWORKPHONE</th>\n",
       "      <th>...</th>\n",
       "      <th>ELEVATORSMEDI</th>\n",
       "      <th>ENTRANCESMEDI</th>\n",
       "      <th>FLOORSMAXMEDI</th>\n",
       "      <th>FLOORSMINMEDI</th>\n",
       "      <th>LANDAREAMEDI</th>\n",
       "      <th>LIVINGAPARTMENTSMEDI</th>\n",
       "      <th>LIVINGAREAMEDI</th>\n",
       "      <th>NONLIVINGAPARTMENTSMEDI</th>\n",
       "      <th>NONLIVINGAREAMEDI</th>\n",
       "      <th>TOTALAREAMODE</th>\n",
       "    </tr>\n",
       "  </thead>\n",
       "  <tbody>\n",
       "    <tr>\n",
       "      <th>0</th>\n",
       "      <td>202448</td>\n",
       "      <td>0</td>\n",
       "      <td>21105</td>\n",
       "      <td>3747</td>\n",
       "      <td>4990</td>\n",
       "      <td>4647</td>\n",
       "      <td>11.0</td>\n",
       "      <td>1</td>\n",
       "      <td>1</td>\n",
       "      <td>0</td>\n",
       "      <td>...</td>\n",
       "      <td>NaN</td>\n",
       "      <td>NaN</td>\n",
       "      <td>NaN</td>\n",
       "      <td>NaN</td>\n",
       "      <td>NaN</td>\n",
       "      <td>NaN</td>\n",
       "      <td>NaN</td>\n",
       "      <td>NaN</td>\n",
       "      <td>NaN</td>\n",
       "      <td>NaN</td>\n",
       "    </tr>\n",
       "    <tr>\n",
       "      <th>1</th>\n",
       "      <td>393664</td>\n",
       "      <td>2</td>\n",
       "      <td>12966</td>\n",
       "      <td>5418</td>\n",
       "      <td>6621</td>\n",
       "      <td>4556</td>\n",
       "      <td>NaN</td>\n",
       "      <td>1</td>\n",
       "      <td>1</td>\n",
       "      <td>0</td>\n",
       "      <td>...</td>\n",
       "      <td>NaN</td>\n",
       "      <td>0.0690</td>\n",
       "      <td>0.0417</td>\n",
       "      <td>0.0833</td>\n",
       "      <td>0.0110</td>\n",
       "      <td>NaN</td>\n",
       "      <td>0.0132</td>\n",
       "      <td>NaN</td>\n",
       "      <td>0.0000</td>\n",
       "      <td>0.0102</td>\n",
       "    </tr>\n",
       "    <tr>\n",
       "      <th>2</th>\n",
       "      <td>315374</td>\n",
       "      <td>1</td>\n",
       "      <td>11838</td>\n",
       "      <td>690</td>\n",
       "      <td>742</td>\n",
       "      <td>2405</td>\n",
       "      <td>NaN</td>\n",
       "      <td>1</td>\n",
       "      <td>1</td>\n",
       "      <td>0</td>\n",
       "      <td>...</td>\n",
       "      <td>0.0</td>\n",
       "      <td>0.1379</td>\n",
       "      <td>0.1667</td>\n",
       "      <td>0.0417</td>\n",
       "      <td>0.0385</td>\n",
       "      <td>0.0684</td>\n",
       "      <td>0.0632</td>\n",
       "      <td>0.0000</td>\n",
       "      <td>0.0000</td>\n",
       "      <td>0.0659</td>\n",
       "    </tr>\n",
       "    <tr>\n",
       "      <th>3</th>\n",
       "      <td>412331</td>\n",
       "      <td>1</td>\n",
       "      <td>18234</td>\n",
       "      <td>1421</td>\n",
       "      <td>3585</td>\n",
       "      <td>1786</td>\n",
       "      <td>6.0</td>\n",
       "      <td>1</td>\n",
       "      <td>1</td>\n",
       "      <td>0</td>\n",
       "      <td>...</td>\n",
       "      <td>NaN</td>\n",
       "      <td>NaN</td>\n",
       "      <td>NaN</td>\n",
       "      <td>NaN</td>\n",
       "      <td>NaN</td>\n",
       "      <td>NaN</td>\n",
       "      <td>NaN</td>\n",
       "      <td>NaN</td>\n",
       "      <td>NaN</td>\n",
       "      <td>NaN</td>\n",
       "    </tr>\n",
       "    <tr>\n",
       "      <th>4</th>\n",
       "      <td>218860</td>\n",
       "      <td>0</td>\n",
       "      <td>21883</td>\n",
       "      <td>-365243</td>\n",
       "      <td>12216</td>\n",
       "      <td>4552</td>\n",
       "      <td>NaN</td>\n",
       "      <td>1</td>\n",
       "      <td>0</td>\n",
       "      <td>0</td>\n",
       "      <td>...</td>\n",
       "      <td>NaN</td>\n",
       "      <td>NaN</td>\n",
       "      <td>NaN</td>\n",
       "      <td>NaN</td>\n",
       "      <td>NaN</td>\n",
       "      <td>NaN</td>\n",
       "      <td>NaN</td>\n",
       "      <td>NaN</td>\n",
       "      <td>NaN</td>\n",
       "      <td>NaN</td>\n",
       "    </tr>\n",
       "    <tr>\n",
       "      <th>...</th>\n",
       "      <td>...</td>\n",
       "      <td>...</td>\n",
       "      <td>...</td>\n",
       "      <td>...</td>\n",
       "      <td>...</td>\n",
       "      <td>...</td>\n",
       "      <td>...</td>\n",
       "      <td>...</td>\n",
       "      <td>...</td>\n",
       "      <td>...</td>\n",
       "      <td>...</td>\n",
       "      <td>...</td>\n",
       "      <td>...</td>\n",
       "      <td>...</td>\n",
       "      <td>...</td>\n",
       "      <td>...</td>\n",
       "      <td>...</td>\n",
       "      <td>...</td>\n",
       "      <td>...</td>\n",
       "      <td>...</td>\n",
       "      <td>...</td>\n",
       "    </tr>\n",
       "    <tr>\n",
       "      <th>61498</th>\n",
       "      <td>102817</td>\n",
       "      <td>0</td>\n",
       "      <td>17817</td>\n",
       "      <td>3503</td>\n",
       "      <td>2886</td>\n",
       "      <td>1371</td>\n",
       "      <td>9.0</td>\n",
       "      <td>1</td>\n",
       "      <td>1</td>\n",
       "      <td>1</td>\n",
       "      <td>...</td>\n",
       "      <td>0.0</td>\n",
       "      <td>0.3103</td>\n",
       "      <td>0.0833</td>\n",
       "      <td>0.0417</td>\n",
       "      <td>0.1220</td>\n",
       "      <td>0.0693</td>\n",
       "      <td>0.0730</td>\n",
       "      <td>0.0078</td>\n",
       "      <td>0.0068</td>\n",
       "      <td>0.0652</td>\n",
       "    </tr>\n",
       "    <tr>\n",
       "      <th>61499</th>\n",
       "      <td>343961</td>\n",
       "      <td>0</td>\n",
       "      <td>22836</td>\n",
       "      <td>-365243</td>\n",
       "      <td>395</td>\n",
       "      <td>4591</td>\n",
       "      <td>NaN</td>\n",
       "      <td>1</td>\n",
       "      <td>0</td>\n",
       "      <td>0</td>\n",
       "      <td>...</td>\n",
       "      <td>NaN</td>\n",
       "      <td>NaN</td>\n",
       "      <td>NaN</td>\n",
       "      <td>NaN</td>\n",
       "      <td>NaN</td>\n",
       "      <td>NaN</td>\n",
       "      <td>NaN</td>\n",
       "      <td>NaN</td>\n",
       "      <td>NaN</td>\n",
       "      <td>NaN</td>\n",
       "    </tr>\n",
       "    <tr>\n",
       "      <th>61500</th>\n",
       "      <td>427828</td>\n",
       "      <td>0</td>\n",
       "      <td>20014</td>\n",
       "      <td>-365243</td>\n",
       "      <td>10257</td>\n",
       "      <td>3524</td>\n",
       "      <td>18.0</td>\n",
       "      <td>1</td>\n",
       "      <td>0</td>\n",
       "      <td>0</td>\n",
       "      <td>...</td>\n",
       "      <td>NaN</td>\n",
       "      <td>NaN</td>\n",
       "      <td>NaN</td>\n",
       "      <td>NaN</td>\n",
       "      <td>NaN</td>\n",
       "      <td>NaN</td>\n",
       "      <td>NaN</td>\n",
       "      <td>NaN</td>\n",
       "      <td>NaN</td>\n",
       "      <td>NaN</td>\n",
       "    </tr>\n",
       "    <tr>\n",
       "      <th>61501</th>\n",
       "      <td>405956</td>\n",
       "      <td>0</td>\n",
       "      <td>8201</td>\n",
       "      <td>1381</td>\n",
       "      <td>1232</td>\n",
       "      <td>720</td>\n",
       "      <td>NaN</td>\n",
       "      <td>1</td>\n",
       "      <td>1</td>\n",
       "      <td>0</td>\n",
       "      <td>...</td>\n",
       "      <td>NaN</td>\n",
       "      <td>NaN</td>\n",
       "      <td>NaN</td>\n",
       "      <td>NaN</td>\n",
       "      <td>NaN</td>\n",
       "      <td>NaN</td>\n",
       "      <td>NaN</td>\n",
       "      <td>NaN</td>\n",
       "      <td>NaN</td>\n",
       "      <td>NaN</td>\n",
       "    </tr>\n",
       "    <tr>\n",
       "      <th>61502</th>\n",
       "      <td>425814</td>\n",
       "      <td>1</td>\n",
       "      <td>11009</td>\n",
       "      <td>4188</td>\n",
       "      <td>4605</td>\n",
       "      <td>3598</td>\n",
       "      <td>21.0</td>\n",
       "      <td>1</td>\n",
       "      <td>1</td>\n",
       "      <td>0</td>\n",
       "      <td>...</td>\n",
       "      <td>0.0</td>\n",
       "      <td>0.0000</td>\n",
       "      <td>0.0000</td>\n",
       "      <td>0.0417</td>\n",
       "      <td>0.0129</td>\n",
       "      <td>0.0034</td>\n",
       "      <td>0.0016</td>\n",
       "      <td>0.0000</td>\n",
       "      <td>0.0000</td>\n",
       "      <td>0.0017</td>\n",
       "    </tr>\n",
       "  </tbody>\n",
       "</table>\n",
       "<p>61503 rows × 121 columns</p>\n",
       "</div>"
      ],
      "text/plain": [
       "       SKIDCURR  CNTCHILDREN  DAYSBIRTH  DAYSEMPLOYED  DAYSREGISTRATION  \\\n",
       "0        202448            0      21105          3747              4990   \n",
       "1        393664            2      12966          5418              6621   \n",
       "2        315374            1      11838           690               742   \n",
       "3        412331            1      18234          1421              3585   \n",
       "4        218860            0      21883       -365243             12216   \n",
       "...         ...          ...        ...           ...               ...   \n",
       "61498    102817            0      17817          3503              2886   \n",
       "61499    343961            0      22836       -365243               395   \n",
       "61500    427828            0      20014       -365243             10257   \n",
       "61501    405956            0       8201          1381              1232   \n",
       "61502    425814            1      11009          4188              4605   \n",
       "\n",
       "       DAYSIDPUBLISH  OWNCARAGE  FLAGMOBIL  FLAGEMPPHONE  FLAGWORKPHONE  ...  \\\n",
       "0               4647       11.0          1             1              0  ...   \n",
       "1               4556        NaN          1             1              0  ...   \n",
       "2               2405        NaN          1             1              0  ...   \n",
       "3               1786        6.0          1             1              0  ...   \n",
       "4               4552        NaN          1             0              0  ...   \n",
       "...              ...        ...        ...           ...            ...  ...   \n",
       "61498           1371        9.0          1             1              1  ...   \n",
       "61499           4591        NaN          1             0              0  ...   \n",
       "61500           3524       18.0          1             0              0  ...   \n",
       "61501            720        NaN          1             1              0  ...   \n",
       "61502           3598       21.0          1             1              0  ...   \n",
       "\n",
       "       ELEVATORSMEDI  ENTRANCESMEDI  FLOORSMAXMEDI  FLOORSMINMEDI  \\\n",
       "0                NaN            NaN            NaN            NaN   \n",
       "1                NaN         0.0690         0.0417         0.0833   \n",
       "2                0.0         0.1379         0.1667         0.0417   \n",
       "3                NaN            NaN            NaN            NaN   \n",
       "4                NaN            NaN            NaN            NaN   \n",
       "...              ...            ...            ...            ...   \n",
       "61498            0.0         0.3103         0.0833         0.0417   \n",
       "61499            NaN            NaN            NaN            NaN   \n",
       "61500            NaN            NaN            NaN            NaN   \n",
       "61501            NaN            NaN            NaN            NaN   \n",
       "61502            0.0         0.0000         0.0000         0.0417   \n",
       "\n",
       "       LANDAREAMEDI  LIVINGAPARTMENTSMEDI  LIVINGAREAMEDI  \\\n",
       "0               NaN                   NaN             NaN   \n",
       "1            0.0110                   NaN          0.0132   \n",
       "2            0.0385                0.0684          0.0632   \n",
       "3               NaN                   NaN             NaN   \n",
       "4               NaN                   NaN             NaN   \n",
       "...             ...                   ...             ...   \n",
       "61498        0.1220                0.0693          0.0730   \n",
       "61499           NaN                   NaN             NaN   \n",
       "61500           NaN                   NaN             NaN   \n",
       "61501           NaN                   NaN             NaN   \n",
       "61502        0.0129                0.0034          0.0016   \n",
       "\n",
       "       NONLIVINGAPARTMENTSMEDI  NONLIVINGAREAMEDI  TOTALAREAMODE  \n",
       "0                          NaN                NaN            NaN  \n",
       "1                          NaN             0.0000         0.0102  \n",
       "2                       0.0000             0.0000         0.0659  \n",
       "3                          NaN                NaN            NaN  \n",
       "4                          NaN                NaN            NaN  \n",
       "...                        ...                ...            ...  \n",
       "61498                   0.0078             0.0068         0.0652  \n",
       "61499                      NaN                NaN            NaN  \n",
       "61500                      NaN                NaN            NaN  \n",
       "61501                      NaN                NaN            NaN  \n",
       "61502                   0.0000             0.0000         0.0017  \n",
       "\n",
       "[61503 rows x 121 columns]"
      ]
     },
     "execution_count": 180,
     "metadata": {},
     "output_type": "execute_result"
    }
   ],
   "source": [
    "df_teste"
   ]
  },
  {
   "cell_type": "code",
   "execution_count": 181,
   "id": "1c41f699",
   "metadata": {
    "ExecuteTime": {
     "end_time": "2022-03-14T00:28:06.032694Z",
     "start_time": "2022-03-14T00:28:06.000929Z"
    }
   },
   "outputs": [
    {
     "data": {
      "text/html": [
       "<div>\n",
       "<style scoped>\n",
       "    .dataframe tbody tr th:only-of-type {\n",
       "        vertical-align: middle;\n",
       "    }\n",
       "\n",
       "    .dataframe tbody tr th {\n",
       "        vertical-align: top;\n",
       "    }\n",
       "\n",
       "    .dataframe thead th {\n",
       "        text-align: right;\n",
       "    }\n",
       "</style>\n",
       "<table border=\"1\" class=\"dataframe\">\n",
       "  <thead>\n",
       "    <tr style=\"text-align: right;\">\n",
       "      <th></th>\n",
       "      <th>NAMEINCOMETYPE</th>\n",
       "      <th>NAMEEDUCATIONTYPE</th>\n",
       "      <th>ORGANIZATIONTYPE</th>\n",
       "      <th>HOUSETYPEMODE</th>\n",
       "      <th>EMERGENCYSTATEMODE</th>\n",
       "      <th>DAYSBIRTH</th>\n",
       "      <th>DAYSEMPLOYED</th>\n",
       "      <th>DAYSREGISTRATION</th>\n",
       "      <th>DAYSIDPUBLISH</th>\n",
       "      <th>REGCITYNOTLIVECITY</th>\n",
       "      <th>REGCITYNOTWORKCITY</th>\n",
       "      <th>DEF30CNTSOCIALCIRCLE</th>\n",
       "      <th>DAYSLASTPHONECHANGE</th>\n",
       "      <th>AMTINCOMETOTAL</th>\n",
       "      <th>AMTCREDIT</th>\n",
       "      <th>AMTANNUITY</th>\n",
       "      <th>AMTGOODSPRICE</th>\n",
       "      <th>EXTSOURCE1</th>\n",
       "      <th>EXTSOURCE2</th>\n",
       "      <th>EXTSOURCE3</th>\n",
       "    </tr>\n",
       "  </thead>\n",
       "  <tbody>\n",
       "    <tr>\n",
       "      <th>0</th>\n",
       "      <td>Working</td>\n",
       "      <td>Higher education</td>\n",
       "      <td>University</td>\n",
       "      <td>NaN</td>\n",
       "      <td>NaN</td>\n",
       "      <td>21105</td>\n",
       "      <td>3747</td>\n",
       "      <td>4990</td>\n",
       "      <td>4647</td>\n",
       "      <td>1</td>\n",
       "      <td>0</td>\n",
       "      <td>0.0</td>\n",
       "      <td>1582</td>\n",
       "      <td>450000.0</td>\n",
       "      <td>900000.0</td>\n",
       "      <td>45000.0</td>\n",
       "      <td>900000.0</td>\n",
       "      <td>NaN</td>\n",
       "      <td>0.741920</td>\n",
       "      <td>NaN</td>\n",
       "    </tr>\n",
       "    <tr>\n",
       "      <th>1</th>\n",
       "      <td>Commercial associate</td>\n",
       "      <td>Secondary / secondary special</td>\n",
       "      <td>Business Entity Type 3</td>\n",
       "      <td>block of flats</td>\n",
       "      <td>No</td>\n",
       "      <td>12966</td>\n",
       "      <td>5418</td>\n",
       "      <td>6621</td>\n",
       "      <td>4556</td>\n",
       "      <td>0</td>\n",
       "      <td>0</td>\n",
       "      <td>0.0</td>\n",
       "      <td>0</td>\n",
       "      <td>67500.0</td>\n",
       "      <td>202500.0</td>\n",
       "      <td>10125.0</td>\n",
       "      <td>202500.0</td>\n",
       "      <td>0.276370</td>\n",
       "      <td>0.646284</td>\n",
       "      <td>0.584990</td>\n",
       "    </tr>\n",
       "    <tr>\n",
       "      <th>2</th>\n",
       "      <td>Working</td>\n",
       "      <td>Secondary / secondary special</td>\n",
       "      <td>Self-employed</td>\n",
       "      <td>block of flats</td>\n",
       "      <td>No</td>\n",
       "      <td>11838</td>\n",
       "      <td>690</td>\n",
       "      <td>742</td>\n",
       "      <td>2405</td>\n",
       "      <td>0</td>\n",
       "      <td>0</td>\n",
       "      <td>0.0</td>\n",
       "      <td>134</td>\n",
       "      <td>112500.0</td>\n",
       "      <td>576837.0</td>\n",
       "      <td>16659.0</td>\n",
       "      <td>481500.0</td>\n",
       "      <td>0.183733</td>\n",
       "      <td>0.669266</td>\n",
       "      <td>0.742182</td>\n",
       "    </tr>\n",
       "    <tr>\n",
       "      <th>3</th>\n",
       "      <td>Working</td>\n",
       "      <td>Secondary / secondary special</td>\n",
       "      <td>Self-employed</td>\n",
       "      <td>NaN</td>\n",
       "      <td>NaN</td>\n",
       "      <td>18234</td>\n",
       "      <td>1421</td>\n",
       "      <td>3585</td>\n",
       "      <td>1786</td>\n",
       "      <td>0</td>\n",
       "      <td>1</td>\n",
       "      <td>0.0</td>\n",
       "      <td>372</td>\n",
       "      <td>135000.0</td>\n",
       "      <td>95940.0</td>\n",
       "      <td>10309.5</td>\n",
       "      <td>90000.0</td>\n",
       "      <td>NaN</td>\n",
       "      <td>0.616058</td>\n",
       "      <td>0.627991</td>\n",
       "    </tr>\n",
       "    <tr>\n",
       "      <th>4</th>\n",
       "      <td>Pensioner</td>\n",
       "      <td>Secondary / secondary special</td>\n",
       "      <td>XNA</td>\n",
       "      <td>NaN</td>\n",
       "      <td>NaN</td>\n",
       "      <td>21883</td>\n",
       "      <td>-365243</td>\n",
       "      <td>12216</td>\n",
       "      <td>4552</td>\n",
       "      <td>0</td>\n",
       "      <td>0</td>\n",
       "      <td>0.0</td>\n",
       "      <td>418</td>\n",
       "      <td>112500.0</td>\n",
       "      <td>678456.0</td>\n",
       "      <td>22014.0</td>\n",
       "      <td>486000.0</td>\n",
       "      <td>NaN</td>\n",
       "      <td>0.200775</td>\n",
       "      <td>0.761026</td>\n",
       "    </tr>\n",
       "    <tr>\n",
       "      <th>...</th>\n",
       "      <td>...</td>\n",
       "      <td>...</td>\n",
       "      <td>...</td>\n",
       "      <td>...</td>\n",
       "      <td>...</td>\n",
       "      <td>...</td>\n",
       "      <td>...</td>\n",
       "      <td>...</td>\n",
       "      <td>...</td>\n",
       "      <td>...</td>\n",
       "      <td>...</td>\n",
       "      <td>...</td>\n",
       "      <td>...</td>\n",
       "      <td>...</td>\n",
       "      <td>...</td>\n",
       "      <td>...</td>\n",
       "      <td>...</td>\n",
       "      <td>...</td>\n",
       "      <td>...</td>\n",
       "      <td>...</td>\n",
       "    </tr>\n",
       "    <tr>\n",
       "      <th>61498</th>\n",
       "      <td>Working</td>\n",
       "      <td>Secondary / secondary special</td>\n",
       "      <td>Self-employed</td>\n",
       "      <td>block of flats</td>\n",
       "      <td>No</td>\n",
       "      <td>17817</td>\n",
       "      <td>3503</td>\n",
       "      <td>2886</td>\n",
       "      <td>1371</td>\n",
       "      <td>1</td>\n",
       "      <td>1</td>\n",
       "      <td>0.0</td>\n",
       "      <td>1783</td>\n",
       "      <td>225000.0</td>\n",
       "      <td>472500.0</td>\n",
       "      <td>46161.0</td>\n",
       "      <td>454500.0</td>\n",
       "      <td>NaN</td>\n",
       "      <td>0.641852</td>\n",
       "      <td>NaN</td>\n",
       "    </tr>\n",
       "    <tr>\n",
       "      <th>61499</th>\n",
       "      <td>Pensioner</td>\n",
       "      <td>Secondary / secondary special</td>\n",
       "      <td>XNA</td>\n",
       "      <td>NaN</td>\n",
       "      <td>NaN</td>\n",
       "      <td>22836</td>\n",
       "      <td>-365243</td>\n",
       "      <td>395</td>\n",
       "      <td>4591</td>\n",
       "      <td>0</td>\n",
       "      <td>0</td>\n",
       "      <td>0.0</td>\n",
       "      <td>1095</td>\n",
       "      <td>112500.0</td>\n",
       "      <td>508495.5</td>\n",
       "      <td>24592.5</td>\n",
       "      <td>454500.0</td>\n",
       "      <td>NaN</td>\n",
       "      <td>0.297216</td>\n",
       "      <td>0.492060</td>\n",
       "    </tr>\n",
       "    <tr>\n",
       "      <th>61500</th>\n",
       "      <td>Pensioner</td>\n",
       "      <td>Secondary / secondary special</td>\n",
       "      <td>XNA</td>\n",
       "      <td>NaN</td>\n",
       "      <td>NaN</td>\n",
       "      <td>20014</td>\n",
       "      <td>-365243</td>\n",
       "      <td>10257</td>\n",
       "      <td>3524</td>\n",
       "      <td>0</td>\n",
       "      <td>0</td>\n",
       "      <td>0.0</td>\n",
       "      <td>799</td>\n",
       "      <td>157500.0</td>\n",
       "      <td>808650.0</td>\n",
       "      <td>23643.0</td>\n",
       "      <td>675000.0</td>\n",
       "      <td>NaN</td>\n",
       "      <td>0.596971</td>\n",
       "      <td>0.654529</td>\n",
       "    </tr>\n",
       "    <tr>\n",
       "      <th>61501</th>\n",
       "      <td>Commercial associate</td>\n",
       "      <td>Secondary / secondary special</td>\n",
       "      <td>Self-employed</td>\n",
       "      <td>NaN</td>\n",
       "      <td>NaN</td>\n",
       "      <td>8201</td>\n",
       "      <td>1381</td>\n",
       "      <td>1232</td>\n",
       "      <td>720</td>\n",
       "      <td>0</td>\n",
       "      <td>0</td>\n",
       "      <td>0.0</td>\n",
       "      <td>205</td>\n",
       "      <td>202500.0</td>\n",
       "      <td>590337.0</td>\n",
       "      <td>30271.5</td>\n",
       "      <td>477000.0</td>\n",
       "      <td>NaN</td>\n",
       "      <td>0.296855</td>\n",
       "      <td>0.701696</td>\n",
       "    </tr>\n",
       "    <tr>\n",
       "      <th>61502</th>\n",
       "      <td>Working</td>\n",
       "      <td>Higher education</td>\n",
       "      <td>Construction</td>\n",
       "      <td>block of flats</td>\n",
       "      <td>No</td>\n",
       "      <td>11009</td>\n",
       "      <td>4188</td>\n",
       "      <td>4605</td>\n",
       "      <td>3598</td>\n",
       "      <td>0</td>\n",
       "      <td>0</td>\n",
       "      <td>0.0</td>\n",
       "      <td>519</td>\n",
       "      <td>135000.0</td>\n",
       "      <td>78192.0</td>\n",
       "      <td>9409.5</td>\n",
       "      <td>67500.0</td>\n",
       "      <td>NaN</td>\n",
       "      <td>0.436956</td>\n",
       "      <td>NaN</td>\n",
       "    </tr>\n",
       "  </tbody>\n",
       "</table>\n",
       "<p>61503 rows × 20 columns</p>\n",
       "</div>"
      ],
      "text/plain": [
       "             NAMEINCOMETYPE              NAMEEDUCATIONTYPE  \\\n",
       "0                   Working               Higher education   \n",
       "1      Commercial associate  Secondary / secondary special   \n",
       "2                   Working  Secondary / secondary special   \n",
       "3                   Working  Secondary / secondary special   \n",
       "4                 Pensioner  Secondary / secondary special   \n",
       "...                     ...                            ...   \n",
       "61498               Working  Secondary / secondary special   \n",
       "61499             Pensioner  Secondary / secondary special   \n",
       "61500             Pensioner  Secondary / secondary special   \n",
       "61501  Commercial associate  Secondary / secondary special   \n",
       "61502               Working               Higher education   \n",
       "\n",
       "             ORGANIZATIONTYPE   HOUSETYPEMODE EMERGENCYSTATEMODE  DAYSBIRTH  \\\n",
       "0                  University             NaN                NaN      21105   \n",
       "1      Business Entity Type 3  block of flats                 No      12966   \n",
       "2               Self-employed  block of flats                 No      11838   \n",
       "3               Self-employed             NaN                NaN      18234   \n",
       "4                         XNA             NaN                NaN      21883   \n",
       "...                       ...             ...                ...        ...   \n",
       "61498           Self-employed  block of flats                 No      17817   \n",
       "61499                     XNA             NaN                NaN      22836   \n",
       "61500                     XNA             NaN                NaN      20014   \n",
       "61501           Self-employed             NaN                NaN       8201   \n",
       "61502            Construction  block of flats                 No      11009   \n",
       "\n",
       "       DAYSEMPLOYED  DAYSREGISTRATION  DAYSIDPUBLISH  REGCITYNOTLIVECITY  \\\n",
       "0              3747              4990           4647                   1   \n",
       "1              5418              6621           4556                   0   \n",
       "2               690               742           2405                   0   \n",
       "3              1421              3585           1786                   0   \n",
       "4           -365243             12216           4552                   0   \n",
       "...             ...               ...            ...                 ...   \n",
       "61498          3503              2886           1371                   1   \n",
       "61499       -365243               395           4591                   0   \n",
       "61500       -365243             10257           3524                   0   \n",
       "61501          1381              1232            720                   0   \n",
       "61502          4188              4605           3598                   0   \n",
       "\n",
       "       REGCITYNOTWORKCITY  DEF30CNTSOCIALCIRCLE  DAYSLASTPHONECHANGE  \\\n",
       "0                       0                   0.0                 1582   \n",
       "1                       0                   0.0                    0   \n",
       "2                       0                   0.0                  134   \n",
       "3                       1                   0.0                  372   \n",
       "4                       0                   0.0                  418   \n",
       "...                   ...                   ...                  ...   \n",
       "61498                   1                   0.0                 1783   \n",
       "61499                   0                   0.0                 1095   \n",
       "61500                   0                   0.0                  799   \n",
       "61501                   0                   0.0                  205   \n",
       "61502                   0                   0.0                  519   \n",
       "\n",
       "       AMTINCOMETOTAL  AMTCREDIT  AMTANNUITY  AMTGOODSPRICE  EXTSOURCE1  \\\n",
       "0            450000.0   900000.0     45000.0       900000.0         NaN   \n",
       "1             67500.0   202500.0     10125.0       202500.0    0.276370   \n",
       "2            112500.0   576837.0     16659.0       481500.0    0.183733   \n",
       "3            135000.0    95940.0     10309.5        90000.0         NaN   \n",
       "4            112500.0   678456.0     22014.0       486000.0         NaN   \n",
       "...               ...        ...         ...            ...         ...   \n",
       "61498        225000.0   472500.0     46161.0       454500.0         NaN   \n",
       "61499        112500.0   508495.5     24592.5       454500.0         NaN   \n",
       "61500        157500.0   808650.0     23643.0       675000.0         NaN   \n",
       "61501        202500.0   590337.0     30271.5       477000.0         NaN   \n",
       "61502        135000.0    78192.0      9409.5        67500.0         NaN   \n",
       "\n",
       "       EXTSOURCE2  EXTSOURCE3  \n",
       "0        0.741920         NaN  \n",
       "1        0.646284    0.584990  \n",
       "2        0.669266    0.742182  \n",
       "3        0.616058    0.627991  \n",
       "4        0.200775    0.761026  \n",
       "...           ...         ...  \n",
       "61498    0.641852         NaN  \n",
       "61499    0.297216    0.492060  \n",
       "61500    0.596971    0.654529  \n",
       "61501    0.296855    0.701696  \n",
       "61502    0.436956         NaN  \n",
       "\n",
       "[61503 rows x 20 columns]"
      ]
     },
     "execution_count": 181,
     "metadata": {},
     "output_type": "execute_result"
    }
   ],
   "source": [
    "df_teste_chi2 = df_teste[cols_chi2]\n",
    "df_teste_chi2"
   ]
  },
  {
   "cell_type": "code",
   "execution_count": null,
   "id": "01a18ed5",
   "metadata": {},
   "outputs": [],
   "source": []
  },
  {
   "cell_type": "code",
   "execution_count": 182,
   "id": "86a697cf",
   "metadata": {
    "ExecuteTime": {
     "end_time": "2022-03-14T00:28:06.136719Z",
     "start_time": "2022-03-14T00:28:06.032694Z"
    }
   },
   "outputs": [],
   "source": [
    "df_label_teste = df_teste_chi2[df_teste_chi2.select_dtypes('object').columns].apply(LabelEncoder().fit_transform)\n",
    "df_label_teste = pd.concat([df_label_teste, df_teste_chi2.select_dtypes(exclude='object')], axis=1)\n",
    "df_label_teste = df_label_teste.fillna(0)"
   ]
  },
  {
   "cell_type": "code",
   "execution_count": 183,
   "id": "652948fa",
   "metadata": {
    "ExecuteTime": {
     "end_time": "2022-03-14T00:28:06.168716Z",
     "start_time": "2022-03-14T00:28:06.136719Z"
    }
   },
   "outputs": [
    {
     "data": {
      "text/html": [
       "<div>\n",
       "<style scoped>\n",
       "    .dataframe tbody tr th:only-of-type {\n",
       "        vertical-align: middle;\n",
       "    }\n",
       "\n",
       "    .dataframe tbody tr th {\n",
       "        vertical-align: top;\n",
       "    }\n",
       "\n",
       "    .dataframe thead th {\n",
       "        text-align: right;\n",
       "    }\n",
       "</style>\n",
       "<table border=\"1\" class=\"dataframe\">\n",
       "  <thead>\n",
       "    <tr style=\"text-align: right;\">\n",
       "      <th></th>\n",
       "      <th>NAMEINCOMETYPE</th>\n",
       "      <th>NAMEEDUCATIONTYPE</th>\n",
       "      <th>ORGANIZATIONTYPE</th>\n",
       "      <th>HOUSETYPEMODE</th>\n",
       "      <th>EMERGENCYSTATEMODE</th>\n",
       "      <th>DAYSBIRTH</th>\n",
       "      <th>DAYSEMPLOYED</th>\n",
       "      <th>DAYSREGISTRATION</th>\n",
       "      <th>DAYSIDPUBLISH</th>\n",
       "      <th>REGCITYNOTLIVECITY</th>\n",
       "      <th>REGCITYNOTWORKCITY</th>\n",
       "      <th>DEF30CNTSOCIALCIRCLE</th>\n",
       "      <th>DAYSLASTPHONECHANGE</th>\n",
       "      <th>AMTINCOMETOTAL</th>\n",
       "      <th>AMTCREDIT</th>\n",
       "      <th>AMTANNUITY</th>\n",
       "      <th>AMTGOODSPRICE</th>\n",
       "      <th>EXTSOURCE1</th>\n",
       "      <th>EXTSOURCE2</th>\n",
       "      <th>EXTSOURCE3</th>\n",
       "    </tr>\n",
       "  </thead>\n",
       "  <tbody>\n",
       "    <tr>\n",
       "      <th>0</th>\n",
       "      <td>6</td>\n",
       "      <td>1</td>\n",
       "      <td>56</td>\n",
       "      <td>3</td>\n",
       "      <td>2</td>\n",
       "      <td>21105</td>\n",
       "      <td>3747</td>\n",
       "      <td>4990</td>\n",
       "      <td>4647</td>\n",
       "      <td>1</td>\n",
       "      <td>0</td>\n",
       "      <td>0.0</td>\n",
       "      <td>1582</td>\n",
       "      <td>450000.0</td>\n",
       "      <td>900000.0</td>\n",
       "      <td>45000.0</td>\n",
       "      <td>900000.0</td>\n",
       "      <td>0.000000</td>\n",
       "      <td>0.741920</td>\n",
       "      <td>0.000000</td>\n",
       "    </tr>\n",
       "    <tr>\n",
       "      <th>1</th>\n",
       "      <td>0</td>\n",
       "      <td>4</td>\n",
       "      <td>5</td>\n",
       "      <td>0</td>\n",
       "      <td>0</td>\n",
       "      <td>12966</td>\n",
       "      <td>5418</td>\n",
       "      <td>6621</td>\n",
       "      <td>4556</td>\n",
       "      <td>0</td>\n",
       "      <td>0</td>\n",
       "      <td>0.0</td>\n",
       "      <td>0</td>\n",
       "      <td>67500.0</td>\n",
       "      <td>202500.0</td>\n",
       "      <td>10125.0</td>\n",
       "      <td>202500.0</td>\n",
       "      <td>0.276370</td>\n",
       "      <td>0.646284</td>\n",
       "      <td>0.584990</td>\n",
       "    </tr>\n",
       "    <tr>\n",
       "      <th>2</th>\n",
       "      <td>6</td>\n",
       "      <td>4</td>\n",
       "      <td>42</td>\n",
       "      <td>0</td>\n",
       "      <td>0</td>\n",
       "      <td>11838</td>\n",
       "      <td>690</td>\n",
       "      <td>742</td>\n",
       "      <td>2405</td>\n",
       "      <td>0</td>\n",
       "      <td>0</td>\n",
       "      <td>0.0</td>\n",
       "      <td>134</td>\n",
       "      <td>112500.0</td>\n",
       "      <td>576837.0</td>\n",
       "      <td>16659.0</td>\n",
       "      <td>481500.0</td>\n",
       "      <td>0.183733</td>\n",
       "      <td>0.669266</td>\n",
       "      <td>0.742182</td>\n",
       "    </tr>\n",
       "    <tr>\n",
       "      <th>3</th>\n",
       "      <td>6</td>\n",
       "      <td>4</td>\n",
       "      <td>42</td>\n",
       "      <td>3</td>\n",
       "      <td>2</td>\n",
       "      <td>18234</td>\n",
       "      <td>1421</td>\n",
       "      <td>3585</td>\n",
       "      <td>1786</td>\n",
       "      <td>0</td>\n",
       "      <td>1</td>\n",
       "      <td>0.0</td>\n",
       "      <td>372</td>\n",
       "      <td>135000.0</td>\n",
       "      <td>95940.0</td>\n",
       "      <td>10309.5</td>\n",
       "      <td>90000.0</td>\n",
       "      <td>0.000000</td>\n",
       "      <td>0.616058</td>\n",
       "      <td>0.627991</td>\n",
       "    </tr>\n",
       "    <tr>\n",
       "      <th>4</th>\n",
       "      <td>2</td>\n",
       "      <td>4</td>\n",
       "      <td>57</td>\n",
       "      <td>3</td>\n",
       "      <td>2</td>\n",
       "      <td>21883</td>\n",
       "      <td>-365243</td>\n",
       "      <td>12216</td>\n",
       "      <td>4552</td>\n",
       "      <td>0</td>\n",
       "      <td>0</td>\n",
       "      <td>0.0</td>\n",
       "      <td>418</td>\n",
       "      <td>112500.0</td>\n",
       "      <td>678456.0</td>\n",
       "      <td>22014.0</td>\n",
       "      <td>486000.0</td>\n",
       "      <td>0.000000</td>\n",
       "      <td>0.200775</td>\n",
       "      <td>0.761026</td>\n",
       "    </tr>\n",
       "    <tr>\n",
       "      <th>...</th>\n",
       "      <td>...</td>\n",
       "      <td>...</td>\n",
       "      <td>...</td>\n",
       "      <td>...</td>\n",
       "      <td>...</td>\n",
       "      <td>...</td>\n",
       "      <td>...</td>\n",
       "      <td>...</td>\n",
       "      <td>...</td>\n",
       "      <td>...</td>\n",
       "      <td>...</td>\n",
       "      <td>...</td>\n",
       "      <td>...</td>\n",
       "      <td>...</td>\n",
       "      <td>...</td>\n",
       "      <td>...</td>\n",
       "      <td>...</td>\n",
       "      <td>...</td>\n",
       "      <td>...</td>\n",
       "      <td>...</td>\n",
       "    </tr>\n",
       "    <tr>\n",
       "      <th>61498</th>\n",
       "      <td>6</td>\n",
       "      <td>4</td>\n",
       "      <td>42</td>\n",
       "      <td>0</td>\n",
       "      <td>0</td>\n",
       "      <td>17817</td>\n",
       "      <td>3503</td>\n",
       "      <td>2886</td>\n",
       "      <td>1371</td>\n",
       "      <td>1</td>\n",
       "      <td>1</td>\n",
       "      <td>0.0</td>\n",
       "      <td>1783</td>\n",
       "      <td>225000.0</td>\n",
       "      <td>472500.0</td>\n",
       "      <td>46161.0</td>\n",
       "      <td>454500.0</td>\n",
       "      <td>0.000000</td>\n",
       "      <td>0.641852</td>\n",
       "      <td>0.000000</td>\n",
       "    </tr>\n",
       "    <tr>\n",
       "      <th>61499</th>\n",
       "      <td>2</td>\n",
       "      <td>4</td>\n",
       "      <td>57</td>\n",
       "      <td>3</td>\n",
       "      <td>2</td>\n",
       "      <td>22836</td>\n",
       "      <td>-365243</td>\n",
       "      <td>395</td>\n",
       "      <td>4591</td>\n",
       "      <td>0</td>\n",
       "      <td>0</td>\n",
       "      <td>0.0</td>\n",
       "      <td>1095</td>\n",
       "      <td>112500.0</td>\n",
       "      <td>508495.5</td>\n",
       "      <td>24592.5</td>\n",
       "      <td>454500.0</td>\n",
       "      <td>0.000000</td>\n",
       "      <td>0.297216</td>\n",
       "      <td>0.492060</td>\n",
       "    </tr>\n",
       "    <tr>\n",
       "      <th>61500</th>\n",
       "      <td>2</td>\n",
       "      <td>4</td>\n",
       "      <td>57</td>\n",
       "      <td>3</td>\n",
       "      <td>2</td>\n",
       "      <td>20014</td>\n",
       "      <td>-365243</td>\n",
       "      <td>10257</td>\n",
       "      <td>3524</td>\n",
       "      <td>0</td>\n",
       "      <td>0</td>\n",
       "      <td>0.0</td>\n",
       "      <td>799</td>\n",
       "      <td>157500.0</td>\n",
       "      <td>808650.0</td>\n",
       "      <td>23643.0</td>\n",
       "      <td>675000.0</td>\n",
       "      <td>0.000000</td>\n",
       "      <td>0.596971</td>\n",
       "      <td>0.654529</td>\n",
       "    </tr>\n",
       "    <tr>\n",
       "      <th>61501</th>\n",
       "      <td>0</td>\n",
       "      <td>4</td>\n",
       "      <td>42</td>\n",
       "      <td>3</td>\n",
       "      <td>2</td>\n",
       "      <td>8201</td>\n",
       "      <td>1381</td>\n",
       "      <td>1232</td>\n",
       "      <td>720</td>\n",
       "      <td>0</td>\n",
       "      <td>0</td>\n",
       "      <td>0.0</td>\n",
       "      <td>205</td>\n",
       "      <td>202500.0</td>\n",
       "      <td>590337.0</td>\n",
       "      <td>30271.5</td>\n",
       "      <td>477000.0</td>\n",
       "      <td>0.000000</td>\n",
       "      <td>0.296855</td>\n",
       "      <td>0.701696</td>\n",
       "    </tr>\n",
       "    <tr>\n",
       "      <th>61502</th>\n",
       "      <td>6</td>\n",
       "      <td>1</td>\n",
       "      <td>7</td>\n",
       "      <td>0</td>\n",
       "      <td>0</td>\n",
       "      <td>11009</td>\n",
       "      <td>4188</td>\n",
       "      <td>4605</td>\n",
       "      <td>3598</td>\n",
       "      <td>0</td>\n",
       "      <td>0</td>\n",
       "      <td>0.0</td>\n",
       "      <td>519</td>\n",
       "      <td>135000.0</td>\n",
       "      <td>78192.0</td>\n",
       "      <td>9409.5</td>\n",
       "      <td>67500.0</td>\n",
       "      <td>0.000000</td>\n",
       "      <td>0.436956</td>\n",
       "      <td>0.000000</td>\n",
       "    </tr>\n",
       "  </tbody>\n",
       "</table>\n",
       "<p>61503 rows × 20 columns</p>\n",
       "</div>"
      ],
      "text/plain": [
       "       NAMEINCOMETYPE  NAMEEDUCATIONTYPE  ORGANIZATIONTYPE  HOUSETYPEMODE  \\\n",
       "0                   6                  1                56              3   \n",
       "1                   0                  4                 5              0   \n",
       "2                   6                  4                42              0   \n",
       "3                   6                  4                42              3   \n",
       "4                   2                  4                57              3   \n",
       "...               ...                ...               ...            ...   \n",
       "61498               6                  4                42              0   \n",
       "61499               2                  4                57              3   \n",
       "61500               2                  4                57              3   \n",
       "61501               0                  4                42              3   \n",
       "61502               6                  1                 7              0   \n",
       "\n",
       "       EMERGENCYSTATEMODE  DAYSBIRTH  DAYSEMPLOYED  DAYSREGISTRATION  \\\n",
       "0                       2      21105          3747              4990   \n",
       "1                       0      12966          5418              6621   \n",
       "2                       0      11838           690               742   \n",
       "3                       2      18234          1421              3585   \n",
       "4                       2      21883       -365243             12216   \n",
       "...                   ...        ...           ...               ...   \n",
       "61498                   0      17817          3503              2886   \n",
       "61499                   2      22836       -365243               395   \n",
       "61500                   2      20014       -365243             10257   \n",
       "61501                   2       8201          1381              1232   \n",
       "61502                   0      11009          4188              4605   \n",
       "\n",
       "       DAYSIDPUBLISH  REGCITYNOTLIVECITY  REGCITYNOTWORKCITY  \\\n",
       "0               4647                   1                   0   \n",
       "1               4556                   0                   0   \n",
       "2               2405                   0                   0   \n",
       "3               1786                   0                   1   \n",
       "4               4552                   0                   0   \n",
       "...              ...                 ...                 ...   \n",
       "61498           1371                   1                   1   \n",
       "61499           4591                   0                   0   \n",
       "61500           3524                   0                   0   \n",
       "61501            720                   0                   0   \n",
       "61502           3598                   0                   0   \n",
       "\n",
       "       DEF30CNTSOCIALCIRCLE  DAYSLASTPHONECHANGE  AMTINCOMETOTAL  AMTCREDIT  \\\n",
       "0                       0.0                 1582        450000.0   900000.0   \n",
       "1                       0.0                    0         67500.0   202500.0   \n",
       "2                       0.0                  134        112500.0   576837.0   \n",
       "3                       0.0                  372        135000.0    95940.0   \n",
       "4                       0.0                  418        112500.0   678456.0   \n",
       "...                     ...                  ...             ...        ...   \n",
       "61498                   0.0                 1783        225000.0   472500.0   \n",
       "61499                   0.0                 1095        112500.0   508495.5   \n",
       "61500                   0.0                  799        157500.0   808650.0   \n",
       "61501                   0.0                  205        202500.0   590337.0   \n",
       "61502                   0.0                  519        135000.0    78192.0   \n",
       "\n",
       "       AMTANNUITY  AMTGOODSPRICE  EXTSOURCE1  EXTSOURCE2  EXTSOURCE3  \n",
       "0         45000.0       900000.0    0.000000    0.741920    0.000000  \n",
       "1         10125.0       202500.0    0.276370    0.646284    0.584990  \n",
       "2         16659.0       481500.0    0.183733    0.669266    0.742182  \n",
       "3         10309.5        90000.0    0.000000    0.616058    0.627991  \n",
       "4         22014.0       486000.0    0.000000    0.200775    0.761026  \n",
       "...           ...            ...         ...         ...         ...  \n",
       "61498     46161.0       454500.0    0.000000    0.641852    0.000000  \n",
       "61499     24592.5       454500.0    0.000000    0.297216    0.492060  \n",
       "61500     23643.0       675000.0    0.000000    0.596971    0.654529  \n",
       "61501     30271.5       477000.0    0.000000    0.296855    0.701696  \n",
       "61502      9409.5        67500.0    0.000000    0.436956    0.000000  \n",
       "\n",
       "[61503 rows x 20 columns]"
      ]
     },
     "execution_count": 183,
     "metadata": {},
     "output_type": "execute_result"
    }
   ],
   "source": [
    "df_label_teste"
   ]
  },
  {
   "cell_type": "markdown",
   "id": "b3b62bb5",
   "metadata": {},
   "source": [
    "## Execução da Classificação"
   ]
  },
  {
   "cell_type": "code",
   "execution_count": 184,
   "id": "339cce56",
   "metadata": {
    "ExecuteTime": {
     "end_time": "2022-03-14T00:28:06.408662Z",
     "start_time": "2022-03-14T00:28:06.168716Z"
    }
   },
   "outputs": [],
   "source": [
    "y_predict_test = modelo.predict(df_label_teste)\n",
    "y_proba_test = modelo.predict_proba(df_label_teste)"
   ]
  },
  {
   "cell_type": "code",
   "execution_count": null,
   "id": "45c321b5",
   "metadata": {},
   "outputs": [],
   "source": []
  },
  {
   "cell_type": "code",
   "execution_count": null,
   "id": "12b58466",
   "metadata": {},
   "outputs": [],
   "source": []
  },
  {
   "cell_type": "code",
   "execution_count": 187,
   "id": "dd9801ea",
   "metadata": {
    "ExecuteTime": {
     "end_time": "2022-03-14T00:28:06.497234Z",
     "start_time": "2022-03-14T00:28:06.481233Z"
    }
   },
   "outputs": [
    {
     "data": {
      "text/plain": [
       "0    61378\n",
       "1      125\n",
       "dtype: int64"
      ]
     },
     "execution_count": 187,
     "metadata": {},
     "output_type": "execute_result"
    }
   ],
   "source": [
    "pd.DataFrame(y_predict_test).value_counts()"
   ]
  },
  {
   "cell_type": "code",
   "execution_count": null,
   "id": "478229a3",
   "metadata": {},
   "outputs": [],
   "source": []
  },
  {
   "cell_type": "code",
   "execution_count": null,
   "id": "1f8ac6ce",
   "metadata": {},
   "outputs": [],
   "source": []
  },
  {
   "cell_type": "code",
   "execution_count": 188,
   "id": "74e63e6c",
   "metadata": {
    "ExecuteTime": {
     "end_time": "2022-03-14T00:28:06.513236Z",
     "start_time": "2022-03-14T00:28:06.497234Z"
    }
   },
   "outputs": [
    {
     "data": {
      "text/html": [
       "<div>\n",
       "<style scoped>\n",
       "    .dataframe tbody tr th:only-of-type {\n",
       "        vertical-align: middle;\n",
       "    }\n",
       "\n",
       "    .dataframe tbody tr th {\n",
       "        vertical-align: top;\n",
       "    }\n",
       "\n",
       "    .dataframe thead th {\n",
       "        text-align: right;\n",
       "    }\n",
       "</style>\n",
       "<table border=\"1\" class=\"dataframe\">\n",
       "  <thead>\n",
       "    <tr style=\"text-align: right;\">\n",
       "      <th></th>\n",
       "      <th>SKIDCURR</th>\n",
       "      <th>Predict</th>\n",
       "      <th>Proba</th>\n",
       "    </tr>\n",
       "  </thead>\n",
       "  <tbody>\n",
       "    <tr>\n",
       "      <th>0</th>\n",
       "      <td>202448</td>\n",
       "      <td>0</td>\n",
       "      <td>0.021962</td>\n",
       "    </tr>\n",
       "    <tr>\n",
       "      <th>1</th>\n",
       "      <td>393664</td>\n",
       "      <td>0</td>\n",
       "      <td>0.022465</td>\n",
       "    </tr>\n",
       "    <tr>\n",
       "      <th>2</th>\n",
       "      <td>315374</td>\n",
       "      <td>0</td>\n",
       "      <td>0.030962</td>\n",
       "    </tr>\n",
       "    <tr>\n",
       "      <th>3</th>\n",
       "      <td>412331</td>\n",
       "      <td>0</td>\n",
       "      <td>0.047391</td>\n",
       "    </tr>\n",
       "    <tr>\n",
       "      <th>4</th>\n",
       "      <td>218860</td>\n",
       "      <td>0</td>\n",
       "      <td>0.055672</td>\n",
       "    </tr>\n",
       "    <tr>\n",
       "      <th>...</th>\n",
       "      <td>...</td>\n",
       "      <td>...</td>\n",
       "      <td>...</td>\n",
       "    </tr>\n",
       "    <tr>\n",
       "      <th>61498</th>\n",
       "      <td>102817</td>\n",
       "      <td>0</td>\n",
       "      <td>0.045978</td>\n",
       "    </tr>\n",
       "    <tr>\n",
       "      <th>61499</th>\n",
       "      <td>343961</td>\n",
       "      <td>0</td>\n",
       "      <td>0.053408</td>\n",
       "    </tr>\n",
       "    <tr>\n",
       "      <th>61500</th>\n",
       "      <td>427828</td>\n",
       "      <td>0</td>\n",
       "      <td>0.035071</td>\n",
       "    </tr>\n",
       "    <tr>\n",
       "      <th>61501</th>\n",
       "      <td>405956</td>\n",
       "      <td>0</td>\n",
       "      <td>0.081886</td>\n",
       "    </tr>\n",
       "    <tr>\n",
       "      <th>61502</th>\n",
       "      <td>425814</td>\n",
       "      <td>0</td>\n",
       "      <td>0.047706</td>\n",
       "    </tr>\n",
       "  </tbody>\n",
       "</table>\n",
       "<p>61503 rows × 3 columns</p>\n",
       "</div>"
      ],
      "text/plain": [
       "       SKIDCURR  Predict     Proba\n",
       "0        202448        0  0.021962\n",
       "1        393664        0  0.022465\n",
       "2        315374        0  0.030962\n",
       "3        412331        0  0.047391\n",
       "4        218860        0  0.055672\n",
       "...         ...      ...       ...\n",
       "61498    102817        0  0.045978\n",
       "61499    343961        0  0.053408\n",
       "61500    427828        0  0.035071\n",
       "61501    405956        0  0.081886\n",
       "61502    425814        0  0.047706\n",
       "\n",
       "[61503 rows x 3 columns]"
      ]
     },
     "execution_count": 188,
     "metadata": {},
     "output_type": "execute_result"
    }
   ],
   "source": [
    "\n",
    "df_resultado = pd.concat([df_teste[['SKIDCURR']], pd.DataFrame(y_predict_test, columns=['Predict']), pd.DataFrame(y_proba_test[:,1], columns=['Proba'])], axis=1)\n",
    "df_resultado"
   ]
  },
  {
   "cell_type": "code",
   "execution_count": 189,
   "id": "6a0288ec",
   "metadata": {
    "ExecuteTime": {
     "end_time": "2022-03-14T00:28:06.529239Z",
     "start_time": "2022-03-14T00:28:06.513236Z"
    }
   },
   "outputs": [
    {
     "data": {
      "text/plain": [
       "0    61378\n",
       "1      125\n",
       "Name: Predict, dtype: int64"
      ]
     },
     "execution_count": 189,
     "metadata": {},
     "output_type": "execute_result"
    }
   ],
   "source": [
    "df_resultado['Predict'].value_counts()"
   ]
  },
  {
   "cell_type": "code",
   "execution_count": 190,
   "id": "878d490e",
   "metadata": {
    "ExecuteTime": {
     "end_time": "2022-03-14T00:28:06.721498Z",
     "start_time": "2022-03-14T00:28:06.529239Z"
    }
   },
   "outputs": [],
   "source": [
    "df_resultado.to_csv('resultado_classificacao_teste.csv')\n"
   ]
  },
  {
   "cell_type": "code",
   "execution_count": null,
   "id": "ebbe2ae7",
   "metadata": {},
   "outputs": [],
   "source": []
  },
  {
   "cell_type": "code",
   "execution_count": null,
   "id": "9b939da3",
   "metadata": {},
   "outputs": [],
   "source": []
  },
  {
   "cell_type": "code",
   "execution_count": null,
   "id": "1d3b4d4f",
   "metadata": {},
   "outputs": [],
   "source": []
  }
 ],
 "metadata": {
  "kernelspec": {
   "display_name": "Python 3 (ipykernel)",
   "language": "python",
   "name": "python3"
  },
  "language_info": {
   "codemirror_mode": {
    "name": "ipython",
    "version": 3
   },
   "file_extension": ".py",
   "mimetype": "text/x-python",
   "name": "python",
   "nbconvert_exporter": "python",
   "pygments_lexer": "ipython3",
   "version": "3.9.7"
  },
  "toc": {
   "base_numbering": 1,
   "nav_menu": {},
   "number_sections": true,
   "sideBar": true,
   "skip_h1_title": false,
   "title_cell": "Table of Contents",
   "title_sidebar": "Contents",
   "toc_cell": false,
   "toc_position": {
    "height": "797px",
    "left": "21px",
    "top": "111.125px",
    "width": "306px"
   },
   "toc_section_display": true,
   "toc_window_display": true
  },
  "varInspector": {
   "cols": {
    "lenName": 16,
    "lenType": 16,
    "lenVar": 40
   },
   "kernels_config": {
    "python": {
     "delete_cmd_postfix": "",
     "delete_cmd_prefix": "del ",
     "library": "var_list.py",
     "varRefreshCmd": "print(var_dic_list())"
    },
    "r": {
     "delete_cmd_postfix": ") ",
     "delete_cmd_prefix": "rm(",
     "library": "var_list.r",
     "varRefreshCmd": "cat(var_dic_list()) "
    }
   },
   "oldHeight": 473.844,
   "position": {
    "height": "495.844px",
    "left": "1532px",
    "right": "20px",
    "top": "119px",
    "width": "350px"
   },
   "types_to_exclude": [
    "module",
    "function",
    "builtin_function_or_method",
    "instance",
    "_Feature"
   ],
   "varInspector_section_display": "block",
   "window_display": false
  }
 },
 "nbformat": 4,
 "nbformat_minor": 5
}
